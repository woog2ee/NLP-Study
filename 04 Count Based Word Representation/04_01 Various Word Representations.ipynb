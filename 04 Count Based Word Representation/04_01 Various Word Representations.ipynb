{
 "cells": [
  {
   "cell_type": "markdown",
   "id": "sublime-george",
   "metadata": {},
   "source": [
    "# 1. 단어 표현 방법\n",
    "Local Representation은 해당 단어만 표현하고자 특정값 매핑   \n",
    "Distributed Representation은 해당 단어를 표현하고자 주변 단어 참고"
   ]
  },
  {
   "cell_type": "markdown",
   "id": "uniform-lender",
   "metadata": {},
   "source": [
    "# 2. 단어 표현 카테고리화\n",
    "- Local Representation\n",
    "    - One-hot Vector\n",
    "    - N-gram\n",
    "    - Count Based\n",
    "        - Bag of Words(DTM)\n",
    "    \n",
    "- Continuous Representation\n",
    "    - Prediction Based\n",
    "        - Word2Vec(FastText)\n",
    "    - Count Based\n",
    "        - (Full Document) LSA\n",
    "        - (Windows, also Prediction Based) GloVe   \n",
    "\n",
    "Bag of Words: 카운트 기반 수치화   \n",
    "DTM: BoW 확장   \n",
    "TF-IDF: 카운트 기반에 가중치 부여   \n",
    "LSA: 단어 뉘앙스 표현   \n",
    "Word2Vec: 예측 기반 단어 뉘앙스 표현   \n",
    "FastText: Word2Vec 확장   \n",
    "GloVe: 카운트와 예측 모두 사용"
   ]
  }
 ],
 "metadata": {
  "kernelspec": {
   "display_name": "Python 3",
   "language": "python",
   "name": "python3"
  },
  "language_info": {
   "codemirror_mode": {
    "name": "ipython",
    "version": 3
   },
   "file_extension": ".py",
   "mimetype": "text/x-python",
   "name": "python",
   "nbconvert_exporter": "python",
   "pygments_lexer": "ipython3",
   "version": "3.8.8"
  }
 },
 "nbformat": 4,
 "nbformat_minor": 5
}
