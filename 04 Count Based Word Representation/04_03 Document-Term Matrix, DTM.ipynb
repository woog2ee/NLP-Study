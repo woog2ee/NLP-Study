{
 "cells": [
  {
   "cell_type": "markdown",
   "id": "amateur-covering",
   "metadata": {},
   "source": [
    "# 1. Document-Term Matrix\n",
    "문서들에 등장한 단어 빈도를 행렬화 \n",
    "\n",
    "문서1: 먹고 싶은 사과   \n",
    "문서2: 먹고 싶은 바나나   \n",
    "문서3: 길고 노란 바나나 바나나   \n",
    "문서4: 저는 과일이 좋아요\n",
    "\n",
    "<null>|과일이|길고|노란|먹고|바나나|사과|싶은|저는|좋아요\n",
    ":--|:-:|:-:|:-:|:-:|:-:|:-:|:-:|:-:|:-:\n",
    "문서1|0|0|0|1|0|1|1|0|0\n",
    "문서2|0|0|0|1|1|0|1|0|0\n",
    "문서3|0|1|1|0|2|0|0|0|0\n",
    "문서4|1|0|0|0|0|0|0|1|1"
   ]
  },
  {
   "cell_type": "markdown",
   "id": "capable-dressing",
   "metadata": {},
   "source": [
    "# 2. DTM 한계\n",
    "> **1) Sparse representation**   \n",
    "> 단어 집합 크기로 벡터 차원이 결정되며 대부분 값이 0"
   ]
  },
  {
   "cell_type": "markdown",
   "id": "incorporated-filter",
   "metadata": {},
   "source": [
    "> **2) 단순 빈도수 기반**   \n",
    "> 불용어 빈도수가 높다고 유사 문서는 아님"
   ]
  }
 ],
 "metadata": {
  "kernelspec": {
   "display_name": "Python 3",
   "language": "python",
   "name": "python3"
  },
  "language_info": {
   "codemirror_mode": {
    "name": "ipython",
    "version": 3
   },
   "file_extension": ".py",
   "mimetype": "text/x-python",
   "name": "python",
   "nbconvert_exporter": "python",
   "pygments_lexer": "ipython3",
   "version": "3.8.8"
  }
 },
 "nbformat": 4,
 "nbformat_minor": 5
}
