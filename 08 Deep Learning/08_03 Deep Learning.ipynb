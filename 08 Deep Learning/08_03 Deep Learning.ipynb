{
 "cells": [
  {
   "cell_type": "markdown",
   "id": "desirable-speaker",
   "metadata": {},
   "source": [
    "# 1. Forward Propagation\n",
    "입력값은 입력층과 은닉층, 출력층을 지남\n",
    "![Forward Propagation](https://wikidocs.net/images/page/36033/%EC%88%9C%EC%A0%84%ED%8C%8C.PNG \"Forward Propagation\")"
   ]
  },
  {
   "cell_type": "markdown",
   "id": "american-favorite",
   "metadata": {},
   "source": [
    "# 2. Loss Function\n",
    "실제값과 예측값 차이 수치화\n",
    "![Loss Function](https://wikidocs.net/images/page/36033/%EC%86%90%EC%8B%A4%ED%95%A8%EC%88%98.PNG \"Loss Function\")\n",
    "> **1) Mean Squared Error**   \n",
    "> 회귀에서 사용\n",
    "> $$-\\frac{1}{N}\\sum(y-\\hat{y})^{2}$$"
   ]
  },
  {
   "cell_type": "markdown",
   "id": "fluid-administration",
   "metadata": {},
   "source": [
    "> **2) Cross Entropy**   \n",
    "> 분류에서 사용\n",
    "> $$-\\sum ylog\\hat{y}$$"
   ]
  },
  {
   "cell_type": "code",
   "execution_count": 1,
   "id": "forced-vietnamese",
   "metadata": {},
   "outputs": [],
   "source": [
    "# 이진 분류\n",
    "# model.compile(loss='binary_crossentropy', optimizer='adam', metrics=['acc'])\n",
    "\n",
    "# 다중 분류\n",
    "# model.compile(loss='categorical_crossentropy', optimizer='adam', metrics=['acc'])"
   ]
  },
  {
   "cell_type": "markdown",
   "id": "seventh-strip",
   "metadata": {},
   "source": [
    "# 3. Optimizer\n",
    "매개변수를 조정하고자 Batch로 나눠 진행\n",
    "![Optimizer](https://wikidocs.net/images/page/36033/%EC%97%AD%EC%A0%84%ED%8C%8C_%EA%B3%BC%EC%A0%95.PNG \"Optimizer\")\n",
    "> **1) Batch Gradient Descent**   \n",
    "> 모든 데이터에서 매개변수 업데이트   \n",
    "> 오래 걸리나 global minimum 탐색 가능"
   ]
  },
  {
   "cell_type": "code",
   "execution_count": 2,
   "id": "dedicated-nursery",
   "metadata": {},
   "outputs": [],
   "source": [
    "# model.fit(X_train, y_train, batch_size=len(train_X))"
   ]
  },
  {
   "cell_type": "markdown",
   "id": "billion-circulation",
   "metadata": {},
   "source": [
    "> **2) Stochastic Gradient Descent**   \n",
    "> 선택한 데이터에서 매개변수 업데이트   \n",
    "> 정확도가 낮을 수 있으나 속도가 빠름\n",
    "> ![Stochastic Gradient Descent](https://wikidocs.net/images/page/24987/%EA%B2%BD%EC%82%AC%ED%95%98%EA%B0%95%EB%B2%95SGD.PNG \"Stochastic Gradient Descent\")"
   ]
  },
  {
   "cell_type": "markdown",
   "id": "ignored-indian",
   "metadata": {},
   "source": [
    "> **3) Mini-Batch Gradient Descent**   \n",
    "> 정해진 양에서만 매개변수 업데이트   \n",
    "> GD보다 빠르며, SGD보다 안정적"
   ]
  },
  {
   "cell_type": "code",
   "execution_count": 3,
   "id": "german-respect",
   "metadata": {},
   "outputs": [],
   "source": [
    "# model.fit(X_train, y_train, batch_size=32)"
   ]
  },
  {
   "cell_type": "markdown",
   "id": "false-opportunity",
   "metadata": {},
   "source": [
    "> **4) Momentum**   \n",
    "> 해당 시점 직전의 접선 기울기 반영   \n",
    "> 언덕에서 내려온 공이 작은 웅덩이를 관성으로 넘어서는 효과\n",
    "> ![Momentum](https://wikidocs.net/images/page/24987/%EB%A1%9C%EC%BB%AC%EB%AF%B8%EB%8B%88%EB%A9%88.PNG \"Momentum\")"
   ]
  },
  {
   "cell_type": "code",
   "execution_count": 4,
   "id": "enhanced-puppy",
   "metadata": {},
   "outputs": [],
   "source": [
    "# keras.optimizers.SGD(lr=0.01, momentum=0.9)"
   ]
  },
  {
   "cell_type": "markdown",
   "id": "known-boulder",
   "metadata": {},
   "source": [
    "> **5) Adagrad**   \n",
    "> 각 매개변수에 서로 다른 학습률 적용"
   ]
  },
  {
   "cell_type": "code",
   "execution_count": 5,
   "id": "combined-score",
   "metadata": {},
   "outputs": [],
   "source": [
    "# keras.optimizers.Adagrad(lr=0.01, epsilon=1e-6)"
   ]
  },
  {
   "cell_type": "markdown",
   "id": "hybrid-marsh",
   "metadata": {},
   "source": [
    "> **6) RMSprop**   \n",
    "> 업데이트 후반 학습률이 떨어지는 문제 보완"
   ]
  },
  {
   "cell_type": "code",
   "execution_count": 6,
   "id": "solid-simon",
   "metadata": {},
   "outputs": [],
   "source": [
    "# keras.optimizers.RMSprop(lr=0.001, rho=0.9, epsilon=1e-06)"
   ]
  },
  {
   "cell_type": "markdown",
   "id": "amended-palestine",
   "metadata": {},
   "source": [
    "> **8) Adam**   \n",
    "> Momentum과 RMSprop을 합친 방법"
   ]
  },
  {
   "cell_type": "code",
   "execution_count": 7,
   "id": "christian-pittsburgh",
   "metadata": {},
   "outputs": [],
   "source": [
    "# keras.optimizers.Adam(lr=0.001, beta_1=0.9, beta_2=0.999, epsilon=None, decay=0.0, amsgrad=False)"
   ]
  },
  {
   "cell_type": "markdown",
   "id": "sensitive-homeless",
   "metadata": {},
   "source": [
    "# 4. Epochs with Iteration\n",
    "![Epochs with Iteration](https://wikidocs.net/images/page/36033/batchandepochiteration.PNG \"Epochs with Iteration\")\n",
    "> **1) Epoch**   \n",
    "> 전체 데이터에서 순전파와 역전파가 끝난 상태"
   ]
  },
  {
   "cell_type": "markdown",
   "id": "local-hotel",
   "metadata": {},
   "source": [
    "> **2) Batch Size**   \n",
    "> 몇 개 데이터 단위로 업데이트할지 표현"
   ]
  },
  {
   "cell_type": "markdown",
   "id": "enormous-cornell",
   "metadata": {},
   "source": [
    "> **3) Iteration**   \n",
    "> 한 에포크를 구성하는 업데이트 횟수 "
   ]
  }
 ],
 "metadata": {
  "kernelspec": {
   "display_name": "Python 3",
   "language": "python",
   "name": "python3"
  },
  "language_info": {
   "codemirror_mode": {
    "name": "ipython",
    "version": 3
   },
   "file_extension": ".py",
   "mimetype": "text/x-python",
   "name": "python",
   "nbconvert_exporter": "python",
   "pygments_lexer": "ipython3",
   "version": "3.8.8"
  }
 },
 "nbformat": 4,
 "nbformat_minor": 5
}
