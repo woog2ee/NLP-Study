{
 "cells": [
  {
   "cell_type": "markdown",
   "id": "contrary-sandwich",
   "metadata": {},
   "source": [
    "# 1. Perceptron\n",
    "초기 형태 인공 신경망으로 다수 입력에서 결과를 내보냄\n",
    "![Perceptron](https://wikidocs.net/images/page/24958/perceptrin1_final.PNG \"Perceptron\")\n",
    "\n",
    "가중치곱 합과 threshold 관계 표현\n",
    "$$if\\,\\sum_{i}^{n}W_{i}x_{i} \\geq \\theta \\rightarrow y = 1$$\n",
    "$$if\\,\\sum_{i}^{n}W_{i}x_{i} < \\theta \\rightarrow y = 0$$\n",
    "\n",
    "임계치를 좌변으로 넘겨 bias 표현\n",
    "$$if\\,\\sum_{i}^{n}W_{i}x_{i} + b \\geq 0 \\rightarrow y = 1$$\n",
    "$$if\\,\\sum_{i}^{n}W_{i}x_{i} + b < 0 \\rightarrow y = 0$$\n",
    "\n",
    "퍼셉트론은 신경 세포 뉴런과 유사   \n",
    "신호를 전달하는 축삭돌기를 가중치가 대신함\n",
    "![Neuron](https://wikidocs.net/images/page/24958/%EB%89%B4%EB%9F%B0.PNG \"Neuron\")"
   ]
  },
  {
   "cell_type": "markdown",
   "id": "everyday-discrimination",
   "metadata": {},
   "source": [
    "# 2. Single-Layer Perceptron\n",
    "입력층과 출력층으로만 구성\n",
    "![Single-Layer Perceptron](https://wikidocs.net/images/page/24958/perceptron3_final.PNG \"Single-Layer Perceptron\")\n",
    "\n",
    "AND 게이트 단층 퍼셉트론 시각화   \n",
    "단층 퍼셉트론은 선형 영역만 분리\n",
    "![AND Gate](https://wikidocs.net/images/page/24958/andgraphgate.PNG \"AND Gate\")\n",
    "\n",
    "XOR 게이트 단층 퍼셉트론 시각화   \n",
    "다층 퍼셉트론으로 비선형 영역 분리\n",
    "![XOR Gate](https://wikidocs.net/images/page/24958/xorgraphandxorgate.PNG \"XOR Gate\")"
   ]
  },
  {
   "cell_type": "markdown",
   "id": "quantitative-sheet",
   "metadata": {},
   "source": [
    "# 3. Multi-Layer Perceptron\n",
    "입력층과 출력층 사이 은닉층 존재\n",
    "![Multi-Layer Perceptron](https://wikidocs.net/images/page/24958/perceptron_4image.jpg \"Multi-Layer Perceptron\")\n",
    "   \n",
    "**딥러닝(Deep Learning)**은 은닉층 2개 이상인 '심층 신경망(Deep Neural Network)을 학습한다'는 표현\n",
    "![Deep Neural Network](https://wikidocs.net/images/page/24958/%EC%9E%85%EC%9D%80%EC%B8%B5.PNG \"Deep Neural Network\")"
   ]
  }
 ],
 "metadata": {
  "kernelspec": {
   "display_name": "Python 3",
   "language": "python",
   "name": "python3"
  },
  "language_info": {
   "codemirror_mode": {
    "name": "ipython",
    "version": 3
   },
   "file_extension": ".py",
   "mimetype": "text/x-python",
   "name": "python",
   "nbconvert_exporter": "python",
   "pygments_lexer": "ipython3",
   "version": "3.8.8"
  }
 },
 "nbformat": 4,
 "nbformat_minor": 5
}
