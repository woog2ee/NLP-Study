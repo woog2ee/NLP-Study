{
 "cells": [
  {
   "cell_type": "markdown",
   "id": "saving-brook",
   "metadata": {},
   "source": [
    "# 1. Sequential API\n",
    "직관적이나 복잡한 인공 신경망 구현 불가"
   ]
  },
  {
   "cell_type": "code",
   "execution_count": 1,
   "id": "above-actor",
   "metadata": {},
   "outputs": [],
   "source": [
    "from tensorflow.keras.models import Sequential\n",
    "from tensorflow.keras.layers import Dense\n",
    "\n",
    "model = Sequential()\n",
    "model.add(Dense(3, input_dim=4, activation='softmax'))"
   ]
  },
  {
   "cell_type": "markdown",
   "id": "brazilian-remove",
   "metadata": {},
   "source": [
    "# 2. Functional API\n",
    "각 층을 함수로 정의   \n",
    "\n",
    "> **1) Fully-Connected FFNN**   \n",
    "> 이전층을 다음층 입력으로 사용"
   ]
  },
  {
   "cell_type": "code",
   "execution_count": 2,
   "id": "opened-design",
   "metadata": {},
   "outputs": [],
   "source": [
    "from tensorflow.keras.models import Sequential, Model\n",
    "from tensorflow.keras.layers import Input, Dense\n",
    "\n",
    "inputs = Input(shape=(10,))\n",
    "hidden1 = Dense(64, activation='relu')(inputs)\n",
    "hidden2 = Dense(64, activation='relu')(hidden1)\n",
    "output = Dense(1, activation='sigmoid')(hidden2)\n",
    "\n",
    "model = Model(inputs=inputs, outputs=output)\n",
    "model.compile(optimizer='rmsprop', loss='categorical_crossentropy', metrics=['accuracy'])\n",
    "\n",
    "# model.fit(data, labels)"
   ]
  },
  {
   "cell_type": "markdown",
   "id": "acute-mongolia",
   "metadata": {},
   "source": [
    "> **2) Linear Regression**"
   ]
  },
  {
   "cell_type": "code",
   "execution_count": 3,
   "id": "romantic-parent",
   "metadata": {},
   "outputs": [],
   "source": [
    "from tensorflow.keras.models import Model\n",
    "from tensorflow.keras.layers import Input, Dense\n",
    "\n",
    "inputs = Input(shape=(3,))\n",
    "output = Dense(1, activation='linear')(inputs)\n",
    "\n",
    "linear_model = Model(inputs, output)\n",
    "linear_model.compile(optimizer='sgd', loss='mse')\n",
    "\n",
    "# linear_model.fit(x=dat_test, y=y_cts_test, epochs=50, verbose=0)\n",
    "# linear_model.fit(x=dat_test, y=y_cts_test, epochs=1, verbose=1)"
   ]
  },
  {
   "cell_type": "markdown",
   "id": "timely-still",
   "metadata": {},
   "source": [
    "> **3) Logistic Regresion**"
   ]
  },
  {
   "cell_type": "code",
   "execution_count": 4,
   "id": "religious-auditor",
   "metadata": {},
   "outputs": [],
   "source": [
    "from tensorflow.keras.models import Model\n",
    "from tensorflow.keras.layers import Input, Dense\n",
    "\n",
    "inputs = Input(shape=(3,))\n",
    "output = Dense(1, activation='sigmoid')(inputs)\n",
    "\n",
    "logistic_model = Model(inputs, output)\n",
    "logistic_model.compile(optimizer='sgd', loss='binary_crossentropy', metrics=['accuracy'])\n",
    "\n",
    "# logistic_model.optimizer.lr = 0.001\n",
    "# logistic_model.fit(x=dat_train, y_classifier_train, epochs=5, validation_data=(dat_test,y_classifier_test))"
   ]
  },
  {
   "cell_type": "markdown",
   "id": "exceptional-visit",
   "metadata": {},
   "source": [
    "> **4) Model that accepts Multiple Inputs**"
   ]
  },
  {
   "cell_type": "code",
   "execution_count": 5,
   "id": "sized-mambo",
   "metadata": {},
   "outputs": [],
   "source": [
    "from tensorflow.keras.models import Model\n",
    "from tensorflow.keras.layers import Input, Dense, concatenate\n",
    "\n",
    "inputA = Input(shape=(64,))\n",
    "inputB = Input(shape=(128,))\n",
    "\n",
    "x = Dense(16, activation='relu')(inputA)\n",
    "x = Dense(8, activation='relu')(x)\n",
    "x = Model(inputs=inputA, outputs=x)\n",
    "\n",
    "y = Dense(64, activation='relu')(inputB)\n",
    "y = Dense(32, activation='relu')(y)\n",
    "y = Dense(8, activation='relu')(y)\n",
    "y = Model(inputs=inputB, outputs=y)\n",
    "\n",
    "result = concatenate([x.output, y.output])\n",
    "\n",
    "z = Dense(2, activation='relu')(result)\n",
    "z = Dense(1, activation='linear')(z)\n",
    "z = Model(inputs=[x.input, y.input], outputs=z)"
   ]
  }
 ],
 "metadata": {
  "kernelspec": {
   "display_name": "Python 3",
   "language": "python",
   "name": "python3"
  },
  "language_info": {
   "codemirror_mode": {
    "name": "ipython",
    "version": 3
   },
   "file_extension": ".py",
   "mimetype": "text/x-python",
   "name": "python",
   "nbconvert_exporter": "python",
   "pygments_lexer": "ipython3",
   "version": "3.8.8"
  }
 },
 "nbformat": 4,
 "nbformat_minor": 5
}
