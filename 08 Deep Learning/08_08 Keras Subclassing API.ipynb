{
 "cells": [
  {
   "cell_type": "markdown",
   "id": "early-carrier",
   "metadata": {},
   "source": [
    "# 1. Subclassing API \n",
    "![Subclassing API](https://wikidocs.net/images/page/106897/1_WzwKtnA0LEhiCGdWTTpLaA.png \"SubclassingAPI\")\n",
    "> **1) Linear Regression**"
   ]
  },
  {
   "cell_type": "code",
   "execution_count": 1,
   "id": "drawn-belize",
   "metadata": {},
   "outputs": [],
   "source": [
    "import tensorflow as tf\n",
    "\n",
    "class LinearRegression(tf.keras.Model):\n",
    "    def __int__(self):\n",
    "        super(LinearRegression, self).__init__()\n",
    "        self.linear_layer = tf.keras.layers.Dense(1, input_dim=1, activation='linear')\n",
    "        \n",
    "    def call(self, x):\n",
    "        y_pred = self.linear_layer(x)\n",
    "        return y_pred"
   ]
  },
  {
   "cell_type": "code",
   "execution_count": 2,
   "id": "silver-elements",
   "metadata": {},
   "outputs": [],
   "source": [
    "X = [1, 2, 3, 4, 5, 6, 7, 8, 9]\n",
    "y = [11, 22, 33, 44, 53, 66, 77, 87, 95]\n",
    "\n",
    "model = LinearRegression()\n",
    "sgd = tf.keras.optimizers.SGD(lr=0.01)\n",
    "model.compile(optimizer=sgd, loss='mse', metrics=['mse'])\n",
    "\n",
    "# model.fit(X, y, batch_size=1, epochs=300, shuffle=False)"
   ]
  },
  {
   "cell_type": "markdown",
   "id": "brave-interval",
   "metadata": {},
   "source": [
    "# 2. 구현 방식 비교\n",
    "> **1) Sequential API**   \n",
    "> 장점: 단순하게 층을 쌓는 방식   \n",
    "> 단점: 다수 입출력과 층간 연산에 부적합"
   ]
  },
  {
   "cell_type": "markdown",
   "id": "according-raleigh",
   "metadata": {},
   "source": [
    "> **2) Functional API**   \n",
    "> 장점: Sequential API보다 복잡한 모델 구현   \n",
    "> 단점: 입력층을 모델 앞단에 정의해야 함"
   ]
  },
  {
   "cell_type": "markdown",
   "id": "forward-career",
   "metadata": {},
   "source": [
    "> **3) Subclassing API**   \n",
    "> 장점: Functional API보다 복잡한 모델 구현   \n",
    "> 단점: 객체지향으로 코드 사용이 까다로움"
   ]
  }
 ],
 "metadata": {
  "kernelspec": {
   "display_name": "Python 3",
   "language": "python",
   "name": "python3"
  },
  "language_info": {
   "codemirror_mode": {
    "name": "ipython",
    "version": 3
   },
   "file_extension": ".py",
   "mimetype": "text/x-python",
   "name": "python",
   "nbconvert_exporter": "python",
   "pygments_lexer": "ipython3",
   "version": "3.8.8"
  }
 },
 "nbformat": 4,
 "nbformat_minor": 5
}
