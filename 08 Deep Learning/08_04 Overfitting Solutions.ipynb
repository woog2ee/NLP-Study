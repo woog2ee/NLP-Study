{
 "cells": [
  {
   "cell_type": "markdown",
   "id": "ideal-nightmare",
   "metadata": {},
   "source": [
    "# 1. 데이터 추가\n",
    "적은 데이터에서 특정 패턴과 노이즈 암기, 많은 데이터에서 일반적 패턴 학습   \n",
    "**Data Augmentation**은 의도적인 기존 데이터 변형으로 양을 늘림"
   ]
  },
  {
   "cell_type": "markdown",
   "id": "electrical-playing",
   "metadata": {},
   "source": [
    "# 2. 모델 복잡도 줄임\n",
    "인공 신경망 복잡도는 은닉층과 매개변수(capacity) 개수"
   ]
  },
  {
   "cell_type": "markdown",
   "id": "apart-pipeline",
   "metadata": {},
   "source": [
    "# 3. Weight Regularization\n",
    "L1 Regularization은 가중치 절댓값 합을 비용함수에 추가   \n",
    "L2 Regularization은 가중치 제곱합을 비용함수에 추가   \n",
    "L1은 가중치가 완전히 0, L2는 0에 가까워지는 경향"
   ]
  },
  {
   "cell_type": "markdown",
   "id": "forty-entrance",
   "metadata": {},
   "source": [
    "# 4. Dropout\n",
    "매번 랜덤으로 신경망 일부를 사용하지 않음   \n",
    "학습에만 사용하고 예측에는 안 쓰는게 일반적\n",
    "![Dropout](https://wikidocs.net/images/page/60751/%EB%93%9C%EB%A1%AD%EC%95%84%EC%9B%83.PNG \"Dropout\")"
   ]
  },
  {
   "cell_type": "code",
   "execution_count": 1,
   "id": "vanilla-semiconductor",
   "metadata": {},
   "outputs": [],
   "source": [
    "# model = Sequential()\n",
    "# model.add(Dense(256, input_shape=(max_words,), activation='relu'))\n",
    "# model.add(Dropout(0.5))\n",
    "# model.add(Dense(128, activation='relu'))\n",
    "# model.add(Dropout(0.5))\n",
    "# model.add(Dense(num_classes, activation='softmax'))"
   ]
  }
 ],
 "metadata": {
  "kernelspec": {
   "display_name": "Python 3",
   "language": "python",
   "name": "python3"
  },
  "language_info": {
   "codemirror_mode": {
    "name": "ipython",
    "version": 3
   },
   "file_extension": ".py",
   "mimetype": "text/x-python",
   "name": "python",
   "nbconvert_exporter": "python",
   "pygments_lexer": "ipython3",
   "version": "3.8.8"
  }
 },
 "nbformat": 4,
 "nbformat_minor": 5
}
