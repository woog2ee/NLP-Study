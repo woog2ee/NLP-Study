{
 "cells": [
  {
   "cell_type": "markdown",
   "id": "compact-collaboration",
   "metadata": {},
   "source": [
    "# 1. Preprocessing\n",
    "**Tokenizer()**: 토큰화와 정수 인코딩"
   ]
  },
  {
   "cell_type": "code",
   "execution_count": 1,
   "id": "expired-mount",
   "metadata": {},
   "outputs": [
    {
     "name": "stdout",
     "output_type": "stream",
     "text": [
      "sequences:  [1, 2, 3, 4, 6, 7]\n",
      "word_index:  {'the': 1, 'earth': 2, 'is': 3, 'an': 4, 'awesome': 5, 'place': 6, 'live': 7}\n"
     ]
    }
   ],
   "source": [
    "from tensorflow.keras.preprocessing.text import Tokenizer\n",
    "t = Tokenizer()\n",
    "fit_text = \"The earth is an awesome place live\"\n",
    "t.fit_on_texts([fit_text])\n",
    "\n",
    "test_text = \"The earth is an great place live\"\n",
    "sequences = t.texts_to_sequences([test_text])[0]\n",
    "\n",
    "print(\"sequences: \", sequences)\n",
    "print(\"word_index: \", t.word_index)"
   ]
  },
  {
   "cell_type": "markdown",
   "id": "agreed-brazil",
   "metadata": {},
   "source": [
    "**pad_sequences()**: 패딩"
   ]
  },
  {
   "cell_type": "code",
   "execution_count": 2,
   "id": "empty-trademark",
   "metadata": {},
   "outputs": [
    {
     "data": {
      "text/plain": [
       "array([[1, 2, 3],\n",
       "       [4, 5, 6],\n",
       "       [0, 7, 8]])"
      ]
     },
     "execution_count": 2,
     "metadata": {},
     "output_type": "execute_result"
    }
   ],
   "source": [
    "from tensorflow.keras.preprocessing.sequence import pad_sequences\n",
    "\n",
    "pad_sequences([ [1,2,3], [3,4,5,6], [7,8] ], maxlen=3, padding='pre')"
   ]
  },
  {
   "cell_type": "markdown",
   "id": "conventional-sustainability",
   "metadata": {},
   "source": [
    "# 2. Word Embedding\n",
    "**Embedding()**: 텍스트 내 단어를 밀집 벡터로 변형   \n",
    "임베딩 벡터는 초기에 랜덤값이나 학습되며 변경됨   \n",
    "\n",
    "<null>|원-핫 벡터|임베딩 벡터\n",
    ":--|:--|:--\n",
    "차원|고차원|저차원\n",
    "다른 표현|희소 벡터|밀집 벡터\n",
    "표현 방법|수동|훈련 데이터로부터 학습\n",
    "값 타입|1과 0|실수"
   ]
  },
  {
   "cell_type": "markdown",
   "id": "african-clinton",
   "metadata": {},
   "source": [
    "# 3. Modeling\n",
    "**Sequential()**: 입력층, 은닉층, 출력층 구성"
   ]
  },
  {
   "cell_type": "code",
   "execution_count": 3,
   "id": "consistent-profession",
   "metadata": {},
   "outputs": [],
   "source": [
    "from tensorflow.keras.models import Sequential\n",
    "from tensorflow.keras.layers import Dense\n",
    "\n",
    "model = Sequential()\n",
    "model.add(Dense(8, input_dim=4, activation='relu'))\n",
    "model.add(Dense(1, activation='sigmoid'))"
   ]
  },
  {
   "cell_type": "markdown",
   "id": "accredited-secretary",
   "metadata": {},
   "source": [
    "**summary()**: 모델 요약 정보 출력"
   ]
  },
  {
   "cell_type": "code",
   "execution_count": 4,
   "id": "other-wayne",
   "metadata": {},
   "outputs": [
    {
     "name": "stdout",
     "output_type": "stream",
     "text": [
      "Model: \"sequential\"\n",
      "_________________________________________________________________\n",
      "Layer (type)                 Output Shape              Param #   \n",
      "=================================================================\n",
      "dense (Dense)                (None, 8)                 40        \n",
      "_________________________________________________________________\n",
      "dense_1 (Dense)              (None, 1)                 9         \n",
      "=================================================================\n",
      "Total params: 49\n",
      "Trainable params: 49\n",
      "Non-trainable params: 0\n",
      "_________________________________________________________________\n"
     ]
    }
   ],
   "source": [
    "model.summary()"
   ]
  },
  {
   "cell_type": "markdown",
   "id": "bright-referral",
   "metadata": {},
   "source": [
    "# 4. Compile and Training\n",
    "**compile()**: 기계의 모델 이해"
   ]
  },
  {
   "cell_type": "code",
   "execution_count": 5,
   "id": "helpful-currency",
   "metadata": {},
   "outputs": [],
   "source": [
    "from tensorflow.keras.layers import SimpleRNN, Embedding, Dense\n",
    "from tensorflow.keras.models import Sequential\n",
    "max_features = 10000\n",
    "\n",
    "model = Sequential()\n",
    "model.add(Embedding(max_features, 32))\n",
    "model.add(Dense(1, activation='sigmoid'))\n",
    "\n",
    "model.compile(optimizer='rmsprop', loss='binary_crossentropy', metrics=['acc'])"
   ]
  },
  {
   "cell_type": "markdown",
   "id": "phantom-result",
   "metadata": {},
   "source": [
    "문제 유형|손실 함수명|출력층 활성화 함수명|설명\n",
    ":-:|:-:|:-:|:-:\n",
    "회귀|mean_squared_error|<null>|<null>\n",
    "이진 분류|binary_crossentropy|sigmoid|<null>\n",
    "다중 클래스 분류|categorical_crossentropy|softmax|원-핫 인코딩 상태에서 수행\n",
    "다중 클래스 분류|sparse_categorical_crossentropy|softmax|정수 인코딩 상태에서 수행 가능\n",
    "    \n",
    "**fit()**: 매개변수 업데이트"
   ]
  },
  {
   "cell_type": "code",
   "execution_count": 6,
   "id": "packed-hearts",
   "metadata": {},
   "outputs": [],
   "source": [
    "# model.fit(X_train, y_train, epochs=10, batch_size=32, verbose=0, validation_data=(X_val, y_val))"
   ]
  },
  {
   "cell_type": "markdown",
   "id": "magnetic-milton",
   "metadata": {},
   "source": [
    "# 5. Evaluation and Prediction\n",
    "**evaluate()**: 모델 정확도 평가"
   ]
  },
  {
   "cell_type": "code",
   "execution_count": 7,
   "id": "charming-immigration",
   "metadata": {},
   "outputs": [],
   "source": [
    "# model.evaluate(X_test, y_test, batch_size=32)"
   ]
  },
  {
   "cell_type": "markdown",
   "id": "junior-relationship",
   "metadata": {},
   "source": [
    "**predict()**: 입력 모델 예측"
   ]
  },
  {
   "cell_type": "code",
   "execution_count": 8,
   "id": "diagnostic-steps",
   "metadata": {},
   "outputs": [],
   "source": [
    "# model.predict(X_input, batch_size=32)"
   ]
  },
  {
   "cell_type": "markdown",
   "id": "colored-dividend",
   "metadata": {},
   "source": [
    "# 6. Save and Load\n",
    "**save()**: 모델을 hdf5 파일에 저장"
   ]
  },
  {
   "cell_type": "code",
   "execution_count": 9,
   "id": "surrounded-russia",
   "metadata": {},
   "outputs": [],
   "source": [
    "# model.save(\"model_name.h5\")"
   ]
  },
  {
   "cell_type": "markdown",
   "id": "artistic-report",
   "metadata": {},
   "source": [
    "**load_model()**: 저장한 모델 불러옴"
   ]
  },
  {
   "cell_type": "code",
   "execution_count": 10,
   "id": "laden-failure",
   "metadata": {},
   "outputs": [],
   "source": [
    "from tensorflow.keras.models import load_model\n",
    "# model = load_model(\"model_name.h5\")"
   ]
  }
 ],
 "metadata": {
  "kernelspec": {
   "display_name": "Python 3",
   "language": "python",
   "name": "python3"
  },
  "language_info": {
   "codemirror_mode": {
    "name": "ipython",
    "version": 3
   },
   "file_extension": ".py",
   "mimetype": "text/x-python",
   "name": "python",
   "nbconvert_exporter": "python",
   "pygments_lexer": "ipython3",
   "version": "3.8.8"
  }
 },
 "nbformat": 4,
 "nbformat_minor": 5
}
