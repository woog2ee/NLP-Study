{
 "cells": [
  {
   "cell_type": "markdown",
   "id": "french-nursing",
   "metadata": {},
   "source": [
    "# 1. Multi Layer Perceptron\n",
    "단층 퍼셉트론에 은닉층을 추가한 FFNN 기본 형태"
   ]
  },
  {
   "cell_type": "markdown",
   "id": "earlier-omega",
   "metadata": {},
   "source": [
    "# 2. Keras texts_to_matrix()"
   ]
  },
  {
   "cell_type": "code",
   "execution_count": 1,
   "id": "administrative-birmingham",
   "metadata": {},
   "outputs": [
    {
     "name": "stdout",
     "output_type": "stream",
     "text": [
      "{'바나나': 1, '먹고': 2, '싶은': 3, '사과': 4, '길고': 5, '노란': 6, '저는': 7, '과일이': 8, '좋아요': 9}\n"
     ]
    }
   ],
   "source": [
    "import numpy as np\n",
    "from tensorflow.keras.preprocessing.text import Tokenizer\n",
    "\n",
    "texts = ['먹고 싶은 사과', '먹고 싶은 바나나', '길고 노란 바나나 바나나', '저는 과일이 좋아요']\n",
    "\n",
    "t = Tokenizer()\n",
    "t.fit_on_texts(texts)\n",
    "print(t.word_index)"
   ]
  },
  {
   "cell_type": "code",
   "execution_count": 2,
   "id": "ancient-handling",
   "metadata": {},
   "outputs": [
    {
     "name": "stdout",
     "output_type": "stream",
     "text": [
      "[[0. 0. 1. 1. 1. 0. 0. 0. 0. 0.]\n",
      " [0. 1. 1. 1. 0. 0. 0. 0. 0. 0.]\n",
      " [0. 2. 0. 0. 0. 1. 1. 0. 0. 0.]\n",
      " [0. 0. 0. 0. 0. 0. 0. 1. 1. 1.]]\n"
     ]
    }
   ],
   "source": [
    "# mode='count'로 DTM 생성 \n",
    "print(t.texts_to_matrix(texts, mode='count'))"
   ]
  },
  {
   "cell_type": "code",
   "execution_count": 3,
   "id": "pacific-fever",
   "metadata": {},
   "outputs": [
    {
     "name": "stdout",
     "output_type": "stream",
     "text": [
      "[[0. 0. 1. 1. 1. 0. 0. 0. 0. 0.]\n",
      " [0. 1. 1. 1. 0. 0. 0. 0. 0. 0.]\n",
      " [0. 1. 0. 0. 0. 1. 1. 0. 0. 0.]\n",
      " [0. 0. 0. 0. 0. 0. 0. 1. 1. 1.]]\n"
     ]
    }
   ],
   "source": [
    "# mode='binary'로 단어 존재 여부만 파악\n",
    "print(t.texts_to_matrix(texts, mode='binary'))"
   ]
  },
  {
   "cell_type": "code",
   "execution_count": 4,
   "id": "built-davis",
   "metadata": {},
   "outputs": [
    {
     "name": "stdout",
     "output_type": "stream",
     "text": [
      "[[0.   0.   0.85 0.85 1.1  0.   0.   0.   0.   0.  ]\n",
      " [0.   0.85 0.85 0.85 0.   0.   0.   0.   0.   0.  ]\n",
      " [0.   1.43 0.   0.   0.   1.1  1.1  0.   0.   0.  ]\n",
      " [0.   0.   0.   0.   0.   0.   0.   1.1  1.1  1.1 ]]\n"
     ]
    }
   ],
   "source": [
    "# mode='tfidf'로 TF-IDF 생성\n",
    "print(t.texts_to_matrix(texts, mode='tfidf').round(2))"
   ]
  },
  {
   "cell_type": "code",
   "execution_count": 5,
   "id": "hybrid-macro",
   "metadata": {},
   "outputs": [
    {
     "name": "stdout",
     "output_type": "stream",
     "text": [
      "[[0.   0.   0.33 0.33 0.33 0.   0.   0.   0.   0.  ]\n",
      " [0.   0.33 0.33 0.33 0.   0.   0.   0.   0.   0.  ]\n",
      " [0.   0.5  0.   0.   0.   0.25 0.25 0.   0.   0.  ]\n",
      " [0.   0.   0.   0.   0.   0.   0.   0.33 0.33 0.33]]\n"
     ]
    }
   ],
   "source": [
    "# mode='freq'로 단어 등장 횟수/각 문서 크기 표현\n",
    "print(t.texts_to_matrix(texts, mode='freq').round(2))"
   ]
  },
  {
   "cell_type": "markdown",
   "id": "temporal-bumper",
   "metadata": {},
   "source": [
    "# 3. 20개 뉴스 그룹 데이터\n",
    "> **1) 데이터 로드**"
   ]
  },
  {
   "cell_type": "code",
   "execution_count": 6,
   "id": "secret-vacuum",
   "metadata": {},
   "outputs": [
    {
     "name": "stdout",
     "output_type": "stream",
     "text": [
      "dict_keys(['data', 'filenames', 'target_names', 'target', 'DESCR'])\n"
     ]
    }
   ],
   "source": [
    "import pandas as pd\n",
    "import matplotlib.pyplot as plt\n",
    "%matplotlib inline\n",
    "\n",
    "from sklearn.datasets import fetch_20newsgroups\n",
    "from tensorflow.keras.preprocessing.text import Tokenizer\n",
    "from tensorflow.keras.utils import to_categorical\n",
    "\n",
    "newsdata = fetch_20newsgroups(subset='train')\n",
    "\n",
    "print(newsdata.keys())"
   ]
  },
  {
   "cell_type": "code",
   "execution_count": 7,
   "id": "ordinary-balance",
   "metadata": {},
   "outputs": [
    {
     "name": "stdout",
     "output_type": "stream",
     "text": [
      "훈련용 샘플 개수: 11314\n"
     ]
    }
   ],
   "source": [
    "print('훈련용 샘플 개수: {}'.format(len(newsdata.data)))"
   ]
  },
  {
   "cell_type": "code",
   "execution_count": 8,
   "id": "greatest-groove",
   "metadata": {},
   "outputs": [
    {
     "name": "stdout",
     "output_type": "stream",
     "text": [
      "총 주제 개수: 20\n",
      "['alt.atheism', 'comp.graphics', 'comp.os.ms-windows.misc', 'comp.sys.ibm.pc.hardware', 'comp.sys.mac.hardware', 'comp.windows.x', 'misc.forsale', 'rec.autos', 'rec.motorcycles', 'rec.sport.baseball', 'rec.sport.hockey', 'sci.crypt', 'sci.electronics', 'sci.med', 'sci.space', 'soc.religion.christian', 'talk.politics.guns', 'talk.politics.mideast', 'talk.politics.misc', 'talk.religion.misc']\n"
     ]
    }
   ],
   "source": [
    "print('총 주제 개수: {}'.format(len(newsdata.target_names)))\n",
    "print(newsdata.target_names)"
   ]
  },
  {
   "cell_type": "markdown",
   "id": "valued-allen",
   "metadata": {},
   "source": [
    "> **2) 샘플 확인**"
   ]
  },
  {
   "cell_type": "code",
   "execution_count": 9,
   "id": "moral-appliance",
   "metadata": {},
   "outputs": [
    {
     "name": "stdout",
     "output_type": "stream",
     "text": [
      "첫번째 샘플의 레이블: 7\n"
     ]
    }
   ],
   "source": [
    "print('첫번째 샘플의 레이블: {}'.format(newsdata.target[0]))"
   ]
  },
  {
   "cell_type": "code",
   "execution_count": 10,
   "id": "nominated-prevention",
   "metadata": {},
   "outputs": [
    {
     "name": "stdout",
     "output_type": "stream",
     "text": [
      "7번 레이블이 의미하는 주제: rec.autos\n"
     ]
    }
   ],
   "source": [
    "print('7번 레이블이 의미하는 주제: {}'.format(newsdata.target_names[7]))"
   ]
  },
  {
   "cell_type": "code",
   "execution_count": 11,
   "id": "outer-superintendent",
   "metadata": {},
   "outputs": [
    {
     "name": "stdout",
     "output_type": "stream",
     "text": [
      "From: lerxst@wam.umd.edu (where's my thing)\n",
      "Subject: WHAT car is this!?\n",
      "Nntp-Posting-Host: rac3.wam.umd.edu\n",
      "Organization: University of Maryland, College Park\n",
      "Lines: 15\n",
      "\n",
      " I was wondering if anyone out there could enlighten me on this car I saw\n",
      "the other day. It was a 2-door sports car, looked to be from the late 60s/\n",
      "early 70s. It was called a Bricklin. The doors were really small. In addition,\n",
      "the front bumper was separate from the rest of the body. This is \n",
      "all I know. If anyone can tellme a model name, engine specs, years\n",
      "of production, where this car is made, history, or whatever info you\n",
      "have on this funky looking car, please e-mail.\n",
      "\n",
      "Thanks,\n",
      "- IL\n",
      "   ---- brought to you by your neighborhood Lerxst ----\n",
      "\n",
      "\n",
      "\n",
      "\n",
      "\n"
     ]
    }
   ],
   "source": [
    "print(newsdata.data[0])"
   ]
  },
  {
   "cell_type": "markdown",
   "id": "shared-calendar",
   "metadata": {},
   "source": [
    "> **3) 데이터프레임화**"
   ]
  },
  {
   "cell_type": "code",
   "execution_count": 12,
   "id": "fiscal-little",
   "metadata": {},
   "outputs": [
    {
     "data": {
      "text/html": [
       "<div>\n",
       "<style scoped>\n",
       "    .dataframe tbody tr th:only-of-type {\n",
       "        vertical-align: middle;\n",
       "    }\n",
       "\n",
       "    .dataframe tbody tr th {\n",
       "        vertical-align: top;\n",
       "    }\n",
       "\n",
       "    .dataframe thead th {\n",
       "        text-align: right;\n",
       "    }\n",
       "</style>\n",
       "<table border=\"1\" class=\"dataframe\">\n",
       "  <thead>\n",
       "    <tr style=\"text-align: right;\">\n",
       "      <th></th>\n",
       "      <th>email</th>\n",
       "      <th>target</th>\n",
       "    </tr>\n",
       "  </thead>\n",
       "  <tbody>\n",
       "    <tr>\n",
       "      <th>0</th>\n",
       "      <td>From: lerxst@wam.umd.edu (where's my thing)\\nS...</td>\n",
       "      <td>7</td>\n",
       "    </tr>\n",
       "    <tr>\n",
       "      <th>1</th>\n",
       "      <td>From: guykuo@carson.u.washington.edu (Guy Kuo)...</td>\n",
       "      <td>4</td>\n",
       "    </tr>\n",
       "    <tr>\n",
       "      <th>2</th>\n",
       "      <td>From: twillis@ec.ecn.purdue.edu (Thomas E Will...</td>\n",
       "      <td>4</td>\n",
       "    </tr>\n",
       "    <tr>\n",
       "      <th>3</th>\n",
       "      <td>From: jgreen@amber (Joe Green)\\nSubject: Re: W...</td>\n",
       "      <td>1</td>\n",
       "    </tr>\n",
       "    <tr>\n",
       "      <th>4</th>\n",
       "      <td>From: jcm@head-cfa.harvard.edu (Jonathan McDow...</td>\n",
       "      <td>14</td>\n",
       "    </tr>\n",
       "  </tbody>\n",
       "</table>\n",
       "</div>"
      ],
      "text/plain": [
       "                                               email  target\n",
       "0  From: lerxst@wam.umd.edu (where's my thing)\\nS...       7\n",
       "1  From: guykuo@carson.u.washington.edu (Guy Kuo)...       4\n",
       "2  From: twillis@ec.ecn.purdue.edu (Thomas E Will...       4\n",
       "3  From: jgreen@amber (Joe Green)\\nSubject: Re: W...       1\n",
       "4  From: jcm@head-cfa.harvard.edu (Jonathan McDow...      14"
      ]
     },
     "execution_count": 12,
     "metadata": {},
     "output_type": "execute_result"
    }
   ],
   "source": [
    "data = pd.DataFrame(newsdata.data, columns=['email'])\n",
    "data['target'] = pd.Series(newsdata.target)\n",
    "data[:5]"
   ]
  },
  {
   "cell_type": "code",
   "execution_count": 13,
   "id": "organized-canvas",
   "metadata": {},
   "outputs": [
    {
     "name": "stdout",
     "output_type": "stream",
     "text": [
      "<class 'pandas.core.frame.DataFrame'>\n",
      "RangeIndex: 11314 entries, 0 to 11313\n",
      "Data columns (total 2 columns):\n",
      " #   Column  Non-Null Count  Dtype \n",
      "---  ------  --------------  ----- \n",
      " 0   email   11314 non-null  object\n",
      " 1   target  11314 non-null  int32 \n",
      "dtypes: int32(1), object(1)\n",
      "memory usage: 132.7+ KB\n"
     ]
    }
   ],
   "source": [
    "data.info()"
   ]
  },
  {
   "cell_type": "code",
   "execution_count": 14,
   "id": "nutritional-lincoln",
   "metadata": {},
   "outputs": [
    {
     "data": {
      "text/plain": [
       "False"
      ]
     },
     "execution_count": 14,
     "metadata": {},
     "output_type": "execute_result"
    }
   ],
   "source": [
    "data.isnull().values.any()"
   ]
  },
  {
   "cell_type": "code",
   "execution_count": 15,
   "id": "brown-integral",
   "metadata": {},
   "outputs": [
    {
     "name": "stdout",
     "output_type": "stream",
     "text": [
      "중복을 제외한 샘플 수: 11314\n",
      "중복을 제외한 주제 수: 20\n"
     ]
    }
   ],
   "source": [
    "print('중복을 제외한 샘플 수: {}'.format(data['email'].nunique()))\n",
    "print('중복을 제외한 주제 수: {}'.format(data['target'].nunique()))"
   ]
  },
  {
   "cell_type": "code",
   "execution_count": 16,
   "id": "vertical-kernel",
   "metadata": {},
   "outputs": [
    {
     "data": {
      "text/plain": [
       "<AxesSubplot:>"
      ]
     },
     "execution_count": 16,
     "metadata": {},
     "output_type": "execute_result"
    },
    {
     "data": {
      "image/png": "[encoded data removed]",
      "text/plain": [
       "<Figure size 432x288 with 1 Axes>"
      ]
     },
     "metadata": {
      "needs_background": "light"
     },
     "output_type": "display_data"
    }
   ],
   "source": [
    "data['target'].value_counts().plot(kind='bar')"
   ]
  },
  {
   "cell_type": "code",
   "execution_count": 17,
   "id": "dietary-university",
   "metadata": {},
   "outputs": [
    {
     "name": "stdout",
     "output_type": "stream",
     "text": [
      "    target  count\n",
      "0        0    480\n",
      "1        1    584\n",
      "2        2    591\n",
      "3        3    590\n",
      "4        4    578\n",
      "5        5    593\n",
      "6        6    585\n",
      "7        7    594\n",
      "8        8    598\n",
      "9        9    597\n",
      "10      10    600\n",
      "11      11    595\n",
      "12      12    591\n",
      "13      13    594\n",
      "14      14    593\n",
      "15      15    599\n",
      "16      16    546\n",
      "17      17    564\n",
      "18      18    465\n",
      "19      19    377\n"
     ]
    }
   ],
   "source": [
    "print(data.groupby('target').size().reset_index(name='count'))"
   ]
  },
  {
   "cell_type": "markdown",
   "id": "monetary-legend",
   "metadata": {},
   "source": [
    "> **4) 데이터프레임 활용**"
   ]
  },
  {
   "cell_type": "code",
   "execution_count": 18,
   "id": "involved-institution",
   "metadata": {},
   "outputs": [],
   "source": [
    "newsdata_test = fetch_20newsgroups(subset='test', shuffle=True)\n",
    "train_email = data['email']\n",
    "train_label = data['target']\n",
    "\n",
    "test_email = newsdata_test.data\n",
    "test_label = newsdata_test.target\n",
    "\n",
    "max_words = 10000 \n",
    "num_classes = 20 "
   ]
  },
  {
   "cell_type": "code",
   "execution_count": 19,
   "id": "grave-railway",
   "metadata": {},
   "outputs": [],
   "source": [
    "# 전처리 함수\n",
    "def prepare_data(train_data, test_data, mode):\n",
    "    t = Tokenizer(num_words=max_words)\n",
    "    t.fit_on_texts(train_data)\n",
    "    \n",
    "    X_train = t.texts_to_matrix(train_data, mode=mode)\n",
    "    X_test = t.texts_to_matrix(test_data, mode=mode)\n",
    "    \n",
    "    return X_train, X_test, t.index_word"
   ]
  },
  {
   "cell_type": "code",
   "execution_count": 20,
   "id": "incoming-intersection",
   "metadata": {},
   "outputs": [],
   "source": [
    "X_train, X_test, index_to_word = prepare_data(train_email, test_email, 'binary')\n",
    "y_train = to_categorical(train_label, num_classes) \n",
    "y_test = to_categorical(test_label, num_classes)"
   ]
  },
  {
   "cell_type": "code",
   "execution_count": 21,
   "id": "seven-shell",
   "metadata": {},
   "outputs": [
    {
     "name": "stdout",
     "output_type": "stream",
     "text": [
      "훈련 샘플 본문의 크기: (11314, 10000)\n",
      "훈련 샘플 레이블의 크기: (11314, 20)\n",
      "테스트 샘플 본문의 크기: (7532, 10000)\n",
      "테스트 샘플 레이블의 크기: (7532, 20)\n"
     ]
    }
   ],
   "source": [
    "print('훈련 샘플 본문의 크기: {}'.format(X_train.shape))\n",
    "print('훈련 샘플 레이블의 크기: {}'.format(y_train.shape))\n",
    "print('테스트 샘플 본문의 크기: {}'.format(X_test.shape))\n",
    "print('테스트 샘플 레이블의 크기: {}'.format(y_test.shape))"
   ]
  },
  {
   "cell_type": "code",
   "execution_count": 22,
   "id": "similar-confidence",
   "metadata": {},
   "outputs": [
    {
     "name": "stdout",
     "output_type": "stream",
     "text": [
      "빈도수 상위 1번 단어: the\n",
      "빈도수 상위 9999번 단어: mic\n"
     ]
    }
   ],
   "source": [
    "print('빈도수 상위 1번 단어: {}'.format(index_to_word[1]))\n",
    "print('빈도수 상위 9999번 단어: {}'.format(index_to_word[9999]))"
   ]
  },
  {
   "cell_type": "markdown",
   "id": "incorrect-blend",
   "metadata": {},
   "source": [
    "# 4. Text Classification with MLP"
   ]
  },
  {
   "cell_type": "code",
   "execution_count": 23,
   "id": "infinite-valentine",
   "metadata": {},
   "outputs": [],
   "source": [
    "from tensorflow.keras.models import Sequential\n",
    "from tensorflow.keras.layers import Dense, Dropout"
   ]
  },
  {
   "cell_type": "code",
   "execution_count": 24,
   "id": "separated-pleasure",
   "metadata": {},
   "outputs": [],
   "source": [
    "def fit_and_evaluate(X_train, y_train, X_test, y_test):\n",
    "    model = Sequential()\n",
    "    model.add(Dense(256, input_shape=(max_words,), activation='relu'))\n",
    "    model.add(Dropout(0.5))\n",
    "    model.add(Dense(128, activation='relu'))\n",
    "    model.add(Dropout(0.5))\n",
    "    model.add(Dense(num_classes, activation='softmax'))\n",
    "    \n",
    "    model.compile(loss='categorical_crossentropy', optimizer='adam', metrics=['accuracy'])\n",
    "    model.fit(X_train, y_train, batch_size=128, epochs=5, verbose=1, validation_split=0.1)\n",
    "    score = model.evaluate(X_test, y_test, batch_size=128, verbose=0)\n",
    "    \n",
    "    return score[1]"
   ]
  },
  {
   "cell_type": "code",
   "execution_count": 25,
   "id": "intense-administration",
   "metadata": {},
   "outputs": [
    {
     "name": "stdout",
     "output_type": "stream",
     "text": [
      "Epoch 1/5\n",
      "80/80 [==============================] - 4s 49ms/step - loss: 2.7047 - accuracy: 0.1891 - val_loss: 0.9655 - val_accuracy: 0.8216\n",
      "Epoch 2/5\n",
      "80/80 [==============================] - 2s 26ms/step - loss: 1.0378 - accuracy: 0.7156 - val_loss: 0.4637 - val_accuracy: 0.8878\n",
      "Epoch 3/5\n",
      "80/80 [==============================] - 2s 25ms/step - loss: 0.4742 - accuracy: 0.8692 - val_loss: 0.3585 - val_accuracy: 0.8993\n",
      "Epoch 4/5\n",
      "80/80 [==============================] - 2s 25ms/step - loss: 0.2786 - accuracy: 0.9269 - val_loss: 0.3064 - val_accuracy: 0.9125\n",
      "Epoch 5/5\n",
      "80/80 [==============================] - 2s 24ms/step - loss: 0.1818 - accuracy: 0.9568 - val_loss: 0.2896 - val_accuracy: 0.9117\n",
      "binary 모드의 테스트 정확도:  0.8226234912872314\n",
      "Epoch 1/5\n",
      "80/80 [==============================] - 3s 27ms/step - loss: 3.1850 - accuracy: 0.1581 - val_loss: 1.5628 - val_accuracy: 0.7394\n",
      "Epoch 2/5\n",
      "80/80 [==============================] - 2s 25ms/step - loss: 1.6400 - accuracy: 0.5685 - val_loss: 0.7201 - val_accuracy: 0.8578\n",
      "Epoch 3/5\n",
      "80/80 [==============================] - 2s 24ms/step - loss: 0.8328 - accuracy: 0.7749 - val_loss: 0.5276 - val_accuracy: 0.8763\n",
      "Epoch 4/5\n",
      "80/80 [==============================] - 2s 25ms/step - loss: 0.5737 - accuracy: 0.8696 - val_loss: 0.4420 - val_accuracy: 0.8869\n",
      "Epoch 5/5\n",
      "80/80 [==============================] - 2s 26ms/step - loss: 0.4138 - accuracy: 0.9152 - val_loss: 0.4165 - val_accuracy: 0.8958\n",
      "count 모드의 테스트 정확도:  0.8117365837097168\n",
      "Epoch 1/5\n",
      "80/80 [==============================] - 3s 34ms/step - loss: 2.7807 - accuracy: 0.2068 - val_loss: 0.8092 - val_accuracy: 0.8383\n",
      "Epoch 2/5\n",
      "80/80 [==============================] - 2s 28ms/step - loss: 1.0264 - accuracy: 0.7335 - val_loss: 0.4275 - val_accuracy: 0.8922\n",
      "Epoch 3/5\n",
      "80/80 [==============================] - 2s 27ms/step - loss: 0.4793 - accuracy: 0.8690 - val_loss: 0.3817 - val_accuracy: 0.8940\n",
      "Epoch 4/5\n",
      "80/80 [==============================] - 2s 28ms/step - loss: 0.2878 - accuracy: 0.9239 - val_loss: 0.3377 - val_accuracy: 0.9081\n",
      "Epoch 5/5\n",
      "80/80 [==============================] - 2s 28ms/step - loss: 0.2402 - accuracy: 0.9527 - val_loss: 0.3142 - val_accuracy: 0.9143\n",
      "tfidf 모드의 테스트 정확도:  0.829792857170105\n",
      "Epoch 1/5\n",
      "80/80 [==============================] - 3s 32ms/step - loss: 2.9899 - accuracy: 0.0639 - val_loss: 2.9372 - val_accuracy: 0.0998\n",
      "Epoch 2/5\n",
      "80/80 [==============================] - 2s 26ms/step - loss: 2.8489 - accuracy: 0.1734 - val_loss: 2.3997 - val_accuracy: 0.3693\n",
      "Epoch 3/5\n",
      "80/80 [==============================] - 2s 25ms/step - loss: 2.2994 - accuracy: 0.2972 - val_loss: 1.8706 - val_accuracy: 0.5327\n",
      "Epoch 4/5\n",
      "80/80 [==============================] - 2s 25ms/step - loss: 1.8386 - accuracy: 0.4281 - val_loss: 1.4795 - val_accuracy: 0.6325\n",
      "Epoch 5/5\n",
      "80/80 [==============================] - 2s 25ms/step - loss: 1.4725 - accuracy: 0.5408 - val_loss: 1.1883 - val_accuracy: 0.6988\n",
      "freq 모드의 테스트 정확도:  0.6579925417900085\n"
     ]
    }
   ],
   "source": [
    "# 각 모드의 테스트 정확도로 전처리 적합 모드를 찾음\n",
    "modes = ['binary', 'count', 'tfidf', 'freq']\n",
    "\n",
    "for mode in modes:\n",
    "    X_train, X_test, _ = prepare_data(train_email, test_email, mode)\n",
    "    score = fit_and_evaluate(X_train, y_train, X_test, y_test)\n",
    "    print(mode + ' 모드의 테스트 정확도: ', score)"
   ]
  }
 ],
 "metadata": {
  "kernelspec": {
   "display_name": "Python 3",
   "language": "python",
   "name": "python3"
  },
  "language_info": {
   "codemirror_mode": {
    "name": "ipython",
    "version": 3
   },
   "file_extension": ".py",
   "mimetype": "text/x-python",
   "name": "python",
   "nbconvert_exporter": "python",
   "pygments_lexer": "ipython3",
   "version": "3.8.8"
  }
 },
 "nbformat": 4,
 "nbformat_minor": 5
}
