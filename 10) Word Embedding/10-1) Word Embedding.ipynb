{
 "cells": [
  {
   "cell_type": "markdown",
   "id": "excessive-wright",
   "metadata": {},
   "source": [
    "# 1. 희소 표현(Sparse Representation)\n",
    "벡터 또는 행렬 값이 대부분 0으로 표현   \n",
    "단어 개수가 늘어나면 벡터 차원이 한없이 커짐   \n",
    "공간적 낭비를 일으키며 단어의 의미도 담지 못함"
   ]
  },
  {
   "cell_type": "markdown",
   "id": "reported-success",
   "metadata": {},
   "source": [
    "# 2. 밀집 표현(Dense Representation)\n",
    "단어 집합 크기로 벡터 차원을 상정하지 않음   \n",
    "사용자 설정 값으로 단어 벡터 차원을 맞춤   \n",
    "차원이 줄어들며 모든 값이 실수로 바뀜"
   ]
  },
  {
   "cell_type": "markdown",
   "id": "removed-comment",
   "metadata": {},
   "source": [
    "# 3. 워드 임베딩(Word Embedding)\n",
    "밀집 벡터로의 표현 방법이며 그 결과는 임베딩 벡터(embedding vector)   \n",
    "word embedding: LSA, Word2Vec, FastText, GloVe   \n",
    "keras Embedding(): 단어를 랜덤 값의 밀집 벡터로 변환해 학습함\n",
    "\n",
    "<null>|원-핫 벡터|임베딩 벡터\n",
    ":--|:--|:--\n",
    "차원|고차원|저차원\n",
    "다른 표현|희소 벡터|밀집 벡터\n",
    "표현 방법|수동|훈련 데이터로부터 학습\n",
    "값의 타입|1과 0|실수"
   ]
  }
 ],
 "metadata": {
  "kernelspec": {
   "display_name": "Python 3",
   "language": "python",
   "name": "python3"
  },
  "language_info": {
   "codemirror_mode": {
    "name": "ipython",
    "version": 3
   },
   "file_extension": ".py",
   "mimetype": "text/x-python",
   "name": "python",
   "nbconvert_exporter": "python",
   "pygments_lexer": "ipython3",
   "version": "3.8.8"
  }
 },
 "nbformat": 4,
 "nbformat_minor": 5
}
