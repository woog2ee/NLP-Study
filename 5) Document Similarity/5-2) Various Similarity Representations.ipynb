{
 "cells": [
  {
   "cell_type": "markdown",
   "id": "dense-jenny",
   "metadata": {},
   "source": [
    "# 1. 유클리드 거리(Euclidean Distance)   \n",
    "유클리드 거리가 작을수록 문서 간 유사함   \n",
    "문서 유사도를 구할 때 코사인 유사도나 자카인 유사도보다는 덜 유용함\n",
    "$$\\sqrt{(q_{1}-p_{1})^{2}+(q_{2}-p_{2})^{2}+...+(q_{n}-p_{n})^{2}} = \\sqrt{\\sum_{i=1}^{n}(q_{i}-p_{i})^{2}}$$\n",
    "\n",
    "2차원 공간으로 가정\n",
    "$$d(p, q)^{2} = (q_{1}-p_{1})^{2} + (q_{2}-p_{2})^{2}$$\n",
    "\n",
    "<null>|바나나|사과|저는|좋아요\n",
    ":-:|---|---|---|---|\n",
    "문서1|0|1|1|1\n",
    "문서2|1|0|1|1\n",
    "문서3|2|0|2|2\n",
    "    \n",
    "<null>|바나나|사과|저는|좋아요\n",
    ":-:|---|---|---|---|\n",
    "문서Q|1|1|0|1\n",
    "    \n",
    "여러 문서의 유사도를 구할 때 차원 수를 단어 총 개수로 확장, 위에서는 4차원 공간에 3개의 문서 배치      \n",
    "문서Q도 4차원 공간에 배치한다는 관점에서 다른 문서들과의 유클리드 거리를 구함"
   ]
  },
  {
   "cell_type": "code",
   "execution_count": 1,
   "id": "israeli-framing",
   "metadata": {},
   "outputs": [
    {
     "name": "stdout",
     "output_type": "stream",
     "text": [
      "2.23606797749979\n",
      "3.1622776601683795\n",
      "2.449489742783178\n"
     ]
    }
   ],
   "source": [
    "import numpy as np\n",
    "\n",
    "def dist(x, y):\n",
    "    return np.sqrt(np.sum((x-y)**2))\n",
    "\n",
    "doc1 = np.array([2,3,0,1])\n",
    "doc2 = np.array([1,2,3,1])\n",
    "doc3 = np.array([2,1,2,2])\n",
    "docQ = np.array([1,1,0,1])\n",
    "\n",
    "print(dist(doc1, docQ))\n",
    "print(dist(doc2, docQ))\n",
    "print(dist(doc3, docQ))"
   ]
  },
  {
   "cell_type": "markdown",
   "id": "facial-selling",
   "metadata": {},
   "source": [
    "# 2. 자카드 유사도(Jaccard Similarity)\n",
    "두 집합의 교집합 크기를 합집합 크기로 나눔\n",
    "$$J(A, B) = \\frac{|A \\cap B|}{|A \\cup B|} = \\frac{|A \\cap B|}{|A| + |B| - |A \\cap B|}$$"
   ]
  },
  {
   "cell_type": "code",
   "execution_count": 2,
   "id": "coastal-intro",
   "metadata": {},
   "outputs": [
    {
     "name": "stdout",
     "output_type": "stream",
     "text": [
      "['apple', 'banana', 'everyone', 'like', 'likey', 'watch', 'card', 'holder']\n",
      "['apple', 'banana', 'coupon', 'passport', 'love', 'you']\n"
     ]
    }
   ],
   "source": [
    "doc1 = \"apple banana everyone like likey watch card holder\"\n",
    "doc2 = \"apple banana coupon passport love you\"\n",
    "\n",
    "tokenized_doc1 = doc1.split()\n",
    "tokenized_doc2 = doc2.split()\n",
    "\n",
    "print(tokenized_doc1)\n",
    "print(tokenized_doc2)"
   ]
  },
  {
   "cell_type": "code",
   "execution_count": 3,
   "id": "least-jason",
   "metadata": {},
   "outputs": [
    {
     "name": "stdout",
     "output_type": "stream",
     "text": [
      "{'apple', 'banana'}\n"
     ]
    }
   ],
   "source": [
    "intersection = set(tokenized_doc1).intersection(set(tokenized_doc2))\n",
    "print(intersection)"
   ]
  },
  {
   "cell_type": "code",
   "execution_count": 4,
   "id": "incoming-daisy",
   "metadata": {},
   "outputs": [
    {
     "name": "stdout",
     "output_type": "stream",
     "text": [
      "{'apple', 'coupon', 'everyone', 'card', 'like', 'watch', 'likey', 'banana', 'holder', 'you', 'love', 'passport'}\n"
     ]
    }
   ],
   "source": [
    "union = set(tokenized_doc1).union(set(tokenized_doc2))\n",
    "print(union)"
   ]
  },
  {
   "cell_type": "code",
   "execution_count": 5,
   "id": "increased-certification",
   "metadata": {},
   "outputs": [
    {
     "name": "stdout",
     "output_type": "stream",
     "text": [
      "0.16666666666666666\n"
     ]
    }
   ],
   "source": [
    "print(len(intersection)/len(union))"
   ]
  }
 ],
 "metadata": {
  "kernelspec": {
   "display_name": "Python 3",
   "language": "python",
   "name": "python3"
  },
  "language_info": {
   "codemirror_mode": {
    "name": "ipython",
    "version": 3
   },
   "file_extension": ".py",
   "mimetype": "text/x-python",
   "name": "python",
   "nbconvert_exporter": "python",
   "pygments_lexer": "ipython3",
   "version": "3.8.5"
  }
 },
 "nbformat": 4,
 "nbformat_minor": 5
}
