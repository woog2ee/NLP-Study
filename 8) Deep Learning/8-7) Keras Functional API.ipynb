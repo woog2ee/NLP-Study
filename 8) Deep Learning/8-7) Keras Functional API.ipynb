{
 "cells": [
  {
   "cell_type": "markdown",
   "id": "saving-brook",
   "metadata": {},
   "source": [
    "# 1. sequential API로 만든 모델\n",
    "직관적이지만 복잡한 인공 신경망은 구현 불가"
   ]
  },
  {
   "cell_type": "code",
   "execution_count": 1,
   "id": "above-actor",
   "metadata": {},
   "outputs": [],
   "source": [
    "from tensorflow.keras.models import Sequential\n",
    "from tensorflow.keras.layers import Dense\n",
    "model = Sequential()\n",
    "model.add(Dense(3, input_dim=4, activation='softmax'))"
   ]
  },
  {
   "cell_type": "markdown",
   "id": "brazilian-remove",
   "metadata": {},
   "source": [
    "# 2. functional API로 만든 모델\n",
    "각 층을 일종의 함수로서 정의   \n",
    "\n",
    "> **1) 전결합 피드 포워드 신경망(Fully-connected FFNN)**   \n",
    "> 이전층을 다음층 함수의 입력으로 사용하며 Model()에 입출력 정의"
   ]
  },
  {
   "cell_type": "code",
   "execution_count": 2,
   "id": "opened-design",
   "metadata": {},
   "outputs": [],
   "source": [
    "from tensorflow.keras.models import Sequential, Model\n",
    "from tensorflow.keras.layers import Input, Dense\n",
    "\n",
    "inputs = Input(shape=(10,))\n",
    "hidden1 = Dense(64, activation='relu')(inputs)\n",
    "hidden2 = Dense(64, activation='relu')(hidden1)\n",
    "output = Dense(1, activation='sigmoid')(hidden2)\n",
    "\n",
    "model = Model(inputs=inputs, outputs=output)"
   ]
  },
  {
   "cell_type": "code",
   "execution_count": 3,
   "id": "liable-republic",
   "metadata": {},
   "outputs": [],
   "source": [
    "model.compile(optimizer='rmsprop', loss='categorical_crossentropy', metrics=['accuracy'])\n",
    "# model.fit(data, labels)"
   ]
  },
  {
   "cell_type": "code",
   "execution_count": 4,
   "id": "narrative-blair",
   "metadata": {},
   "outputs": [],
   "source": [
    "# 변수명을 달리한 FFNN 생성\n",
    "inputs = Input(shape=(10,0))\n",
    "x = Dense(8, activation='relu')(inputs)\n",
    "x = Dense(4, activation='relu')(x)\n",
    "x = Dense(1, activation='linear')(x)\n",
    "model = Model(inputs, x)"
   ]
  },
  {
   "cell_type": "markdown",
   "id": "acute-mongolia",
   "metadata": {},
   "source": [
    "> **2) 선형 회귀(Linear Regression)**"
   ]
  },
  {
   "cell_type": "code",
   "execution_count": 5,
   "id": "romantic-parent",
   "metadata": {},
   "outputs": [],
   "source": [
    "from tensorflow.keras.models import Model\n",
    "from tensorflow.keras.layers import Input, Dense\n",
    "\n",
    "inputs = Input(shape=(3,))\n",
    "output = Dense(1, activation='linear')(inputs)\n",
    "linear_model = Model(inputs, output)\n",
    "\n",
    "linear_model.compile(optimizer='sgd', loss='mse')\n",
    "# linear_model.fit(x=dat_test, y=y_cts_test, epochs=50, verbose=0)\n",
    "# linear_model.fit(x=dat_test, y=y_cts_test, epochs=1, verbose=1)"
   ]
  },
  {
   "cell_type": "markdown",
   "id": "timely-still",
   "metadata": {},
   "source": [
    "> **3) 로지스틱 회귀(Logistic Regresion)**"
   ]
  },
  {
   "cell_type": "code",
   "execution_count": 6,
   "id": "religious-auditor",
   "metadata": {},
   "outputs": [],
   "source": [
    "from tensorflow.keras.models import Model\n",
    "from tensorflow.keras.layers import Input, Dense\n",
    "\n",
    "inputs = Input(shape=(3,))\n",
    "output = Dense(1, activation='sigmoid')(inputs)\n",
    "logistic_model = Model(inputs, output)\n",
    "\n",
    "# logistic_model.compile(optimizer='sgd', loss='binary_crossentropy', metrics=['accuracy'])\n",
    "# logistic_model.optimizer.lr = 0.001\n",
    "# logistic_model.fit(x=dat_train, y_classifier_train, epochs=5, validation_data=(dat_test,y_classifier_test))"
   ]
  },
  {
   "cell_type": "markdown",
   "id": "exceptional-visit",
   "metadata": {},
   "source": [
    "> **4) 다중 입력을 받는 모델(model that accepts multiple inputs)**"
   ]
  },
  {
   "cell_type": "code",
   "execution_count": 7,
   "id": "seventh-candy",
   "metadata": {},
   "outputs": [],
   "source": [
    "# model = Model(inputs=[a1,a2], outputs=[b1,b2,b3])"
   ]
  },
  {
   "cell_type": "code",
   "execution_count": 8,
   "id": "sized-mambo",
   "metadata": {},
   "outputs": [],
   "source": [
    "from tensorflow.keras.models import Model\n",
    "from tensorflow.keras.layers import Input, Dense, concatenate\n",
    "\n",
    "inputA = Input(shape=(64,))\n",
    "inputB = Input(shape=(128,))\n",
    "\n",
    "x = Dense(16, activation='relu')(inputA)\n",
    "x = Dense(8, activation='relu')(x)\n",
    "x = Model(inputs=inputA, outputs=x)\n",
    "\n",
    "y = Dense(64, activation='relu')(inputB)\n",
    "y = Dense(32, activation='relu')(y)\n",
    "y = Dense(8, activation='relu')(y)\n",
    "y = Model(inputs=inputB, outputs=y)\n",
    "\n",
    "result = concatenate([x.output, y.output])\n",
    "\n",
    "z = Dense(2, activation='relu')(result)\n",
    "z = Dense(1, activation='linear')(z)\n",
    "z = Model(inputs=[x.input, y.input], outputs=z)"
   ]
  },
  {
   "cell_type": "markdown",
   "id": "human-stationery",
   "metadata": {},
   "source": [
    "> **5) RNN(Recurrence Neural Network) 은닉층 사용하기**"
   ]
  },
  {
   "cell_type": "code",
   "execution_count": 9,
   "id": "foster-asthma",
   "metadata": {},
   "outputs": [],
   "source": [
    "from tensorflow.keras.models import Model\n",
    "from tensorflow.keras.layers import Input, Dense, LSTM\n",
    "\n",
    "inputs = Input(shape=(50,1))\n",
    "lstm_layer = LSTM(10)(inputs)\n",
    "x = Dense(10, activation='relu')(lstm_layer)\n",
    "output = Dense(1, activation='sigmoid')(x)\n",
    "model = Model(inputs=inputs, outputs=output)"
   ]
  },
  {
   "cell_type": "markdown",
   "id": "equal-cattle",
   "metadata": {},
   "source": [
    "> **6) 다르게 보이지만 동일한 표기**"
   ]
  },
  {
   "cell_type": "code",
   "execution_count": 10,
   "id": "postal-belarus",
   "metadata": {},
   "outputs": [],
   "source": [
    "# encoder = Dense(128)(input)\n",
    "\n",
    "# encoder = Dense(128)\n",
    "# encoder(input)"
   ]
  }
 ],
 "metadata": {
  "kernelspec": {
   "display_name": "Python 3",
   "language": "python",
   "name": "python3"
  },
  "language_info": {
   "codemirror_mode": {
    "name": "ipython",
    "version": 3
   },
   "file_extension": ".py",
   "mimetype": "text/x-python",
   "name": "python",
   "nbconvert_exporter": "python",
   "pygments_lexer": "ipython3",
   "version": "3.8.5"
  }
 },
 "nbformat": 4,
 "nbformat_minor": 5
}
