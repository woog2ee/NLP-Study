{
 "cells": [
  {
   "cell_type": "markdown",
   "id": "occupational-permission",
   "metadata": {},
   "source": [
    "# 1. Vanilla RNN의 한계\n",
    "짧은 시퀀스에서만 효과적   \n",
    "시점이 길어지면 앞 정보가 뒤로 전달이 안되는 **장기 의존성 문제(the problem of Long-Term Dependencies)**"
   ]
  },
  {
   "cell_type": "markdown",
   "id": "ordinary-victory",
   "metadata": {},
   "source": [
    "# 2. Vanilla RNN 내부 열어보기\n",
    "입력층과 은닉층이 각 가중치와 곱해지며 이를 tanh의 입력으로 사용\n",
    "$$h_{t} = tanh(W_{x}x{t} + W_{h}h_{t-1} + b)$$"
   ]
  },
  {
   "cell_type": "markdown",
   "id": "checked-picking",
   "metadata": {},
   "source": [
    "# 3. LSTM(Long Short-Term Memory)\n",
    "은닉층의 메모리 셀에 입력/망각/출력 게이트를 추가해 불필요한 기억을 지우고, 기억해야 할 것을 저장   \n",
    "![LSTM](https://wikidocs.net/images/page/22888/vaniila_rnn_and_different_lstm_ver2.PNG \"LSTM\")"
   ]
  },
  {
   "cell_type": "markdown",
   "id": "southwest-description",
   "metadata": {},
   "source": [
    "> **1) 입력 게이트**   \n",
    "> 현재 정보의 기억량을 정함\n",
    "> $$i_{t} = \\sigma(W_{xi}x_{t} + W_{hi}h_{t-1} + b_{i}$$\n",
    "> $$g_{t} = tanh(W_{xg}x_{t} + W_{hg}h_{t-1} + b_{g}$$\n",
    "> ![input gate](https://wikidocs.net/images/page/22888/inputgate.PNG \"input gate\")"
   ]
  },
  {
   "cell_type": "markdown",
   "id": "thermal-syntax",
   "metadata": {},
   "source": [
    "> **2) 망각 게이트**   \n",
    "> 0에 가까울수록 많이 삭제, 1에 가까울수록 온전히 기억\n",
    "> $$f_{t} = \\sigma(W_{xf}x_{t} + W_{hf}h_{t-1} + b_{f}$$\n",
    "> ![forget gate](https://wikidocs.net/images/page/22888/forgetgate.PNG \"forget gate\")"
   ]
  },
  {
   "cell_type": "markdown",
   "id": "laden-print",
   "metadata": {},
   "source": [
    "> **3) 셀 상태(장기 상태)**   \n",
    "> 이전 시점과 현재 시점 입력을 얼마나 반영할지 결정\n",
    "> $$C_{t} = f_{t} \\cdot C_{t-1} + i_{t} \\cdot g_{t}$$\n",
    "> ![cell status](https://wikidocs.net/images/page/22888/cellstate2.PNG \"cell status\")"
   ]
  },
  {
   "cell_type": "markdown",
   "id": "healthy-cooper",
   "metadata": {},
   "source": [
    "> **4) 출력 게이트와 은닉 상태(단기 상태)**   \n",
    "> 출력 게이트와 tanh를 지나는 장기 상태로 현재 시점의 은닉 상태를 결정\n",
    "> $$o_{t} = \\sigma(W_{xo}x_{t} + W_{ho}h_{t-1} + b_{o})$$\n",
    "> $$h_{t} = o_{t} \\cdot tanh(c_{t})$$\n",
    "> ![output gate](https://wikidocs.net/images/page/22888/outputgateandhiddenstate.PNG \"output gate\")"
   ]
  }
 ],
 "metadata": {
  "kernelspec": {
   "display_name": "Python 3",
   "language": "python",
   "name": "python3"
  },
  "language_info": {
   "codemirror_mode": {
    "name": "ipython",
    "version": 3
   },
   "file_extension": ".py",
   "mimetype": "text/x-python",
   "name": "python",
   "nbconvert_exporter": "python",
   "pygments_lexer": "ipython3",
   "version": "3.8.5"
  }
 },
 "nbformat": 4,
 "nbformat_minor": 5
}
