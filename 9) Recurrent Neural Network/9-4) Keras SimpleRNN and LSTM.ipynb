{
 "cells": [
  {
   "cell_type": "markdown",
   "id": "velvet-bankruptcy",
   "metadata": {},
   "source": [
    "# 1. 임의의 입력 생성하기"
   ]
  },
  {
   "cell_type": "code",
   "execution_count": 1,
   "id": "outdoor-mapping",
   "metadata": {},
   "outputs": [
    {
     "name": "stdout",
     "output_type": "stream",
     "text": [
      "(4, 5)\n"
     ]
    }
   ],
   "source": [
    "import numpy as np\n",
    "import tensorflow as tf\n",
    "from tensorflow.keras.layers import SimpleRNN, LSTM, Bidirectional\n",
    "\n",
    "# 2D 텐서(timesteps, input_dim)\n",
    "train_X = [ [0.1,4.2,1.5,1.1,2.8],\n",
    "            [1.0,3.1,2.5,0.7,1.1],\n",
    "            [0.3,2.1,1.5,2.1,0.1],\n",
    "            [2.2,1.4,0.5,0.9,1.1] ]\n",
    "print(np.shape(train_X))"
   ]
  },
  {
   "cell_type": "code",
   "execution_count": 2,
   "id": "infectious-ethiopia",
   "metadata": {},
   "outputs": [
    {
     "name": "stdout",
     "output_type": "stream",
     "text": [
      "(1, 4, 5)\n"
     ]
    }
   ],
   "source": [
    "# 3D 텐서(batch_size, timesteps, input_dim)\n",
    "train_X = [[ [0.1,4.2,1.5,1.1,2.8],\n",
    "             [1.0,3.1,2.5,0.7,1.1],\n",
    "             [0.3,2.1,1.5,2.1,0.1],\n",
    "             [2.2,1.4,0.5,0.9,1.1] ]]\n",
    "train_X = np.array(train_X, dtype=np.float32)\n",
    "print(train_X.shape)"
   ]
  },
  {
   "cell_type": "markdown",
   "id": "italic-prospect",
   "metadata": {},
   "source": [
    "# 2. SimpleRNN 이해하기"
   ]
  },
  {
   "cell_type": "code",
   "execution_count": 3,
   "id": "subject-allocation",
   "metadata": {},
   "outputs": [
    {
     "name": "stdout",
     "output_type": "stream",
     "text": [
      "hidden state: [[ 0.86486524 -0.95041156 -0.3999314 ]], shape: (1, 3)\n"
     ]
    }
   ],
   "source": [
    "# return_sequences=False: 마지막 시점 은닉 상태만 반환\n",
    "rnn = SimpleRNN(3, return_sequences=False)\n",
    "hidden_state = rnn(train_X)\n",
    "\n",
    "print('hidden state: {}, shape: {}'.format(hidden_state, hidden_state.shape))"
   ]
  },
  {
   "cell_type": "code",
   "execution_count": 4,
   "id": "comparative-russell",
   "metadata": {},
   "outputs": [
    {
     "name": "stdout",
     "output_type": "stream",
     "text": [
      "hidden states: [[[ 0.3597447  -0.99311495  0.51452184]\n",
      "  [ 0.99432474 -0.9975619   0.3476355 ]\n",
      "  [ 0.8798514  -0.9492955  -0.5959873 ]\n",
      "  [ 0.5912647  -0.7410295   0.5689865 ]]], shape: (1, 4, 3)\n"
     ]
    }
   ],
   "source": [
    "# return_sequences=True: 모든 시점 은닉 상태를 반환\n",
    "rnn = SimpleRNN(3, return_sequences=True)\n",
    "hidden_states = rnn(train_X)\n",
    "\n",
    "print('hidden states: {}, shape: {}'.format(hidden_states, hidden_states.shape))"
   ]
  },
  {
   "cell_type": "code",
   "execution_count": 5,
   "id": "public-spirit",
   "metadata": {},
   "outputs": [
    {
     "name": "stdout",
     "output_type": "stream",
     "text": [
      "hidden state: [[ 0.9638611 -0.889439   0.9957025]], shape: (1, 3)\n",
      "last hidden state: [[ 0.9638611 -0.889439   0.9957025]], shape: (1, 3)\n"
     ]
    }
   ],
   "source": [
    "# return_state=True: return_sequences와 상관없이 마지막 시점 은닉 상태 반환\n",
    "rnn = SimpleRNN(3, return_sequences=False, return_state=True)\n",
    "hidden_state, last_state = rnn(train_X)\n",
    "\n",
    "print('hidden state: {}, shape: {}'.format(hidden_state, hidden_state.shape))\n",
    "print('last hidden state: {}, shape: {}'.format(last_state, last_state.shape))"
   ]
  },
  {
   "cell_type": "code",
   "execution_count": 6,
   "id": "considered-programmer",
   "metadata": {},
   "outputs": [
    {
     "name": "stdout",
     "output_type": "stream",
     "text": [
      "hidden states: [[[ 0.4814645   0.99550927  0.99875766]\n",
      "  [ 0.3288639   0.9825352   0.8869835 ]\n",
      "  [-0.8297914   0.86848813  0.8223589 ]\n",
      "  [ 0.4004874   0.990376    0.41048357]]], shape: (1, 4, 3)\n",
      "last hidden state: [[0.4004874  0.990376   0.41048357]], shape: (1, 3)\n"
     ]
    }
   ],
   "source": [
    "rnn = SimpleRNN(3, return_sequences=True, return_state=True)\n",
    "hidden_states, last_state = rnn(train_X)\n",
    "\n",
    "print('hidden states: {}, shape: {}'.format(hidden_states, hidden_states.shape))\n",
    "print('last hidden state: {}, shape: {}'.format(last_state, last_state.shape))"
   ]
  },
  {
   "cell_type": "markdown",
   "id": "dried-means",
   "metadata": {},
   "source": [
    "# 3. LSTM 이해하기"
   ]
  },
  {
   "cell_type": "code",
   "execution_count": 7,
   "id": "differential-property",
   "metadata": {},
   "outputs": [
    {
     "name": "stdout",
     "output_type": "stream",
     "text": [
      "hidden state: [[0.1834961  0.7545921  0.02721529]], shape: (1, 3)\n",
      "last hidden state: [[0.1834961  0.7545921  0.02721529]], shape: (1, 3)\n",
      "last cell state: [[1.0024986  1.5968372  0.06269248]], shape: (1, 3)\n"
     ]
    }
   ],
   "source": [
    "# return_state=True: 마지막 셀 상태까지 반환\n",
    "lstm = LSTM(3, return_sequences=False, return_state=True)\n",
    "hidden_state, last_state, last_cell_state = lstm(train_X)\n",
    "\n",
    "print('hidden state: {}, shape: {}'.format(hidden_state, hidden_state.shape))\n",
    "print('last hidden state: {}, shape: {}'.format(last_state, last_state.shape))\n",
    "print('last cell state: {}, shape: {}'.format(last_cell_state, last_cell_state.shape))"
   ]
  },
  {
   "cell_type": "code",
   "execution_count": 8,
   "id": "magnetic-pierce",
   "metadata": {},
   "outputs": [
    {
     "name": "stdout",
     "output_type": "stream",
     "text": [
      "hidden states: [[[0.5749347  0.38761458 0.00793081]\n",
      "  [0.5119476  0.6050803  0.01128334]\n",
      "  [0.5142331  0.61985    0.02179255]\n",
      "  [0.53983325 0.29598406 0.00120676]]], shape: (1, 4, 3)\n",
      "last hidden state: [[0.53983325 0.29598406 0.00120676]], shape: (1, 3)\n",
      "last cell state: [[0.9415351  1.0041575  0.02211669]], shape: (1, 3)\n"
     ]
    }
   ],
   "source": [
    "lstm = LSTM(3, return_sequences=True, return_state=True)\n",
    "hidden_states, last_state, last_cell_state = lstm(train_X)\n",
    "\n",
    "print('hidden states: {}, shape: {}'.format(hidden_states, hidden_states.shape))\n",
    "print('last hidden state: {}, shape: {}'.format(last_state, last_state.shape))\n",
    "print('last cell state: {}, shape: {}'.format(last_cell_state, last_cell_state.shape))"
   ]
  },
  {
   "cell_type": "markdown",
   "id": "hired-operation",
   "metadata": {},
   "source": [
    "# 4. Bidirectional LSTM 이해하기"
   ]
  },
  {
   "cell_type": "code",
   "execution_count": 9,
   "id": "classified-thong",
   "metadata": {},
   "outputs": [],
   "source": [
    "k_init = tf.keras.initializers.Constant(value=0.1)\n",
    "b_init = tf.keras.initializers.Constant(value=0)\n",
    "r_init = tf.keras.initializers.Constant(value=0.1)"
   ]
  },
  {
   "cell_type": "code",
   "execution_count": 10,
   "id": "blank-clark",
   "metadata": {},
   "outputs": [
    {
     "name": "stdout",
     "output_type": "stream",
     "text": [
      "hidden states: [[0.6303138 0.6303138 0.6303138 0.7038734 0.7038734 0.7038734]], shape: (1, 6)\n",
      "forward state: [[0.6303138 0.6303138 0.6303138]], shape: (1, 3)\n",
      "backward state: [[0.7038734 0.7038734 0.7038734]], shape: (1, 3)\n"
     ]
    }
   ],
   "source": [
    "# return_state=True: 마지막 시점 정방향 은닉/셀 상태와 역방향 은닉/셀 상태 4가지 반환\n",
    "bilstm = Bidirectional(LSTM(3, return_sequences=False, return_state=True,\n",
    "                            kernel_initializer=k_init, bias_initializer=b_init, recurrent_initializer=r_init))\n",
    "hidden_states, forward_h, forward_c, backward_h, backward_c = bilstm(train_X)\n",
    "\n",
    "print('hidden states: {}, shape: {}'.format(hidden_states, hidden_states.shape))\n",
    "# 정방향 LSTM 마지막 시점의 은닉 상태값\n",
    "print('forward state: {}, shape: {}'.format(forward_h, forward_h.shape))\n",
    "# 역방향 LSTM 첫번째 시점의 은닉 상태값\n",
    "print('backward state: {}, shape: {}'.format(backward_h, backward_h.shape))"
   ]
  },
  {
   "cell_type": "markdown",
   "id": "interracial-parallel",
   "metadata": {},
   "source": [
    "return_sequences=False: 정방향 LSTM 마지막 시점의 은닉 상태와, 역방향 LSTM 첫번째 시점의 은닉 상태가 연결되어 반환\n",
    "![Bidirectional LSTM1](https://wikidocs.net/images/page/94748/bilstm3.PNG \"Bidirectional LSTM1\")"
   ]
  },
  {
   "cell_type": "code",
   "execution_count": 11,
   "id": "particular-isaac",
   "metadata": {},
   "outputs": [
    {
     "name": "stdout",
     "output_type": "stream",
     "text": [
      "hidden states: [[[0.35906473 0.35906473 0.35906473 0.7038734  0.7038734  0.7038734 ]\n",
      "  [0.55111325 0.55111325 0.55111325 0.58863586 0.58863586 0.58863586]\n",
      "  [0.59115744 0.59115744 0.59115744 0.3951699  0.3951699  0.3951699 ]\n",
      "  [0.6303138  0.6303138  0.6303138  0.21942244 0.21942244 0.21942244]]], shape: (1, 4, 6)\n",
      "forward state: [[0.6303138 0.6303138 0.6303138]], shape: (1, 3)\n",
      "backward state: [[0.7038734 0.7038734 0.7038734]], shape: (1, 3)\n"
     ]
    }
   ],
   "source": [
    "bilstm = Bidirectional(LSTM(3, return_sequences=True, return_state=True,\n",
    "                            kernel_initializer=k_init, bias_initializer=b_init, recurrent_initializer=r_init))\n",
    "hidden_states, forward_h, forward_c, backward_h, backward_c = bilstm(train_X)\n",
    "\n",
    "print('hidden states: {}, shape: {}'.format(hidden_states, hidden_states.shape))\n",
    "# 정방향 LSTM 마지막 시점의 은닉 상태값\n",
    "print('forward state: {}, shape: {}'.format(forward_h, forward_h.shape))\n",
    "# 역방향 LSTM 첫번째 시점의 은닉 상태값\n",
    "print('backward state: {}, shape: {}'.format(backward_h, backward_h.shape))"
   ]
  },
  {
   "cell_type": "markdown",
   "id": "regular-protocol",
   "metadata": {},
   "source": [
    "return_sequences=True: 정방향 LSTM n번째 시점의 은닉 상태와, 역방향 LSTM n번째 시점의 은닉 상태가 연결되어 반환\n",
    "![Bidirectional LSTM2](https://wikidocs.net/images/page/94748/bilstm1.PNG \"Bidirectional LSTM2\")"
   ]
  }
 ],
 "metadata": {
  "kernelspec": {
   "display_name": "Python 3",
   "language": "python",
   "name": "python3"
  },
  "language_info": {
   "codemirror_mode": {
    "name": "ipython",
    "version": 3
   },
   "file_extension": ".py",
   "mimetype": "text/x-python",
   "name": "python",
   "nbconvert_exporter": "python",
   "pygments_lexer": "ipython3",
   "version": "3.8.5"
  }
 },
 "nbformat": 4,
 "nbformat_minor": 5
}
