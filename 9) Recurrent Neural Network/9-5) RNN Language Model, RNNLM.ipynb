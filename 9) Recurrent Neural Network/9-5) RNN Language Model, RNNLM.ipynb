{
 "cells": [
  {
   "cell_type": "markdown",
   "id": "simple-above",
   "metadata": {},
   "source": [
    "# 1. RNN 언어 모델(RNN Language Model)\n",
    "시점 개념을 도입해 입력 길이 고정이 필수적이지 않은 RNN 언어 모델   \n",
    "이전 시점의 출력을 현재 시점의 입력으로 받는 것은 테스트 과정   \n",
    "**교사 강요(teacher forcing)** 기법으로 다음 단어를 포함한 시퀀스를 예측하도록 훈련\n",
    "![RNNLM1](https://wikidocs.net/images/page/46496/rnnlm2_final_final.PNG \"RNNLM1\")\n",
    "\n",
    "RNNLM은 4개 층으로 이루어진 인공 신경망\n",
    "![RNNLM2](https://wikidocs.net/images/page/46496/rnnlm3_final.PNG \"RNNLM2\")\n",
    "\n",
    "출력층(예측값)과 실제값 사이 오차로부터 손실 함수를 사용하고 역전파가 이루어지며 인공 신경망이 학습됨   \n",
    "$$e_{t} = lookup(x_{t})$$\n",
    "$$h_{t} = tanh(W_{x}e_{t} + W_{h}h_{t-1} + b)$$\n",
    "$$\\hat{y_{t}} = softmax(W_{y}h_{t} + b)$$\n",
    "![RNNLM3](https://wikidocs.net/images/page/46496/rnnlm4_final.PNG \"RNNLM3\")"
   ]
  }
 ],
 "metadata": {
  "kernelspec": {
   "display_name": "Python 3",
   "language": "python",
   "name": "python3"
  },
  "language_info": {
   "codemirror_mode": {
    "name": "ipython",
    "version": 3
   },
   "file_extension": ".py",
   "mimetype": "text/x-python",
   "name": "python",
   "nbconvert_exporter": "python",
   "pygments_lexer": "ipython3",
   "version": "3.8.5"
  }
 },
 "nbformat": 4,
 "nbformat_minor": 5
}
