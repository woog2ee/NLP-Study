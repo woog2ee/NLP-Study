{
 "cells": [
  {
   "cell_type": "markdown",
   "id": "coordinate-tuesday",
   "metadata": {},
   "source": [
    "# 1. Gated Recurrent Unit, GRU\n",
    "LSTM에는 출력/망각/입력 게이트가 있다면 GRU에는 업데이트/리셋 게이트   \n",
    "데이터가 적으면 매개 변수가 적은 GRU가, 데이터가 많으면 LSTM이 더 나음"
   ]
  },
  {
   "cell_type": "markdown",
   "id": "greatest-variable",
   "metadata": {},
   "source": [
    "# 2. 케라스에서의 GRU"
   ]
  },
  {
   "cell_type": "code",
   "execution_count": 1,
   "id": "utility-harassment",
   "metadata": {},
   "outputs": [],
   "source": [
    "# model.add(GRU(hidden_size, input_shape=(timesteps, input_dim)))"
   ]
  }
 ],
 "metadata": {
  "kernelspec": {
   "display_name": "Python 3",
   "language": "python",
   "name": "python3"
  },
  "language_info": {
   "codemirror_mode": {
    "name": "ipython",
    "version": 3
   },
   "file_extension": ".py",
   "mimetype": "text/x-python",
   "name": "python",
   "nbconvert_exporter": "python",
   "pygments_lexer": "ipython3",
   "version": "3.8.5"
  }
 },
 "nbformat": 4,
 "nbformat_minor": 5
}
