{
 "cells": [
  {
   "cell_type": "markdown",
   "id": "beneficial-subject",
   "metadata": {},
   "source": [
    "# 1. 글자 단위 RNN 언어 모델(Char RNNLM)\n",
    "RNN의 입출력을 글자 단위로 구현해 임베딩층을 사용하지 않음\n",
    "![Char RNN](https://wikidocs.net/images/page/48649/char_rnn1.PNG \"Char RNN\")\n",
    "\n",
    "> **1) 데이터에 대한 이해와 전처리**"
   ]
  },
  {
   "cell_type": "code",
   "execution_count": 1,
   "id": "interracial-charm",
   "metadata": {},
   "outputs": [],
   "source": [
    "import numpy as np\n",
    "import urllib.request\n",
    "from tensorflow.keras.utils import to_categorical"
   ]
  },
  {
   "cell_type": "code",
   "execution_count": 2,
   "id": "played-stanford",
   "metadata": {},
   "outputs": [
    {
     "data": {
      "text/plain": [
       "['the project gutenberg ebook of alices adventures in wonderland, by lewis carroll',\n",
       " 'this ebook is for the use of anyone anywhere in the united states and most',\n",
       " 'other parts of the world at no cost and with almost no restrictions',\n",
       " 'whatsoever.  you may copy it, give it away or re-use it under the terms of',\n",
       " 'the project gutenberg license included with this ebook or online at']"
      ]
     },
     "execution_count": 2,
     "metadata": {},
     "output_type": "execute_result"
    }
   ],
   "source": [
    "urllib.request.urlretrieve(\"http://www.gutenberg.org/files/11/11-0.txt\", filename=\"11-0.txt\")\n",
    "f = open('11-0.txt', 'rb')\n",
    "lines = []\n",
    "\n",
    "for line in f:\n",
    "    line = line.strip() # \\r, \\n 제거\n",
    "    line = line.lower()\n",
    "    line = line.decode('ascii', 'ignore') # \\xe2\\x80\\x99 등의 바이트 열 제거\n",
    "    if len(line) > 0:\n",
    "        lines.append(line)    \n",
    "f.close()\n",
    "\n",
    "lines[:5]"
   ]
  },
  {
   "cell_type": "code",
   "execution_count": 3,
   "id": "impressive-architecture",
   "metadata": {},
   "outputs": [
    {
     "name": "stdout",
     "output_type": "stream",
     "text": [
      "문자열 길이 또는 총 글자 개수: 159821\n",
      "the project gutenberg ebook of alices adventures in wonderland, by lewis carroll this ebook is for the use of anyone anywhere in the united states and most other parts of the world at no cost and with\n"
     ]
    }
   ],
   "source": [
    "# 한 문자열로 통합\n",
    "text = ' '.join(lines)\n",
    "print('문자열 길이 또는 총 글자 개수: %d' % len(text))\n",
    "\n",
    "print(text[:200])"
   ]
  },
  {
   "cell_type": "code",
   "execution_count": 4,
   "id": "waiting-advertising",
   "metadata": {},
   "outputs": [
    {
     "name": "stdout",
     "output_type": "stream",
     "text": [
      "글자 집합 크기: 57\n",
      "{' ': 0, '!': 1, '\"': 2, '#': 3, '$': 4, '%': 5, \"'\": 6, '(': 7, ')': 8, '*': 9, ',': 10, '-': 11, '.': 12, '/': 13, '0': 14, '1': 15, '2': 16, '3': 17, '4': 18, '5': 19, '6': 20, '7': 21, '8': 22, '9': 23, ':': 24, ';': 25, '?': 26, '@': 27, '[': 28, ']': 29, '_': 30, 'a': 31, 'b': 32, 'c': 33, 'd': 34, 'e': 35, 'f': 36, 'g': 37, 'h': 38, 'i': 39, 'j': 40, 'k': 41, 'l': 42, 'm': 43, 'n': 44, 'o': 45, 'p': 46, 'q': 47, 'r': 48, 's': 49, 't': 50, 'u': 51, 'v': 52, 'w': 53, 'x': 54, 'y': 55, 'z': 56}\n"
     ]
    }
   ],
   "source": [
    "# 글자 집합 생성\n",
    "char_vocab = sorted(list(set(text)))\n",
    "vocab_size = len(char_vocab)\n",
    "print('글자 집합 크기: {}'.format(vocab_size))\n",
    "\n",
    "char_to_index = dict((c,i) for i, c in enumerate(char_vocab))\n",
    "print(char_to_index)"
   ]
  },
  {
   "cell_type": "code",
   "execution_count": 5,
   "id": "eligible-administration",
   "metadata": {},
   "outputs": [],
   "source": [
    "# 인덱스로부터 글자 반환\n",
    "index_to_char = {}\n",
    "for key, value in char_to_index.items():\n",
    "    index_to_char[value] = key"
   ]
  },
  {
   "cell_type": "code",
   "execution_count": 6,
   "id": "delayed-dragon",
   "metadata": {},
   "outputs": [
    {
     "name": "stdout",
     "output_type": "stream",
     "text": [
      "문장 샘플 수: 2663\n",
      "[50, 38, 35, 0, 46, 48, 45, 40, 35, 33, 50, 0, 37, 51, 50, 35, 44, 32, 35, 48, 37, 0, 35, 32, 45, 45, 41, 0, 45, 36, 0, 31, 42, 39, 33, 35, 49, 0, 31, 34, 52, 35, 44, 50, 51, 48, 35, 49, 0, 39, 44, 0, 53, 45, 44, 34, 35, 48, 42, 31]\n",
      "[38, 35, 0, 46, 48, 45, 40, 35, 33, 50, 0, 37, 51, 50, 35, 44, 32, 35, 48, 37, 0, 35, 32, 45, 45, 41, 0, 45, 36, 0, 31, 42, 39, 33, 35, 49, 0, 31, 34, 52, 35, 44, 50, 51, 48, 35, 49, 0, 39, 44, 0, 53, 45, 44, 34, 35, 48, 42, 31, 44]\n"
     ]
    }
   ],
   "source": [
    "# 문자열로부터 문장 샘플로 분리\n",
    "seq_length = 60\n",
    "n_samples = int(np.floor((len(text)-1) / seq_length))\n",
    "print('문장 샘플 수: {}'.format(n_samples))\n",
    "\n",
    "train_X = []\n",
    "train_y = []\n",
    "\n",
    "for i in range(n_samples):\n",
    "    X_sample = text[i * seq_length: (i + 1) * seq_length]\n",
    "    X_encoded = [char_to_index[c] for c in X_sample]\n",
    "    train_X.append(X_encoded)\n",
    "    \n",
    "    y_sample = text[i * seq_length + 1: (i + 1) * seq_length + 1]\n",
    "    y_encoded = [char_to_index[c] for c in y_sample]\n",
    "    train_y.append(y_encoded)\n",
    "    \n",
    "print(train_X[0])\n",
    "print(train_y[0]) # train_X[0]에서 오른쪽으로 한 칸 쉬프트된 문장"
   ]
  },
  {
   "cell_type": "code",
   "execution_count": 7,
   "id": "electronic-blogger",
   "metadata": {},
   "outputs": [
    {
     "name": "stdout",
     "output_type": "stream",
     "text": [
      "train_X의 크기: (2663, 60, 57)\n",
      "train_y의 크기: (2663, 60, 57)\n"
     ]
    }
   ],
   "source": [
    "# 훈련 데이터를 원-핫 인코딩\n",
    "train_X = to_categorical(train_X)\n",
    "train_y = to_categorical(train_y)\n",
    "\n",
    "print('train_X의 크기: {}'.format(train_X.shape))\n",
    "print('train_y의 크기: {}'.format(train_y.shape))"
   ]
  },
  {
   "cell_type": "markdown",
   "id": "gentle-experience",
   "metadata": {},
   "source": [
    "> **2) 모델 설계하기**"
   ]
  },
  {
   "cell_type": "code",
   "execution_count": 8,
   "id": "finnish-domestic",
   "metadata": {},
   "outputs": [],
   "source": [
    "from tensorflow.keras.models import Sequential\n",
    "from tensorflow.keras.layers import Dense, LSTM, TimeDistributed"
   ]
  },
  {
   "cell_type": "code",
   "execution_count": 9,
   "id": "unauthorized-lecture",
   "metadata": {},
   "outputs": [
    {
     "name": "stdout",
     "output_type": "stream",
     "text": [
      "Epoch 1/80\n",
      "84/84 - 43s - loss: 3.0792 - accuracy: 0.1820\n",
      "Epoch 2/80\n",
      "84/84 - 39s - loss: 2.6886 - accuracy: 0.2592\n",
      "Epoch 3/80\n",
      "84/84 - 37s - loss: 2.3621 - accuracy: 0.3341\n",
      "Epoch 4/80\n",
      "84/84 - 39s - loss: 2.2198 - accuracy: 0.3713\n",
      "Epoch 5/80\n",
      "84/84 - 40s - loss: 2.1107 - accuracy: 0.3977\n",
      "Epoch 6/80\n",
      "84/84 - 43s - loss: 2.0177 - accuracy: 0.4204\n",
      "Epoch 7/80\n",
      "84/84 - 44s - loss: 1.9489 - accuracy: 0.4365\n",
      "Epoch 8/80\n",
      "84/84 - 42s - loss: 1.8828 - accuracy: 0.4538\n",
      "Epoch 9/80\n",
      "84/84 - 42s - loss: 1.8252 - accuracy: 0.4705\n",
      "Epoch 10/80\n",
      "84/84 - 41s - loss: 1.7770 - accuracy: 0.4841\n",
      "Epoch 11/80\n",
      "84/84 - 41s - loss: 1.7320 - accuracy: 0.4962\n",
      "Epoch 12/80\n",
      "84/84 - 44s - loss: 1.6893 - accuracy: 0.5074\n",
      "Epoch 13/80\n",
      "84/84 - 47s - loss: 1.6508 - accuracy: 0.5177\n",
      "Epoch 14/80\n",
      "84/84 - 47s - loss: 1.6127 - accuracy: 0.5270\n",
      "Epoch 15/80\n",
      "84/84 - 49s - loss: 1.5756 - accuracy: 0.5364\n",
      "Epoch 16/80\n",
      "84/84 - 43s - loss: 1.5420 - accuracy: 0.5443\n",
      "Epoch 17/80\n",
      "84/84 - 42s - loss: 1.5076 - accuracy: 0.5547\n",
      "Epoch 18/80\n",
      "84/84 - 45s - loss: 1.4750 - accuracy: 0.5642\n",
      "Epoch 19/80\n",
      "84/84 - 49s - loss: 1.4427 - accuracy: 0.5734\n",
      "Epoch 20/80\n",
      "84/84 - 43s - loss: 1.4126 - accuracy: 0.5817\n",
      "Epoch 21/80\n",
      "84/84 - 41s - loss: 1.3827 - accuracy: 0.5899\n",
      "Epoch 22/80\n",
      "84/84 - 43s - loss: 1.3522 - accuracy: 0.5997\n",
      "Epoch 23/80\n",
      "84/84 - 41s - loss: 1.3198 - accuracy: 0.6082\n",
      "Epoch 24/80\n",
      "84/84 - 39s - loss: 1.2923 - accuracy: 0.6170\n",
      "Epoch 25/80\n",
      "84/84 - 44s - loss: 1.2617 - accuracy: 0.6252\n",
      "Epoch 26/80\n",
      "84/84 - 49s - loss: 1.2340 - accuracy: 0.6331\n",
      "Epoch 27/80\n",
      "84/84 - 48s - loss: 1.2024 - accuracy: 0.6429\n",
      "Epoch 28/80\n",
      "84/84 - 42s - loss: 1.1729 - accuracy: 0.6505\n",
      "Epoch 29/80\n",
      "84/84 - 51s - loss: 1.1436 - accuracy: 0.6594\n",
      "Epoch 30/80\n",
      "84/84 - 48s - loss: 1.1116 - accuracy: 0.6693\n",
      "Epoch 31/80\n",
      "84/84 - 53s - loss: 1.0833 - accuracy: 0.6763\n",
      "Epoch 32/80\n",
      "84/84 - 46s - loss: 1.0537 - accuracy: 0.6859\n",
      "Epoch 33/80\n",
      "84/84 - 45s - loss: 1.0220 - accuracy: 0.6954\n",
      "Epoch 34/80\n",
      "84/84 - 44s - loss: 0.9908 - accuracy: 0.7049\n",
      "Epoch 35/80\n",
      "84/84 - 48s - loss: 0.9620 - accuracy: 0.7136\n",
      "Epoch 36/80\n",
      "84/84 - 49s - loss: 0.9313 - accuracy: 0.7236\n",
      "Epoch 37/80\n",
      "84/84 - 44s - loss: 0.9003 - accuracy: 0.7326\n",
      "Epoch 38/80\n",
      "84/84 - 46s - loss: 0.8686 - accuracy: 0.7427\n",
      "Epoch 39/80\n",
      "84/84 - 49s - loss: 0.8411 - accuracy: 0.7514\n",
      "Epoch 40/80\n",
      "84/84 - 50s - loss: 0.8090 - accuracy: 0.7612\n",
      "Epoch 41/80\n",
      "84/84 - 46s - loss: 0.7797 - accuracy: 0.7714\n",
      "Epoch 42/80\n",
      "84/84 - 45s - loss: 0.7540 - accuracy: 0.7779\n",
      "Epoch 43/80\n",
      "84/84 - 44s - loss: 0.7243 - accuracy: 0.7878\n",
      "Epoch 44/80\n",
      "84/84 - 44s - loss: 0.6953 - accuracy: 0.7977\n",
      "Epoch 45/80\n",
      "84/84 - 46s - loss: 0.6722 - accuracy: 0.8051\n",
      "Epoch 46/80\n",
      "84/84 - 41s - loss: 0.6508 - accuracy: 0.8113\n",
      "Epoch 47/80\n",
      "84/84 - 42s - loss: 0.6244 - accuracy: 0.8208\n",
      "Epoch 48/80\n",
      "84/84 - 43s - loss: 0.5950 - accuracy: 0.8302\n",
      "Epoch 49/80\n",
      "84/84 - 40s - loss: 0.5714 - accuracy: 0.8381\n",
      "Epoch 50/80\n",
      "84/84 - 43s - loss: 0.5482 - accuracy: 0.8451\n",
      "Epoch 51/80\n",
      "84/84 - 42s - loss: 0.5269 - accuracy: 0.8525\n",
      "Epoch 52/80\n",
      "84/84 - 40s - loss: 0.5083 - accuracy: 0.8579\n",
      "Epoch 53/80\n",
      "84/84 - 40s - loss: 0.4825 - accuracy: 0.8672\n",
      "Epoch 54/80\n",
      "84/84 - 43s - loss: 0.4610 - accuracy: 0.8741\n",
      "Epoch 55/80\n",
      "84/84 - 38s - loss: 0.4401 - accuracy: 0.8812\n",
      "Epoch 56/80\n",
      "84/84 - 39s - loss: 0.4270 - accuracy: 0.8838\n",
      "Epoch 57/80\n",
      "84/84 - 43s - loss: 0.4071 - accuracy: 0.8906\n",
      "Epoch 58/80\n",
      "84/84 - 43s - loss: 0.3936 - accuracy: 0.8945\n",
      "Epoch 59/80\n",
      "84/84 - 43s - loss: 0.3702 - accuracy: 0.9030\n",
      "Epoch 60/80\n",
      "84/84 - 46s - loss: 0.3553 - accuracy: 0.9079\n",
      "Epoch 61/80\n",
      "84/84 - 44s - loss: 0.3390 - accuracy: 0.9131\n",
      "Epoch 62/80\n",
      "84/84 - 41s - loss: 0.3277 - accuracy: 0.9163\n",
      "Epoch 63/80\n",
      "84/84 - 43s - loss: 0.3098 - accuracy: 0.9220\n",
      "Epoch 64/80\n",
      "84/84 - 45s - loss: 0.3008 - accuracy: 0.9241\n",
      "Epoch 65/80\n",
      "84/84 - 43s - loss: 0.2907 - accuracy: 0.9271\n",
      "Epoch 66/80\n",
      "84/84 - 43s - loss: 0.2760 - accuracy: 0.9322\n",
      "Epoch 67/80\n",
      "84/84 - 41s - loss: 0.2643 - accuracy: 0.9355\n",
      "Epoch 68/80\n",
      "84/84 - 43s - loss: 0.2505 - accuracy: 0.9396\n",
      "Epoch 69/80\n",
      "84/84 - 43s - loss: 0.2420 - accuracy: 0.9417\n",
      "Epoch 70/80\n",
      "84/84 - 38s - loss: 0.2325 - accuracy: 0.9441\n",
      "Epoch 71/80\n",
      "84/84 - 41s - loss: 0.2230 - accuracy: 0.9464\n",
      "Epoch 72/80\n",
      "84/84 - 40s - loss: 0.2164 - accuracy: 0.9481\n",
      "Epoch 73/80\n",
      "84/84 - 44s - loss: 0.2074 - accuracy: 0.9505\n",
      "Epoch 74/80\n",
      "84/84 - 41s - loss: 0.2031 - accuracy: 0.9515\n",
      "Epoch 75/80\n",
      "84/84 - 43s - loss: 0.1963 - accuracy: 0.9531\n",
      "Epoch 76/80\n",
      "84/84 - 42s - loss: 0.1885 - accuracy: 0.9546\n",
      "Epoch 77/80\n",
      "84/84 - 49s - loss: 0.1805 - accuracy: 0.9568\n",
      "Epoch 78/80\n",
      "84/84 - 42s - loss: 0.1750 - accuracy: 0.9577\n",
      "Epoch 79/80\n",
      "84/84 - 44s - loss: 0.1808 - accuracy: 0.9556\n",
      "Epoch 80/80\n",
      "84/84 - 41s - loss: 0.1868 - accuracy: 0.9528\n"
     ]
    },
    {
     "data": {
      "text/plain": [
       "<tensorflow.python.keras.callbacks.History at 0x298790ffee0>"
      ]
     },
     "execution_count": 9,
     "metadata": {},
     "output_type": "execute_result"
    }
   ],
   "source": [
    "model = Sequential()\n",
    "model.add(LSTM(256, input_shape=(None, train_X.shape[2]), return_sequences=True))\n",
    "model.add(LSTM(256, return_sequences=True))\n",
    "model.add(TimeDistributed(Dense(vocab_size, activation='softmax')))\n",
    "\n",
    "model.compile(loss='categorical_crossentropy', optimizer='adam', metrics=['accuracy'])\n",
    "model.fit(train_X, train_y, epochs=80, verbose=2)"
   ]
  },
  {
   "cell_type": "code",
   "execution_count": 10,
   "id": "handed-medication",
   "metadata": {},
   "outputs": [],
   "source": [
    "def sentence_generation(model, length):\n",
    "    ix = [np.random.randint(vocab_size)]\n",
    "    y_char = [index_to_char[ix[-1]]]\n",
    "    print(ix[-1], '번 글자', y_char[-1], '로 예측을 시작!')\n",
    "    \n",
    "    X = np.zeros((1, length, vocab_size))\n",
    "    \n",
    "    for i in range(length):\n",
    "        X[0][i][ix[-1]] = 1\n",
    "        print(index_to_char[ix[-1]], end=\"\")\n",
    "        ix = np.argmax(model.predict(X[:, :i+1, :])[0], 1)\n",
    "        y_char.append(index_to_char[ix[-1]])\n",
    "        \n",
    "    return ('').join(y_char)"
   ]
  },
  {
   "cell_type": "code",
   "execution_count": 11,
   "id": "played-blink",
   "metadata": {},
   "outputs": [
    {
     "name": "stdout",
     "output_type": "stream",
     "text": [
      "1 번 글자 ! 로 예측을 시작!\n",
      "! its always six oclock now uponitions. so for the reason of tank, and well my tel what? was your ea"
     ]
    },
    {
     "data": {
      "text/plain": [
       "'! its always six oclock now uponitions. so for the reason of tank, and well my tel what? was your eas'"
      ]
     },
     "execution_count": 11,
     "metadata": {},
     "output_type": "execute_result"
    }
   ],
   "source": [
    "sentence_generation(model, 100)"
   ]
  },
  {
   "cell_type": "markdown",
   "id": "wrong-newman",
   "metadata": {},
   "source": [
    "# 2. 글자 단위 RNN(Char RNN)으로 텍스트 생성하기\n",
    "\n",
    "> **1) 데이터에 대한 이해와 전처리**"
   ]
  },
  {
   "cell_type": "code",
   "execution_count": 12,
   "id": "passive-soundtrack",
   "metadata": {},
   "outputs": [],
   "source": [
    "import numpy as np\n",
    "from tensorflow.keras.utils import to_categorical"
   ]
  },
  {
   "cell_type": "code",
   "execution_count": 13,
   "id": "allied-passport",
   "metadata": {},
   "outputs": [],
   "source": [
    "text = '''\n",
    "I get on with life as a programmer,\n",
    "I like to comtemplate beer.\n",
    "But when I start to daydream,\n",
    "My mind turns straight to wine.\n",
    "\n",
    "Do I love wine more than beer?\n",
    "\n",
    "I like to use words about beer.\n",
    "But when I stop my talking,\n",
    "My mind turns straight to wine.\n",
    "\n",
    "I hate bugs and errors.\n",
    "But I just think back to wine,\n",
    "And I'm happy once again.\n",
    "\n",
    "I like to hang out with programming and deep learning.\n",
    "But when left alone,\n",
    "My mind turns straight to wine.\n",
    "'''"
   ]
  },
  {
   "cell_type": "code",
   "execution_count": 14,
   "id": "republican-promise",
   "metadata": {},
   "outputs": [
    {
     "name": "stdout",
     "output_type": "stream",
     "text": [
      "I get on with life as a programmer, I like to comtemplate beer. But when I start to daydream, My mind turns straight to wine. Do I love wine more than beer? I like to use words about beer. But when I stop my talking, My mind turns straight to wine. I hate bugs and errors. But I just think back to wine, And I'm happy once again. I like to hang out with programming and deep learning. But when left alone, My mind turns straight to wine.\n"
     ]
    }
   ],
   "source": [
    "# 한 문자열로 통합\n",
    "tokens = text.split()\n",
    "text = ' '.join(tokens)\n",
    "print(text)"
   ]
  },
  {
   "cell_type": "code",
   "execution_count": 15,
   "id": "proof-valuable",
   "metadata": {},
   "outputs": [
    {
     "name": "stdout",
     "output_type": "stream",
     "text": [
      "[' ', \"'\", ',', '.', '?', 'A', 'B', 'D', 'I', 'M', 'a', 'b', 'c', 'd', 'e', 'f', 'g', 'h', 'i', 'j', 'k', 'l', 'm', 'n', 'o', 'p', 'r', 's', 't', 'u', 'v', 'w', 'y']\n",
      "글자 집합 크기: 33\n"
     ]
    }
   ],
   "source": [
    "# 글자 집합 생성\n",
    "char_vocab = sorted(list(set(text)))\n",
    "print(char_vocab)\n",
    "\n",
    "vocab_size = len(char_vocab)\n",
    "print('글자 집합 크기: {}'.format(vocab_size))"
   ]
  },
  {
   "cell_type": "code",
   "execution_count": 16,
   "id": "significant-default",
   "metadata": {},
   "outputs": [
    {
     "name": "stdout",
     "output_type": "stream",
     "text": [
      "{' ': 0, \"'\": 1, ',': 2, '.': 3, '?': 4, 'A': 5, 'B': 6, 'D': 7, 'I': 8, 'M': 9, 'a': 10, 'b': 11, 'c': 12, 'd': 13, 'e': 14, 'f': 15, 'g': 16, 'h': 17, 'i': 18, 'j': 19, 'k': 20, 'l': 21, 'm': 22, 'n': 23, 'o': 24, 'p': 25, 'r': 26, 's': 27, 't': 28, 'u': 29, 'v': 30, 'w': 31, 'y': 32}\n"
     ]
    }
   ],
   "source": [
    "# 글자에 정수 인덱스 부여\n",
    "char_to_index = dict((c,i) for i, c in enumerate(char_vocab))\n",
    "print(char_to_index)"
   ]
  },
  {
   "cell_type": "code",
   "execution_count": 17,
   "id": "cultural-variable",
   "metadata": {},
   "outputs": [
    {
     "name": "stdout",
     "output_type": "stream",
     "text": [
      "총 훈련 샘플 수: 426\n"
     ]
    },
    {
     "data": {
      "text/plain": [
       "['I get on wi',\n",
       " ' get on wit',\n",
       " 'get on with',\n",
       " 'et on with ',\n",
       " 't on with l',\n",
       " ' on with li',\n",
       " 'on with lif',\n",
       " 'n with life',\n",
       " ' with life ',\n",
       " 'with life a']"
      ]
     },
     "execution_count": 17,
     "metadata": {},
     "output_type": "execute_result"
    }
   ],
   "source": [
    "# 모든 샘플 길이가 같도록 구성\n",
    "length = 11\n",
    "sequences = []\n",
    "for i in range(length, len(text)):\n",
    "    seq = text[i-length:i]\n",
    "    sequences.append(seq)\n",
    "print('총 훈련 샘플 수: %d' % len(sequences))\n",
    "\n",
    "sequences[:10]"
   ]
  },
  {
   "cell_type": "code",
   "execution_count": 18,
   "id": "failing-contributor",
   "metadata": {},
   "outputs": [
    {
     "name": "stdout",
     "output_type": "stream",
     "text": [
      "[8, 0, 16, 14, 28, 0, 24, 23, 0, 31, 18]\n",
      "[0, 16, 14, 28, 0, 24, 23, 0, 31, 18, 28]\n",
      "[16, 14, 28, 0, 24, 23, 0, 31, 18, 28, 17]\n",
      "[14, 28, 0, 24, 23, 0, 31, 18, 28, 17, 0]\n",
      "[28, 0, 24, 23, 0, 31, 18, 28, 17, 0, 21]\n"
     ]
    }
   ],
   "source": [
    "# 전체 데이터에 정수 인코딩 \n",
    "X = []\n",
    "for line in sequences:\n",
    "    temp_X = [char_to_index[char] for char in line]\n",
    "    X.append(temp_X)\n",
    "    \n",
    "for line in X[:5]:\n",
    "    print(line)"
   ]
  },
  {
   "cell_type": "code",
   "execution_count": 19,
   "id": "biological-alabama",
   "metadata": {},
   "outputs": [
    {
     "name": "stdout",
     "output_type": "stream",
     "text": [
      "[ 8  0 16 14 28  0 24 23  0 31]\n",
      "[ 0 16 14 28  0 24 23  0 31 18]\n",
      "[16 14 28  0 24 23  0 31 18 28]\n",
      "[14 28  0 24 23  0 31 18 28 17]\n",
      "[28  0 24 23  0 31 18 28 17  0]\n",
      "[18 28 17  0 21]\n"
     ]
    }
   ],
   "source": [
    "# 샘플 마지막 글자를 레이블로 분리\n",
    "sequences = np.array(X)\n",
    "X = sequences[:,:-1]\n",
    "y = sequences[:,-1]\n",
    "\n",
    "for line in X[:5]:\n",
    "    print(line)\n",
    "print(y[:5])"
   ]
  },
  {
   "cell_type": "code",
   "execution_count": 20,
   "id": "african-methodology",
   "metadata": {},
   "outputs": [
    {
     "name": "stdout",
     "output_type": "stream",
     "text": [
      "(426, 10, 33)\n"
     ]
    }
   ],
   "source": [
    "# X와 y를 원-핫 인코딩\n",
    "sequences = [to_categorical(x, num_classes=vocab_size) for x in X]\n",
    "X = np.array(sequences)\n",
    "y = to_categorical(y, num_classes=vocab_size)\n",
    "\n",
    "print(X.shape)"
   ]
  },
  {
   "cell_type": "markdown",
   "id": "fresh-valentine",
   "metadata": {},
   "source": [
    "> **2) 모델 설계하기**"
   ]
  },
  {
   "cell_type": "code",
   "execution_count": 21,
   "id": "loving-pharmacology",
   "metadata": {},
   "outputs": [],
   "source": [
    "from tensorflow.keras.models import Sequential\n",
    "from tensorflow.keras.layers import Dense, LSTM\n",
    "from tensorflow.keras.preprocessing.sequence import pad_sequences"
   ]
  },
  {
   "cell_type": "code",
   "execution_count": 22,
   "id": "paperback-nepal",
   "metadata": {},
   "outputs": [
    {
     "name": "stdout",
     "output_type": "stream",
     "text": [
      "Epoch 1/100\n",
      "14/14 - 4s - loss: 3.4732 - accuracy: 0.1103\n",
      "Epoch 2/100\n",
      "14/14 - 0s - loss: 3.3513 - accuracy: 0.1995\n",
      "Epoch 3/100\n",
      "14/14 - 0s - loss: 3.0942 - accuracy: 0.1972\n",
      "Epoch 4/100\n",
      "14/14 - 0s - loss: 2.9854 - accuracy: 0.1972\n",
      "Epoch 5/100\n",
      "14/14 - 0s - loss: 2.9619 - accuracy: 0.1972\n",
      "Epoch 6/100\n",
      "14/14 - 0s - loss: 2.9363 - accuracy: 0.1972\n",
      "Epoch 7/100\n",
      "14/14 - 0s - loss: 2.9211 - accuracy: 0.1972\n",
      "Epoch 8/100\n",
      "14/14 - 0s - loss: 2.9027 - accuracy: 0.1972\n",
      "Epoch 9/100\n",
      "14/14 - 0s - loss: 2.8724 - accuracy: 0.1972\n",
      "Epoch 10/100\n",
      "14/14 - 0s - loss: 2.8466 - accuracy: 0.1972\n",
      "Epoch 11/100\n",
      "14/14 - 0s - loss: 2.8220 - accuracy: 0.1972\n",
      "Epoch 12/100\n",
      "14/14 - 0s - loss: 2.7793 - accuracy: 0.2089\n",
      "Epoch 13/100\n",
      "14/14 - 0s - loss: 2.7466 - accuracy: 0.1972\n",
      "Epoch 14/100\n",
      "14/14 - 0s - loss: 2.6960 - accuracy: 0.2254\n",
      "Epoch 15/100\n",
      "14/14 - 0s - loss: 2.6507 - accuracy: 0.2300\n",
      "Epoch 16/100\n",
      "14/14 - 0s - loss: 2.5922 - accuracy: 0.2653\n",
      "Epoch 17/100\n",
      "14/14 - 0s - loss: 2.5583 - accuracy: 0.2535\n",
      "Epoch 18/100\n",
      "14/14 - 0s - loss: 2.5002 - accuracy: 0.2958\n",
      "Epoch 19/100\n",
      "14/14 - 0s - loss: 2.4309 - accuracy: 0.3357\n",
      "Epoch 20/100\n",
      "14/14 - 0s - loss: 2.3973 - accuracy: 0.2793\n",
      "Epoch 21/100\n",
      "14/14 - 0s - loss: 2.3137 - accuracy: 0.3498\n",
      "Epoch 22/100\n",
      "14/14 - 0s - loss: 2.2469 - accuracy: 0.3427\n",
      "Epoch 23/100\n",
      "14/14 - 0s - loss: 2.2089 - accuracy: 0.3286\n",
      "Epoch 24/100\n",
      "14/14 - 0s - loss: 2.1511 - accuracy: 0.3498\n",
      "Epoch 25/100\n",
      "14/14 - 0s - loss: 2.0883 - accuracy: 0.3991\n",
      "Epoch 26/100\n",
      "14/14 - 0s - loss: 2.0391 - accuracy: 0.3967\n",
      "Epoch 27/100\n",
      "14/14 - 0s - loss: 1.9898 - accuracy: 0.3897\n",
      "Epoch 28/100\n",
      "14/14 - 0s - loss: 1.9387 - accuracy: 0.4178\n",
      "Epoch 29/100\n",
      "14/14 - 0s - loss: 1.8644 - accuracy: 0.4413\n",
      "Epoch 30/100\n",
      "14/14 - 0s - loss: 1.8369 - accuracy: 0.4648\n",
      "Epoch 31/100\n",
      "14/14 - 0s - loss: 1.7976 - accuracy: 0.4812\n",
      "Epoch 32/100\n",
      "14/14 - 0s - loss: 1.7427 - accuracy: 0.5117\n",
      "Epoch 33/100\n",
      "14/14 - 0s - loss: 1.6990 - accuracy: 0.5188\n",
      "Epoch 34/100\n",
      "14/14 - 0s - loss: 1.6747 - accuracy: 0.5399\n",
      "Epoch 35/100\n",
      "14/14 - 0s - loss: 1.6017 - accuracy: 0.5446\n",
      "Epoch 36/100\n",
      "14/14 - 0s - loss: 1.5683 - accuracy: 0.5563\n",
      "Epoch 37/100\n",
      "14/14 - 0s - loss: 1.5397 - accuracy: 0.5986\n",
      "Epoch 38/100\n",
      "14/14 - 0s - loss: 1.4704 - accuracy: 0.6150\n",
      "Epoch 39/100\n",
      "14/14 - 0s - loss: 1.3963 - accuracy: 0.6455\n",
      "Epoch 40/100\n",
      "14/14 - 0s - loss: 1.3458 - accuracy: 0.6690\n",
      "Epoch 41/100\n",
      "14/14 - 0s - loss: 1.3255 - accuracy: 0.6596\n",
      "Epoch 42/100\n",
      "14/14 - 0s - loss: 1.2916 - accuracy: 0.6901\n",
      "Epoch 43/100\n",
      "14/14 - 0s - loss: 1.2255 - accuracy: 0.6878\n",
      "Epoch 44/100\n",
      "14/14 - 0s - loss: 1.2024 - accuracy: 0.7042\n",
      "Epoch 45/100\n",
      "14/14 - 0s - loss: 1.1581 - accuracy: 0.7347\n",
      "Epoch 46/100\n",
      "14/14 - 0s - loss: 1.1151 - accuracy: 0.7371\n",
      "Epoch 47/100\n",
      "14/14 - 0s - loss: 1.0721 - accuracy: 0.7512\n",
      "Epoch 48/100\n",
      "14/14 - 0s - loss: 1.0421 - accuracy: 0.7606\n",
      "Epoch 49/100\n",
      "14/14 - 0s - loss: 1.0072 - accuracy: 0.7559\n",
      "Epoch 50/100\n",
      "14/14 - 0s - loss: 0.9756 - accuracy: 0.7793\n",
      "Epoch 51/100\n",
      "14/14 - 0s - loss: 0.9277 - accuracy: 0.7911\n",
      "Epoch 52/100\n",
      "14/14 - 0s - loss: 0.9053 - accuracy: 0.7981\n",
      "Epoch 53/100\n",
      "14/14 - 0s - loss: 0.8616 - accuracy: 0.8122\n",
      "Epoch 54/100\n",
      "14/14 - 0s - loss: 0.8243 - accuracy: 0.8310\n",
      "Epoch 55/100\n",
      "14/14 - 0s - loss: 0.7914 - accuracy: 0.8357\n",
      "Epoch 56/100\n",
      "14/14 - 0s - loss: 0.7739 - accuracy: 0.8427\n",
      "Epoch 57/100\n",
      "14/14 - 0s - loss: 0.7395 - accuracy: 0.8568\n",
      "Epoch 58/100\n",
      "14/14 - 0s - loss: 0.7039 - accuracy: 0.8615\n",
      "Epoch 59/100\n",
      "14/14 - 0s - loss: 0.6730 - accuracy: 0.8709\n",
      "Epoch 60/100\n",
      "14/14 - 0s - loss: 0.6518 - accuracy: 0.8779\n",
      "Epoch 61/100\n",
      "14/14 - 0s - loss: 0.6396 - accuracy: 0.8991\n",
      "Epoch 62/100\n",
      "14/14 - 0s - loss: 0.6249 - accuracy: 0.8897\n",
      "Epoch 63/100\n",
      "14/14 - 0s - loss: 0.5866 - accuracy: 0.9085\n",
      "Epoch 64/100\n",
      "14/14 - 0s - loss: 0.5735 - accuracy: 0.9085\n",
      "Epoch 65/100\n",
      "14/14 - 0s - loss: 0.5664 - accuracy: 0.9014\n",
      "Epoch 66/100\n",
      "14/14 - 0s - loss: 0.5359 - accuracy: 0.9061\n",
      "Epoch 67/100\n",
      "14/14 - 0s - loss: 0.5083 - accuracy: 0.9272\n",
      "Epoch 68/100\n",
      "14/14 - 0s - loss: 0.4880 - accuracy: 0.9390\n",
      "Epoch 69/100\n",
      "14/14 - 0s - loss: 0.4714 - accuracy: 0.9343\n",
      "Epoch 70/100\n",
      "14/14 - 0s - loss: 0.4559 - accuracy: 0.9366\n",
      "Epoch 71/100\n",
      "14/14 - 0s - loss: 0.4407 - accuracy: 0.9507\n",
      "Epoch 72/100\n",
      "14/14 - 0s - loss: 0.4156 - accuracy: 0.9601\n",
      "Epoch 73/100\n",
      "14/14 - 0s - loss: 0.4031 - accuracy: 0.9554\n",
      "Epoch 74/100\n",
      "14/14 - 0s - loss: 0.3963 - accuracy: 0.9601\n",
      "Epoch 75/100\n",
      "14/14 - 0s - loss: 0.3768 - accuracy: 0.9554\n",
      "Epoch 76/100\n",
      "14/14 - 0s - loss: 0.3588 - accuracy: 0.9601\n",
      "Epoch 77/100\n",
      "14/14 - 0s - loss: 0.3620 - accuracy: 0.9577\n",
      "Epoch 78/100\n",
      "14/14 - 0s - loss: 0.3448 - accuracy: 0.9601\n",
      "Epoch 79/100\n",
      "14/14 - 0s - loss: 0.3260 - accuracy: 0.9695\n",
      "Epoch 80/100\n",
      "14/14 - 0s - loss: 0.3122 - accuracy: 0.9695\n",
      "Epoch 81/100\n",
      "14/14 - 0s - loss: 0.2986 - accuracy: 0.9695\n",
      "Epoch 82/100\n",
      "14/14 - 0s - loss: 0.2900 - accuracy: 0.9742\n",
      "Epoch 83/100\n",
      "14/14 - 0s - loss: 0.2728 - accuracy: 0.9742\n",
      "Epoch 84/100\n",
      "14/14 - 0s - loss: 0.2734 - accuracy: 0.9695\n",
      "Epoch 85/100\n",
      "14/14 - 0s - loss: 0.2660 - accuracy: 0.9695\n",
      "Epoch 86/100\n",
      "14/14 - 0s - loss: 0.2546 - accuracy: 0.9765\n",
      "Epoch 87/100\n",
      "14/14 - 0s - loss: 0.2463 - accuracy: 0.9765\n",
      "Epoch 88/100\n",
      "14/14 - 0s - loss: 0.2394 - accuracy: 0.9789\n",
      "Epoch 89/100\n",
      "14/14 - 0s - loss: 0.2291 - accuracy: 0.9789\n",
      "Epoch 90/100\n",
      "14/14 - 0s - loss: 0.2271 - accuracy: 0.9765\n",
      "Epoch 91/100\n",
      "14/14 - 0s - loss: 0.2185 - accuracy: 0.9812\n",
      "Epoch 92/100\n",
      "14/14 - 0s - loss: 0.2147 - accuracy: 0.9789\n",
      "Epoch 93/100\n",
      "14/14 - 0s - loss: 0.2041 - accuracy: 0.9812\n",
      "Epoch 94/100\n",
      "14/14 - 0s - loss: 0.1964 - accuracy: 0.9836\n",
      "Epoch 95/100\n",
      "14/14 - 0s - loss: 0.1881 - accuracy: 0.9812\n",
      "Epoch 96/100\n",
      "14/14 - 0s - loss: 0.1851 - accuracy: 0.9765\n",
      "Epoch 97/100\n",
      "14/14 - 0s - loss: 0.1886 - accuracy: 0.9742\n",
      "Epoch 98/100\n",
      "14/14 - 0s - loss: 0.1820 - accuracy: 0.9789\n",
      "Epoch 99/100\n",
      "14/14 - 0s - loss: 0.1736 - accuracy: 0.9812\n",
      "Epoch 100/100\n",
      "14/14 - 0s - loss: 0.1642 - accuracy: 0.9859\n"
     ]
    },
    {
     "data": {
      "text/plain": [
       "<tensorflow.python.keras.callbacks.History at 0x29804843730>"
      ]
     },
     "execution_count": 22,
     "metadata": {},
     "output_type": "execute_result"
    }
   ],
   "source": [
    "model = Sequential()\n",
    "# 은닉 상태 크기는 80, 출력층에 단어 집합 크기의 뉴런을 배치한 LSTM\n",
    "model.add(LSTM(80, input_shape=(X.shape[1], X.shape[2])))\n",
    "model.add(Dense(vocab_size, activation='softmax'))\n",
    "\n",
    "model.compile(loss='categorical_crossentropy', optimizer='adam', metrics=['accuracy'])\n",
    "model.fit(X, y, epochs=100, verbose=2)"
   ]
  },
  {
   "cell_type": "code",
   "execution_count": 23,
   "id": "earlier-template",
   "metadata": {},
   "outputs": [],
   "source": [
    "def sentence_generation(model, char_to_index, seq_length, seed_text, n):\n",
    "    init_text = seed_text\n",
    "    sentence = ''\n",
    "    \n",
    "    for _ in range(n):\n",
    "        encoded = [char_to_index[char] for char in seed_text]\n",
    "        encoded = pad_sequences([encoded], maxlen=seq_length, padding='pre')\n",
    "        encoded = to_categorical(encoded, num_classes=len(char_to_index))\n",
    "        result = model.predict_classes(encoded, verbose=0)\n",
    "        \n",
    "        for char, index in char_to_index.items():\n",
    "            if index == result:\n",
    "                break\n",
    "        seed_text = seed_text + char\n",
    "        sentence = sentence + char\n",
    "        \n",
    "    sentence = init_text + sentence\n",
    "    return sentence"
   ]
  },
  {
   "cell_type": "code",
   "execution_count": 24,
   "id": "pleased-government",
   "metadata": {},
   "outputs": [
    {
     "name": "stderr",
     "output_type": "stream",
     "text": [
      "C:\\Users\\USER\\anaconda3\\lib\\site-packages\\tensorflow\\python\\keras\\engine\\sequential.py:450: UserWarning: `model.predict_classes()` is deprecated and will be removed after 2021-01-01. Please use instead:* `np.argmax(model.predict(x), axis=-1)`,   if your model does multi-class classification   (e.g. if it uses a `softmax` last-layer activation).* `(model.predict(x) > 0.5).astype(\"int32\")`,   if your model does binary classification   (e.g. if it uses a `sigmoid` last-layer activation).\n",
      "  warnings.warn('`model.predict_classes()` is deprecated and '\n"
     ]
    },
    {
     "name": "stdout",
     "output_type": "stream",
     "text": [
      "I get on with life as a programmer, I like to hang out with programming and deep learning.\n"
     ]
    }
   ],
   "source": [
    "print(sentence_generation(model, char_to_index, 10, 'I get on w', 80))"
   ]
  }
 ],
 "metadata": {
  "kernelspec": {
   "display_name": "Python 3",
   "language": "python",
   "name": "python3"
  },
  "language_info": {
   "codemirror_mode": {
    "name": "ipython",
    "version": 3
   },
   "file_extension": ".py",
   "mimetype": "text/x-python",
   "name": "python",
   "nbconvert_exporter": "python",
   "pygments_lexer": "ipython3",
   "version": "3.8.5"
  }
 },
 "nbformat": 4,
 "nbformat_minor": 5
}
