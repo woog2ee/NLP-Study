{
 "cells": [
  {
   "cell_type": "markdown",
   "id": "vietnamese-layer",
   "metadata": {},
   "source": [
    "# 1. 코퍼스에서 카운트하지 못하는 경우의 감소\n",
    "SLM의 한계는 훈련 corpus에 원하는 문장이나 단어가 없을 수 있다는 점   \n",
    "확률을 계산할 문장이 길수록 corpus에 존재하지 않을 가능성이 커짐\n",
    "\n",
    "지나친 일반화가 아닌 한에서 참고 단어를 줄여 해당 시퀀스를 카운트할 확률을 높임     \n",
    "P(is|An adorable little boy) = P(is|little boy)"
   ]
  },
  {
   "cell_type": "markdown",
   "id": "seeing-cannon",
   "metadata": {},
   "source": [
    "# 2. N-gram\n",
    "카운트 기반 통계적 접근을 사용하므로 SLM의 일종   \n",
    "corpus에서 n개의 연속적 단어 뭉치로 끊어 한 토큰으로 간주   \n",
    "\n",
    "다음 단어의 예측은 오직 n-1개의 단어에만 의존   \n",
    "P(w|boy is spreading) = count(boy is spreading w) / count(boy is spreading)"
   ]
  },
  {
   "cell_type": "markdown",
   "id": "republican-infrastructure",
   "metadata": {},
   "source": [
    "# 3. N-gram Language Model의 한계\n",
    "전체 문장을 고려한 언어 모델보다 정확도가 떨어짐   \n",
    "일부 단어만 파악해 의도하는 문장을 만들지 못할 경우가 생기기 때문   \n",
    "> **1) 희소 문제(Sparsity Problem)**   \n",
    "> 일부 단어를 파악해 현실적인 카운트 확률은 높였으나 여전히 희소 문제 존재   "
   ]
  },
  {
   "cell_type": "markdown",
   "id": "operational-giving",
   "metadata": {},
   "source": [
    "> **2) n을 선택하는 것은 trade-off 문제**   \n",
    "> 작은 n을 고르면 카운트는 잘 되나 근사 정확도가 현실 확률분포와 멀어짐   \n",
    "> 큰 n을 고르면 언어 모델 성능이 높아지나 카운트 확률이 작아져 희소 문제가 심각해지며, 모델 사이즈도 커짐  \n",
    "> trade-off 문제로 정확도를 높이려면 n은 최대 5로 잡으라고 권장"
   ]
  },
  {
   "cell_type": "markdown",
   "id": "whole-warrant",
   "metadata": {},
   "source": [
    "# 4. 적용 분야(Domain)에 맞는 코퍼스의 수집\n",
    "분야에 따라 특정 단어들의 확률 분포는 다름   \n",
    "훈련에 사용된 domain corpus에 따라 언어 모델 성능이 비약적으로 달라짐"
   ]
  },
  {
   "cell_type": "markdown",
   "id": "innovative-degree",
   "metadata": {},
   "source": [
    "# 5. 인공 신경망을 이용한 언어 모델(Neural Network Based Language Model)\n",
    "n-gram language model의 한계점을 극복하고자 분모, 분자에 숫자를 더해 확률이 0이 됨을 방지하는 generalization 방법이 존재   \n",
    "이는 본질적 취약점을 해결하지 못함, 대안으로 성능이 우수한 **인공 신경망을 이용**한 언어 모델을 사용"
   ]
  }
 ],
 "metadata": {
  "kernelspec": {
   "display_name": "Python 3",
   "language": "python",
   "name": "python3"
  },
  "language_info": {
   "codemirror_mode": {
    "name": "ipython",
    "version": 3
   },
   "file_extension": ".py",
   "mimetype": "text/x-python",
   "name": "python",
   "nbconvert_exporter": "python",
   "pygments_lexer": "ipython3",
   "version": "3.8.5"
  }
 },
 "nbformat": 4,
 "nbformat_minor": 5
}
