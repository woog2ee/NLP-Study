{
 "cells": [
  {
   "cell_type": "markdown",
   "id": "burning-relation",
   "metadata": {},
   "source": [
    "# 1. 언어 모델(Language Model)\n",
    "단어 시퀀스에 확률을 할당(assign)해 가장 자연스러운 단어 시퀀스를 찾음   \n",
    "주어진 단어로부터 모르는 다음 단어를 예측하는 것이 보편적   \n",
    "**통계를 이용한 방법**과 **인공 신경망을 이용한 방법**으로 구분"
   ]
  },
  {
   "cell_type": "markdown",
   "id": "handy-explosion",
   "metadata": {},
   "source": [
    "# 2. 단어 시퀀스의 확률 할당\n",
    "> **1) 기계 번역(Machine Translation)**   \n",
    "> P(나는 버스를 탔다) > P(나는 버스를 태운다)   \n",
    "> : 언어 모델은 좌측 문장의 확률이 더 높다고 판단"
   ]
  },
  {
   "cell_type": "markdown",
   "id": "irish-science",
   "metadata": {},
   "source": [
    "> **2) 오타 교정(Spell Correction)**   \n",
    "> 선생님이 교실로 부리나케 P(달려갔다) > P(잘려갔다)   \n",
    "> : 언어 모델은 좌측 문장의 확률이 더 높다고 판단"
   ]
  },
  {
   "cell_type": "markdown",
   "id": "canadian-theater",
   "metadata": {},
   "source": [
    "> **3) 음성 인식(Speech Recognition)**   \n",
    "> P(나는 메롱을 먹는다) < P(나는 메론을 먹는다)   \n",
    "> : 언어 모델은 우측 문장의 확률이 더 높다고 판단"
   ]
  },
  {
   "cell_type": "markdown",
   "id": "complimentary-square",
   "metadata": {},
   "source": [
    "# 3. 주어진 이전 단어들로부터 다음 단어 예측하기\n",
    "> **1) 단어 시퀀스의 확률**   \n",
    "> 단어 시퀀스를 W, 한 단어를 w라 할 때 n개 단어가 등장하는 단어 시퀀스 W의 확률   \n",
    "> $$P(W) = P(w_{1}, w_{2}, w_{3}, ..., w_{n})$$   "
   ]
  },
  {
   "cell_type": "markdown",
   "id": "distant-stick",
   "metadata": {},
   "source": [
    "> **2) 다음 단어 등장 확률**   \n",
    "> n-1개의 단어가 나열되었을 때 다음 n번째 단어의 확률   \n",
    "> $$P(w_{n}|w_{1}, ..., w_{n-1})$$   \n",
    "\n",
    "> 전체 단어 시퀀스 W의 확률   \n",
    "> $$P(W) = P(w_{1}, w_{2}, w_{3}, ..., w_{n}) = \\prod_{i=1}^{n}P(w_{n}|w_{1}, ..., w_{n-1})$$   "
   ]
  },
  {
   "cell_type": "markdown",
   "id": "floating-manner",
   "metadata": {},
   "source": [
    "# 4. 언어 모델의 간단한 직관\n",
    "앞 단어들을 고려해 후보 단어들에 대한 확률을 예측, 가장 높은 확률의 단어를 선택"
   ]
  },
  {
   "cell_type": "markdown",
   "id": "whole-abraham",
   "metadata": {},
   "source": [
    "# 5. 검색 엔진에서의 언어 모델의 예\n",
    "입력된 단어들의 나열에서 다음 단어를 예측하는 언어 모델 사용   \n",
    "예) 검색창에 단어를 입력하면 예측된 단어들 도출"
   ]
  }
 ],
 "metadata": {
  "kernelspec": {
   "display_name": "Python 3",
   "language": "python",
   "name": "python3"
  },
  "language_info": {
   "codemirror_mode": {
    "name": "ipython",
    "version": 3
   },
   "file_extension": ".py",
   "mimetype": "text/x-python",
   "name": "python",
   "nbconvert_exporter": "python",
   "pygments_lexer": "ipython3",
   "version": "3.8.5"
  }
 },
 "nbformat": 4,
 "nbformat_minor": 5
}
