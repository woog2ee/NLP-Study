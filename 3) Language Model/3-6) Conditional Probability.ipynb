{
 "cells": [
  {
   "cell_type": "markdown",
   "id": "academic-henry",
   "metadata": {},
   "source": [
    "# 1. 조건부 확률\n",
    "language model과 n-gram의 근간   \n",
    "\n",
    "<null>|남학생|여학생|계\n",
    ":-:|:-:|:-:|:-:\n",
    "중학생|100|60|160\n",
    "고등학생|80|120|200\n",
    "계|180|180|360\n",
    "\n",
    "A = 학생이 남학생인 사건   \n",
    "B = 학생이 여학생인 사건   \n",
    "C = 학생이 중학생인 사건   \n",
    "D = 학생이 고등학생인 사건\n",
    "    \n",
    "> **1) 학생을 뽑을 때, 남학생일 확률**   \n",
    "> $$P(A) = 180/360 = 0.5$$"
   ]
  },
  {
   "cell_type": "markdown",
   "id": "small-parent",
   "metadata": {},
   "source": [
    "> **2) 학생을 뽑을 때, 고등학생이면서 남학생일 확률**   \n",
    "> $$P(A \\cap D) = 80/360$$"
   ]
  },
  {
   "cell_type": "markdown",
   "id": "packed-graduate",
   "metadata": {},
   "source": [
    "> **3) 고등학생 중 한명을 뽑을 때, 남학생일 확률**   \n",
    "> $$P(A|D) = \\frac{P(A \\cap D)}{P(D)} = \\frac{80/360}{200/360} = 80/200 = 0.4$$"
   ]
  }
 ],
 "metadata": {
  "kernelspec": {
   "display_name": "Python 3",
   "language": "python",
   "name": "python3"
  },
  "language_info": {
   "codemirror_mode": {
    "name": "ipython",
    "version": 3
   },
   "file_extension": ".py",
   "mimetype": "text/x-python",
   "name": "python",
   "nbconvert_exporter": "python",
   "pygments_lexer": "ipython3",
   "version": "3.8.5"
  }
 },
 "nbformat": 4,
 "nbformat_minor": 5
}
