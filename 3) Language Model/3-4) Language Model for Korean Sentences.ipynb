{
 "cells": [
  {
   "cell_type": "markdown",
   "id": "apparent-possible",
   "metadata": {},
   "source": [
    "# 1. 한국어는 어순이 중요하지 않다.\n",
    "단어 순서를 바꿔도 의미가 통해서 확률에 기반한 언어 모델이 다음 단어를 예측하기 어려움   \n",
    "1. 나는 운동을 합니다 체육관에서.   \n",
    "2. 나는 체육관에서 운동을 합니다.   \n",
    "3. 체육관에서 운동을 합니다.   \n",
    "4. 나는 운동을 체육관에서 합니다."
   ]
  },
  {
   "cell_type": "markdown",
   "id": "romance-administrator",
   "metadata": {},
   "source": [
    "# 2. 한국어는 교착어이다.   \n",
    "한국어에서 토큰화를 통해 접사나 조사를 분리하는 것은 중요한 작업   \n",
    "결국 띄어쓰기 단위인 어절로 토큰화한 문장 안에서 발생하는 단어 수는 더욱 늘어남"
   ]
  },
  {
   "cell_type": "markdown",
   "id": "major-glucose",
   "metadata": {},
   "source": [
    "# 3. 한국어는 띄어쓰기가 제대로 지켜지지 않는다.\n",
    "띄어쓰기를 제대로 하지 않아도 의미가 전달됨   \n",
    "띄어쓰기 규칙이 상대적으로 까다로워 한국어 corpus에 띄어쓰기가 안 지켜진 경우가 많음"
   ]
  }
 ],
 "metadata": {
  "kernelspec": {
   "display_name": "Python 3",
   "language": "python",
   "name": "python3"
  },
  "language_info": {
   "codemirror_mode": {
    "name": "ipython",
    "version": 3
   },
   "file_extension": ".py",
   "mimetype": "text/x-python",
   "name": "python",
   "nbconvert_exporter": "python",
   "pygments_lexer": "ipython3",
   "version": "3.8.5"
  }
 },
 "nbformat": 4,
 "nbformat_minor": 5
}
