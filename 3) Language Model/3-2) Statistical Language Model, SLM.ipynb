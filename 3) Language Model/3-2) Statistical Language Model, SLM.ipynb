{
 "cells": [
  {
   "cell_type": "markdown",
   "id": "quantitative-pursuit",
   "metadata": {},
   "source": [
    "# 1. 조건부 확률\n",
    "$$P(B|A) = P(A,B)/P(A), P(A,B) = P(A)P(B|A)$$   \n",
    "\n",
    "더 많은 확률에 대해 일반화\n",
    "$$P(A,B,C,D) = P(A)P(B|A)P(C|A,B)P(D|A,B,C)$$   \n",
    "\n",
    "조건부 확률의 chain rule   \n",
    "$$P(x_{1}, x_{2}, x_{3}, ..., x_{n}) = P(x_{1})P(x_{2}|x_{1})P(x_{3}|x_{1},x_{2})...P(x_{n}|x_{1},...,x_{n-1})$$"
   ]
  },
  {
   "cell_type": "markdown",
   "id": "rational-reporter",
   "metadata": {},
   "source": [
    "# 2. 문장에 대한 확률\n",
    "문장의 확률을 구하기 위해 각 단어에 대한 예측 확률을 곱함   \n",
    "$$P(w_{1}, w_{2}, w_{3}, ..., w_{n}) = \\prod_{n=1}^{n}P(w_{n}|w_{1},...,w_{n-1})$$   \n",
    "\n",
    "문장에 식을 적용하면   \n",
    "P(An adorable little boy is spreading smiles) =   \n",
    "P(An) X P(adorable|An) X P(little|An adorable) X P(boy|An adorable little) X P(is|An adorable little boy)   \n",
    "X P(spreading|An adorable little boy is) X P(smiles|An adorable little boy is spreading)"
   ]
  },
  {
   "cell_type": "markdown",
   "id": "cellular-hypothetical",
   "metadata": {},
   "source": [
    "# 3. 카운트 기반의 접근\n",
    "전 단어로부터 다음 단어에 대한 예측 확률을 구할 때 카운트에 기반   \n",
    "P(is|An adorable little boy) = count(An adorable little boy is) / count(An adorable little boy)"
   ]
  },
  {
   "cell_type": "markdown",
   "id": "potential-reserve",
   "metadata": {},
   "source": [
    "# 4. 카운트 기반 접근의 한계 - 희소 문제(Sparsity Problem)   \n",
    "기계에 corpus를 훈련시켜 현실 확률 분포를 근사 모델링하는 것이 언어 모델의 목표   \n",
    "카운트 기반으로 접근하려면 기계는 방대한 양의 데이터를 훈련해야 함   \n",
    "\n",
    "만약 corpus에 단어 시퀀스가 없다면 카운트 기반 접근의 확률을 구하지 못함   \n",
    "충분한 데이터를 관측하지 못해 언어 모델링이 부정확한 문제를 **희소 문제(sparsity problem)**라 함\n",
    "\n",
    "완화 방법으로 n-gram, 스무딩과 백오프와 같은 generalization 기법이 있으나 근본적 해결책은 되지 못함   \n",
    "이 한계로 언어 모델 트렌드는 통계적 언어 모델에서 **인공 신경망 언어 모델**로 넘어감"
   ]
  }
 ],
 "metadata": {
  "kernelspec": {
   "display_name": "Python 3",
   "language": "python",
   "name": "python3"
  },
  "language_info": {
   "codemirror_mode": {
    "name": "ipython",
    "version": 3
   },
   "file_extension": ".py",
   "mimetype": "text/x-python",
   "name": "python",
   "nbconvert_exporter": "python",
   "pygments_lexer": "ipython3",
   "version": "3.8.5"
  }
 },
 "nbformat": 4,
 "nbformat_minor": 5
}
