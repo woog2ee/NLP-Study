{
 "cells": [
  {
   "cell_type": "markdown",
   "id": "norman-violence",
   "metadata": {},
   "source": [
    "# 1. 정규 표현식 문법과 모듈 함수\n",
    "특정 규칙이 있는 텍스트 데이터를 빠르게 정제"
   ]
  },
  {
   "cell_type": "markdown",
   "id": "supreme-scheme",
   "metadata": {},
   "source": [
    "> **1) 정규 표현식 문법**   \n",
    "> 특수 문자\n",
    "> - .: 한 개의 임의 문자\n",
    "> - ?: 앞 문자가 존재할 수도, 존재하지 않을 수도 있는 경우\n",
    "> - *: 앞 문자가 0개 이상인 경우\n",
    "> - +: 앞 문자가 1개 이상인 경우\n",
    "> - ^: 시작되는 글자를 지정\n",
    "> - $: 끝나는 글자를 지정   \n",
    "> - {숫자}: 해당 문자를 숫자만큼 반복\n",
    "> - {숫자1,숫자2}: 해당 문자를 숫자1 이상 숫자2 이하만큼 반복\n",
    "> - {숫자,}: 해당 문자를 숫자 이상만큼 반복   \n",
    "> - []: 대괄호 안 문자 중 한 문자와 매치\n",
    "> - [^문자]: 해당 문자를 제외한 문자를 매치"
   ]
  },
  {
   "cell_type": "markdown",
   "id": "extended-edinburgh",
   "metadata": {},
   "source": [
    "> 문자 규칙\n",
    "> - \\\\: 역 슬래쉬 자체\n",
    "> - \\d: 모든 숫자, [0-9]와 동일 의미\n",
    "> - \\D: 숫자를 제외한 모든 문자\n",
    "> - \\s: 공백, [\\t\\n\\r\\f\\v]와 동일 의미\n",
    "> - \\S: 공백을 제외한 문자\n",
    "> - \\w: 문자 또는 숫자, [a-zA-Z0-9]와 동일 의미\n",
    "> - \\W: 문자 또는 숫자가 아닌 문자"
   ]
  },
  {
   "cell_type": "markdown",
   "id": "wireless-count",
   "metadata": {},
   "source": [
    "> **2) 정규 표현식 모듈 함수**   \n",
    "> - re.compile(): 정규 표현식을 컴파일해 파이썬에게 전해주는 역할, 찾는 패턴이 빈번한 경우 미리 컴파일 후 사용하면 편리\n",
    "> - re.search(): 문자열 전체에 대해 정규 표현식과 매치되는지 검색, 매치된다면 match object를 리턴\n",
    "> - re.match(): 문자열의 처음이 정규 표현식과 매치되는지 검색\n",
    "> - re.split(): 정규 표현식을 기준으로 문자열을 분리해 리스트로 리턴\n",
    "> - re.findall(): 문자열에서 정규 표현식과 매치되는 모든 문자열을 찾아 리스트로 리턴, 매치되는 문자열이 없다면 빈 리스트 리턴\n",
    "> - re.finditer(): 문자열에서 정규 표현식과 매치되는 모든 문자열에 대한 이터레이터 객체 리턴\n",
    "> - re.sub(): 문자열에서 정규 표현식과 일치하는 부분에 대해 다른 문자열로 대체"
   ]
  },
  {
   "cell_type": "markdown",
   "id": "dense-stupid",
   "metadata": {},
   "source": [
    "# 2. 정규 표현식 실습\n",
    "> **1) . 기호**   \n",
    "> 한 개의 임의 문자   \n",
    "> \\n 제외"
   ]
  },
  {
   "cell_type": "code",
   "execution_count": 1,
   "id": "difficult-footwear",
   "metadata": {},
   "outputs": [],
   "source": [
    "import re\n",
    "r = re.compile(\"a.c\")\n",
    "r.search(\"kkk\")"
   ]
  },
  {
   "cell_type": "code",
   "execution_count": 2,
   "id": "classical-farming",
   "metadata": {},
   "outputs": [
    {
     "data": {
      "text/plain": [
       "<re.Match object; span=(0, 3), match='abc'>"
      ]
     },
     "execution_count": 2,
     "metadata": {},
     "output_type": "execute_result"
    }
   ],
   "source": [
    "r.search(\"abc\")"
   ]
  },
  {
   "cell_type": "markdown",
   "id": "apparent-technology",
   "metadata": {},
   "source": [
    "> **2) ? 기호**   \n",
    "> 앞 문자가 존재할 수도, 존재하지 않을 수도 있는 경우"
   ]
  },
  {
   "cell_type": "code",
   "execution_count": 3,
   "id": "distant-outside",
   "metadata": {},
   "outputs": [],
   "source": [
    "import re\n",
    "r = re.compile(\"ab?c\")\n",
    "r.search(\"abbc\")"
   ]
  },
  {
   "cell_type": "code",
   "execution_count": 4,
   "id": "incorporate-recording",
   "metadata": {},
   "outputs": [
    {
     "data": {
      "text/plain": [
       "<re.Match object; span=(0, 2), match='ac'>"
      ]
     },
     "execution_count": 4,
     "metadata": {},
     "output_type": "execute_result"
    }
   ],
   "source": [
    "r.search(\"ac\")"
   ]
  },
  {
   "cell_type": "markdown",
   "id": "entire-instrument",
   "metadata": {},
   "source": [
    "> **3) * 기호**   \n",
    "> 앞 문자가 0개 이상인 경우"
   ]
  },
  {
   "cell_type": "code",
   "execution_count": 5,
   "id": "going-fellow",
   "metadata": {},
   "outputs": [],
   "source": [
    "import re\n",
    "r = re.compile(\"ab*c\")\n",
    "r.search(\"a\")"
   ]
  },
  {
   "cell_type": "code",
   "execution_count": 6,
   "id": "whole-hypothesis",
   "metadata": {},
   "outputs": [
    {
     "data": {
      "text/plain": [
       "<re.Match object; span=(0, 2), match='ac'>"
      ]
     },
     "execution_count": 6,
     "metadata": {},
     "output_type": "execute_result"
    }
   ],
   "source": [
    "r.search(\"ac\")"
   ]
  },
  {
   "cell_type": "code",
   "execution_count": 7,
   "id": "solar-region",
   "metadata": {},
   "outputs": [
    {
     "data": {
      "text/plain": [
       "<re.Match object; span=(0, 10), match='abbbbbbbbc'>"
      ]
     },
     "execution_count": 7,
     "metadata": {},
     "output_type": "execute_result"
    }
   ],
   "source": [
    "r.search(\"abbbbbbbbc\")"
   ]
  },
  {
   "cell_type": "markdown",
   "id": "younger-anaheim",
   "metadata": {},
   "source": [
    "> **4) + 기호**   \n",
    "*와 유사하나 앞 문자가 1개 이상인 경우"
   ]
  },
  {
   "cell_type": "code",
   "execution_count": 8,
   "id": "happy-london",
   "metadata": {},
   "outputs": [],
   "source": [
    "import re\n",
    "r = re.compile(\"ab+c\")\n",
    "r.search(\"ac\")"
   ]
  },
  {
   "cell_type": "code",
   "execution_count": 9,
   "id": "catholic-emperor",
   "metadata": {},
   "outputs": [
    {
     "data": {
      "text/plain": [
       "<re.Match object; span=(0, 3), match='abc'>"
      ]
     },
     "execution_count": 9,
     "metadata": {},
     "output_type": "execute_result"
    }
   ],
   "source": [
    "r.search(\"abc\")"
   ]
  },
  {
   "cell_type": "code",
   "execution_count": 10,
   "id": "textile-yahoo",
   "metadata": {},
   "outputs": [
    {
     "data": {
      "text/plain": [
       "<re.Match object; span=(0, 10), match='abbbbbbbbc'>"
      ]
     },
     "execution_count": 10,
     "metadata": {},
     "output_type": "execute_result"
    }
   ],
   "source": [
    "r.search(\"abbbbbbbbc\")"
   ]
  },
  {
   "cell_type": "markdown",
   "id": "civic-skill",
   "metadata": {},
   "source": [
    "> **5) ^ 기호**   \n",
    "시작되는 글자를 지정"
   ]
  },
  {
   "cell_type": "code",
   "execution_count": 11,
   "id": "honest-rouge",
   "metadata": {},
   "outputs": [],
   "source": [
    "import re\n",
    "r = re.compile(\"^a\")\n",
    "r.search(\"bbc\")"
   ]
  },
  {
   "cell_type": "code",
   "execution_count": 12,
   "id": "domestic-concept",
   "metadata": {},
   "outputs": [
    {
     "data": {
      "text/plain": [
       "<re.Match object; span=(0, 1), match='a'>"
      ]
     },
     "execution_count": 12,
     "metadata": {},
     "output_type": "execute_result"
    }
   ],
   "source": [
    "r.search(\"ab\")"
   ]
  },
  {
   "cell_type": "markdown",
   "id": "mounted-concentrate",
   "metadata": {},
   "source": [
    "> **6) {숫자} 기호**   \n",
    "> 해당 문자를 숫자만큼 반복"
   ]
  },
  {
   "cell_type": "code",
   "execution_count": 13,
   "id": "signal-superintendent",
   "metadata": {},
   "outputs": [],
   "source": [
    "import re\n",
    "r = re.compile(\"ab{2}c\")\n",
    "r.search(\"ac\")"
   ]
  },
  {
   "cell_type": "code",
   "execution_count": 14,
   "id": "artificial-genome",
   "metadata": {},
   "outputs": [],
   "source": [
    "r.search(\"abc\")"
   ]
  },
  {
   "cell_type": "code",
   "execution_count": 15,
   "id": "answering-option",
   "metadata": {},
   "outputs": [
    {
     "data": {
      "text/plain": [
       "<re.Match object; span=(0, 4), match='abbc'>"
      ]
     },
     "execution_count": 15,
     "metadata": {},
     "output_type": "execute_result"
    }
   ],
   "source": [
    "r.search(\"abbc\")"
   ]
  },
  {
   "cell_type": "markdown",
   "id": "three-supplement",
   "metadata": {},
   "source": [
    "> **7) {숫자1,숫자2} 기호**   \n",
    "> 해당 문자를 숫자1 이상 숫자2 이하만큼 반복   \n",
    "> ?, *, +를 이로 대체 가능"
   ]
  },
  {
   "cell_type": "code",
   "execution_count": 16,
   "id": "recognized-jones",
   "metadata": {},
   "outputs": [],
   "source": [
    "import re\n",
    "r = re.compile(\"ab{2,8}c\")\n",
    "r.search(\"abc\")"
   ]
  },
  {
   "cell_type": "code",
   "execution_count": 17,
   "id": "naughty-wireless",
   "metadata": {},
   "outputs": [
    {
     "data": {
      "text/plain": [
       "<re.Match object; span=(0, 4), match='abbc'>"
      ]
     },
     "execution_count": 17,
     "metadata": {},
     "output_type": "execute_result"
    }
   ],
   "source": [
    "r.search(\"abbc\")"
   ]
  },
  {
   "cell_type": "code",
   "execution_count": 18,
   "id": "norwegian-introduction",
   "metadata": {},
   "outputs": [
    {
     "data": {
      "text/plain": [
       "<re.Match object; span=(0, 10), match='abbbbbbbbc'>"
      ]
     },
     "execution_count": 18,
     "metadata": {},
     "output_type": "execute_result"
    }
   ],
   "source": [
    "r.search(\"abbbbbbbbc\")"
   ]
  },
  {
   "cell_type": "code",
   "execution_count": 19,
   "id": "essential-campaign",
   "metadata": {},
   "outputs": [],
   "source": [
    "r.search(\"abbbbbbbbbbbbbbbbbbbc\")"
   ]
  },
  {
   "cell_type": "markdown",
   "id": "ranking-significance",
   "metadata": {},
   "source": [
    "> **8) {숫자,} 기호**   \n",
    "> 해당 문자를 숫자 이상만큼 반복   \n",
    "> {0,}을 쓴다면 *와, {1,}을 쓴다면 +와 동일한 의미"
   ]
  },
  {
   "cell_type": "code",
   "execution_count": 20,
   "id": "supreme-crossing",
   "metadata": {},
   "outputs": [],
   "source": [
    "import re\n",
    "r = re.compile(\"a{2,}bc\")\n",
    "r.search(\"bc\")"
   ]
  },
  {
   "cell_type": "code",
   "execution_count": 21,
   "id": "corporate-hunter",
   "metadata": {},
   "outputs": [
    {
     "data": {
      "text/plain": [
       "<re.Match object; span=(0, 4), match='aabc'>"
      ]
     },
     "execution_count": 21,
     "metadata": {},
     "output_type": "execute_result"
    }
   ],
   "source": [
    "r.search(\"aabc\")"
   ]
  },
  {
   "cell_type": "code",
   "execution_count": 22,
   "id": "composite-secretariat",
   "metadata": {},
   "outputs": [
    {
     "data": {
      "text/plain": [
       "<re.Match object; span=(0, 12), match='aaaaaaaaaabc'>"
      ]
     },
     "execution_count": 22,
     "metadata": {},
     "output_type": "execute_result"
    }
   ],
   "source": [
    "r.search(\"aaaaaaaaaabc\")"
   ]
  },
  {
   "cell_type": "markdown",
   "id": "northern-catalyst",
   "metadata": {},
   "source": [
    "> **9) [] 기호**   \n",
    "> 대괄호 안 문자들 중 한 문자와 매치   \n",
    "> [a-zA-Z]는 알파벳 전부를, [0-9]는 숫자 전부를 의미"
   ]
  },
  {
   "cell_type": "code",
   "execution_count": 23,
   "id": "danish-valuable",
   "metadata": {},
   "outputs": [],
   "source": [
    "import re\n",
    "r = re.compile(\"[abc]\")\n",
    "# r = re.compile(\"[a-c]\")\n",
    "r.search(\"zzz\")"
   ]
  },
  {
   "cell_type": "code",
   "execution_count": 24,
   "id": "colonial-essay",
   "metadata": {},
   "outputs": [
    {
     "data": {
      "text/plain": [
       "<re.Match object; span=(0, 1), match='a'>"
      ]
     },
     "execution_count": 24,
     "metadata": {},
     "output_type": "execute_result"
    }
   ],
   "source": [
    "r.search(\"a\")"
   ]
  },
  {
   "cell_type": "code",
   "execution_count": 25,
   "id": "brave-biography",
   "metadata": {},
   "outputs": [
    {
     "data": {
      "text/plain": [
       "<re.Match object; span=(0, 1), match='a'>"
      ]
     },
     "execution_count": 25,
     "metadata": {},
     "output_type": "execute_result"
    }
   ],
   "source": [
    "r.search(\"aaaaaaaaaaaaaaaaaaaa\")"
   ]
  },
  {
   "cell_type": "code",
   "execution_count": 26,
   "id": "worse-package",
   "metadata": {},
   "outputs": [
    {
     "data": {
      "text/plain": [
       "<re.Match object; span=(0, 1), match='b'>"
      ]
     },
     "execution_count": 26,
     "metadata": {},
     "output_type": "execute_result"
    }
   ],
   "source": [
    "r.search(\"baac\")"
   ]
  },
  {
   "cell_type": "code",
   "execution_count": 27,
   "id": "relevant-basis",
   "metadata": {},
   "outputs": [],
   "source": [
    "import re\n",
    "r = re.compile(\"[a-z]\")\n",
    "r.search(\"AAA\")"
   ]
  },
  {
   "cell_type": "code",
   "execution_count": 28,
   "id": "configured-supervisor",
   "metadata": {},
   "outputs": [
    {
     "data": {
      "text/plain": [
       "<re.Match object; span=(0, 1), match='a'>"
      ]
     },
     "execution_count": 28,
     "metadata": {},
     "output_type": "execute_result"
    }
   ],
   "source": [
    "r.search(\"aBC\")"
   ]
  },
  {
   "cell_type": "markdown",
   "id": "heavy-postage",
   "metadata": {},
   "source": [
    "> **10) [^문자] 기호**   \n",
    "> 해당 문자를 제외한 문자를 매치"
   ]
  },
  {
   "cell_type": "code",
   "execution_count": 29,
   "id": "appropriate-chosen",
   "metadata": {},
   "outputs": [],
   "source": [
    "import re\n",
    "r = re.compile(\"[^abc]\")\n",
    "r.search(\"a\")"
   ]
  },
  {
   "cell_type": "code",
   "execution_count": 30,
   "id": "caring-mission",
   "metadata": {},
   "outputs": [],
   "source": [
    "r.search(\"bc\")"
   ]
  },
  {
   "cell_type": "code",
   "execution_count": 31,
   "id": "eight-fitting",
   "metadata": {},
   "outputs": [
    {
     "data": {
      "text/plain": [
       "<re.Match object; span=(0, 1), match='1'>"
      ]
     },
     "execution_count": 31,
     "metadata": {},
     "output_type": "execute_result"
    }
   ],
   "source": [
    "r.search(\"1\")"
   ]
  },
  {
   "cell_type": "markdown",
   "id": "effective-association",
   "metadata": {},
   "source": [
    "# 3.정규 표현식 모듈 함수 예제\n",
    "> **1) re.search()와 re.match()의 차이**   \n",
    "> search()가 정규 표현식 전체로 문자열 매치를 본다면,   \n",
    "> match()는 문자열의 첫 부분부터 정규 표현식과 매치하는지 확인"
   ]
  },
  {
   "cell_type": "code",
   "execution_count": 32,
   "id": "focal-cleaner",
   "metadata": {},
   "outputs": [
    {
     "data": {
      "text/plain": [
       "<re.Match object; span=(3, 6), match='abc'>"
      ]
     },
     "execution_count": 32,
     "metadata": {},
     "output_type": "execute_result"
    }
   ],
   "source": [
    "import re\n",
    "r = re.compile(\"ab.\")\n",
    "r.search(\"kkkabc\")"
   ]
  },
  {
   "cell_type": "code",
   "execution_count": 33,
   "id": "statutory-parameter",
   "metadata": {},
   "outputs": [],
   "source": [
    "r.match(\"kkkabc\")"
   ]
  },
  {
   "cell_type": "code",
   "execution_count": 34,
   "id": "freelance-dubai",
   "metadata": {},
   "outputs": [
    {
     "data": {
      "text/plain": [
       "<re.Match object; span=(0, 3), match='abc'>"
      ]
     },
     "execution_count": 34,
     "metadata": {},
     "output_type": "execute_result"
    }
   ],
   "source": [
    "r.match(\"abckkk\")"
   ]
  },
  {
   "cell_type": "markdown",
   "id": "recognized-mexico",
   "metadata": {},
   "source": [
    "> **2) re.split()**   \n",
    "> 입력된 정규 표현식을 기준으로 문자열을 분리해 리스트로 리턴   \n",
    "자연어 처리에 있어 토큰화에 유용하게 사용"
   ]
  },
  {
   "cell_type": "code",
   "execution_count": 35,
   "id": "sensitive-mississippi",
   "metadata": {},
   "outputs": [
    {
     "data": {
      "text/plain": [
       "['사과', '딸기', '수박', '메론', '바나나']"
      ]
     },
     "execution_count": 35,
     "metadata": {},
     "output_type": "execute_result"
    }
   ],
   "source": [
    "import re\n",
    "text = \"사과 딸기 수박 메론 바나나\"\n",
    "re.split(\" \", text)"
   ]
  },
  {
   "cell_type": "code",
   "execution_count": 36,
   "id": "polar-lighter",
   "metadata": {},
   "outputs": [
    {
     "data": {
      "text/plain": [
       "['사과', '딸기', '수박', '메론', '바나나']"
      ]
     },
     "execution_count": 36,
     "metadata": {},
     "output_type": "execute_result"
    }
   ],
   "source": [
    "import re\n",
    "text = \"\"\"사과\n",
    "딸기\n",
    "수박\n",
    "메론\n",
    "바나나\"\"\"\n",
    "re.split(\"\\n\", text)"
   ]
  },
  {
   "cell_type": "code",
   "execution_count": 37,
   "id": "answering-sunrise",
   "metadata": {},
   "outputs": [
    {
     "data": {
      "text/plain": [
       "['사과', '딸기', '수박', '메론', '바나나']"
      ]
     },
     "execution_count": 37,
     "metadata": {},
     "output_type": "execute_result"
    }
   ],
   "source": [
    "import re\n",
    "text = \"사과+딸기+수박+메론+바나나\"\n",
    "re.split(\"\\+\", text)"
   ]
  },
  {
   "cell_type": "markdown",
   "id": "expected-xerox",
   "metadata": {},
   "source": [
    "> **3) re.findall()**   \n",
    "> 정규 표현식과 매치되는 문자열을 리스트로 리턴   \n",
    "> 매치되는 문자가 없다면 빈 리스트 리턴"
   ]
  },
  {
   "cell_type": "code",
   "execution_count": 38,
   "id": "touched-plaintiff",
   "metadata": {},
   "outputs": [
    {
     "data": {
      "text/plain": [
       "['010', '1234', '1234', '30']"
      ]
     },
     "execution_count": 38,
     "metadata": {},
     "output_type": "execute_result"
    }
   ],
   "source": [
    "import re\n",
    "text = \"이름: 김철수 \\\n",
    "전화번호: 010 - 1234 - 1234 \\\n",
    "나이: 30 \\\n",
    "성별: 남\"\n",
    "re.findall(\"\\d+\", text)"
   ]
  },
  {
   "cell_type": "code",
   "execution_count": 39,
   "id": "framed-annotation",
   "metadata": {},
   "outputs": [
    {
     "data": {
      "text/plain": [
       "[]"
      ]
     },
     "execution_count": 39,
     "metadata": {},
     "output_type": "execute_result"
    }
   ],
   "source": [
    "re.findall(\"\\d+\", \"문자열입니다.\")"
   ]
  },
  {
   "cell_type": "markdown",
   "id": "distinct-hamilton",
   "metadata": {},
   "source": [
    "> **4) re.sub()**   \n",
    "> 정규 표현식 패턴과 일치하는 문자열을 찾아 다른 문자열로 대체   \n",
    "> 자연어 처리를 위해 특수 문자를 제거하고 싶다면 이를 공백으로 처리하는 용도"
   ]
  },
  {
   "cell_type": "code",
   "execution_count": 40,
   "id": "decreased-apple",
   "metadata": {},
   "outputs": [
    {
     "data": {
      "text/plain": [
       "'Regular expression   A regular expression  regex or regexp     sometimes called a rational expression         is  in theoretical computer science and formal language theory  a sequence of characters that define a search pattern '"
      ]
     },
     "execution_count": 40,
     "metadata": {},
     "output_type": "execute_result"
    }
   ],
   "source": [
    "import re\n",
    "text = \"Regular expression : A regular expression, regex or regexp[1] (sometimes called a rational expression) [2][3] is, in theoretical computer science and formal language theory, a sequence of characters that define a search pattern.\"\n",
    "re.sub('[^a-zA-Z]', ' ', text)"
   ]
  },
  {
   "cell_type": "markdown",
   "id": "pacific-browser",
   "metadata": {},
   "source": [
    "# 4. 정규 표현식 텍스트 전처리 예제"
   ]
  },
  {
   "cell_type": "code",
   "execution_count": 41,
   "id": "latin-briefs",
   "metadata": {},
   "outputs": [
    {
     "data": {
      "text/plain": [
       "['100', 'John', 'PROF', '101', 'James', 'STUD', '102', 'Mac', 'STUD']"
      ]
     },
     "execution_count": 41,
     "metadata": {},
     "output_type": "execute_result"
    }
   ],
   "source": [
    "import re\n",
    "\n",
    "text = \"100 John     PROF \\\n",
    "101 James     STUD \\\n",
    "102 Mac     STUD\"\n",
    "\n",
    "re.split('\\s+', text)\n",
    "# 뒤에 붙는 +는 최소 1개 이상의 패턴을 찾아낸다는 의미"
   ]
  },
  {
   "cell_type": "code",
   "execution_count": 42,
   "id": "advanced-central",
   "metadata": {},
   "outputs": [
    {
     "data": {
      "text/plain": [
       "['100', '101', '102']"
      ]
     },
     "execution_count": 42,
     "metadata": {},
     "output_type": "execute_result"
    }
   ],
   "source": [
    "re.findall('\\d+', text)"
   ]
  },
  {
   "cell_type": "code",
   "execution_count": 43,
   "id": "complicated-attitude",
   "metadata": {},
   "outputs": [
    {
     "data": {
      "text/plain": [
       "['J', 'P', 'R', 'O', 'F', 'J', 'S', 'T', 'U', 'D', 'M', 'S', 'T', 'U', 'D']"
      ]
     },
     "execution_count": 43,
     "metadata": {},
     "output_type": "execute_result"
    }
   ],
   "source": [
    "re.findall('[A-Z]', text)"
   ]
  },
  {
   "cell_type": "code",
   "execution_count": 44,
   "id": "breathing-stamp",
   "metadata": {},
   "outputs": [
    {
     "data": {
      "text/plain": [
       "['PROF', 'STUD', 'STUD']"
      ]
     },
     "execution_count": 44,
     "metadata": {},
     "output_type": "execute_result"
    }
   ],
   "source": [
    "re.findall('[A-Z]{4}', text)"
   ]
  },
  {
   "cell_type": "code",
   "execution_count": 45,
   "id": "younger-cincinnati",
   "metadata": {},
   "outputs": [
    {
     "data": {
      "text/plain": [
       "['John', 'James', 'Mac']"
      ]
     },
     "execution_count": 45,
     "metadata": {},
     "output_type": "execute_result"
    }
   ],
   "source": [
    "# 처음에 대문자, 후에 소문자가 여러 번 등장하는 경우 \n",
    "re.findall('[A-Z][a-z]+', text)"
   ]
  },
  {
   "cell_type": "code",
   "execution_count": 46,
   "id": "sophisticated-anthropology",
   "metadata": {},
   "outputs": [],
   "source": [
    "# 영문자가 아닌 문자는 모두 공백으로 치환\n",
    "import re\n",
    "letters_only = re.sub('[^a-zA-Z]', ' ', text)"
   ]
  },
  {
   "cell_type": "markdown",
   "id": "separated-advisory",
   "metadata": {},
   "source": [
    "# 5. 정규 표현식을 이용한 토큰화"
   ]
  },
  {
   "cell_type": "code",
   "execution_count": 47,
   "id": "needed-single",
   "metadata": {},
   "outputs": [
    {
     "name": "stdout",
     "output_type": "stream",
     "text": [
      "['Don', 't', 'be', 'fooled', 'by', 'the', 'dark', 'sounding', 'name', 'Mr', 'Jone', 's', 'Orphanage', 'is', 'as', 'cheery', 'as', 'cheery', 'goes', 'for', 'a', 'pastry', 'shop']\n"
     ]
    }
   ],
   "source": [
    "import nltk\n",
    "from nltk.tokenize import RegexpTokenizer\n",
    "tokenizer = RegexpTokenizer(\"[\\w]+\")\n",
    "print(tokenizer.tokenize(\"Don't be fooled by the dark sounding name, Mr. Jone's Orphanage is as cheery as cheery goes for a pastry shop\"))"
   ]
  },
  {
   "cell_type": "code",
   "execution_count": 48,
   "id": "thermal-scotland",
   "metadata": {},
   "outputs": [
    {
     "name": "stdout",
     "output_type": "stream",
     "text": [
      "[\"Don't\", 'be', 'fooled', 'by', 'the', 'dark', 'sounding', 'name,', 'Mr.', \"Jone's\", 'Orphanage', 'is', 'as', 'cheery', 'as', 'cheery', 'goes', 'for', 'a', 'pastry', 'shop']\n"
     ]
    }
   ],
   "source": [
    "import nltk\n",
    "from nltk.tokenize import RegexpTokenizer\n",
    "\n",
    "# gaps=True는 정규 표현식을 토큰 기준으로 사용한다는 의미 \n",
    "tokenizer = RegexpTokenizer(\"[\\s]+\", gaps=True)\n",
    "print(tokenizer.tokenize(\"Don't be fooled by the dark sounding name, Mr. Jone's Orphanage is as cheery as cheery goes for a pastry shop\"))"
   ]
  }
 ],
 "metadata": {
  "kernelspec": {
   "display_name": "Python 3",
   "language": "python",
   "name": "python3"
  },
  "language_info": {
   "codemirror_mode": {
    "name": "ipython",
    "version": 3
   },
   "file_extension": ".py",
   "mimetype": "text/x-python",
   "name": "python",
   "nbconvert_exporter": "python",
   "pygments_lexer": "ipython3",
   "version": "3.8.5"
  }
 },
 "nbformat": 4,
 "nbformat_minor": 5
}
