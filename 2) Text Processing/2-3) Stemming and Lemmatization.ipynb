{
 "cells": [
  {
   "cell_type": "markdown",
   "id": "moved-gravity",
   "metadata": {},
   "source": [
    "# 1. 표제어 추출(Lemmatization)\n",
    "단어가 다른 형태라도 그 뿌리 단어(lemma)를 찾아 단어를 줄일지 판단   \n",
    "1. 어간(stem): 단어의 의미를 담는 핵심 부분\n",
    "2. 접사(affix): 단어의 추가적 의미 부분   \n",
    "\n",
    "이 둘을 분리하는 형태학(morpology)적 파싱을 진행   \n",
    "Lemmatization은 문맥을 고려하며, 그 결과는 단어의 품사 정보(POS 태그)를 보존"
   ]
  },
  {
   "cell_type": "markdown",
   "id": "close-miami",
   "metadata": {},
   "source": [
    "표제어 추출기(lemmatizer)는 본 단어의 품사를 알아야만 정확한 결과를 얻을 수 있음"
   ]
  },
  {
   "cell_type": "code",
   "execution_count": 1,
   "id": "alone-corpus",
   "metadata": {},
   "outputs": [
    {
     "name": "stdout",
     "output_type": "stream",
     "text": [
      "['policy', 'doing', 'organization', 'have', 'going', 'love', 'life', 'fly', 'dy', 'watched', 'ha', 'starting']\n"
     ]
    }
   ],
   "source": [
    "from nltk.stem import WordNetLemmatizer\n",
    "n = WordNetLemmatizer()\n",
    "words = ['policy', 'doing', 'organization', 'have', 'going', 'love', 'lives', 'fly', 'dies', 'watched', 'has', 'starting']\n",
    "print([n.lemmatize(w) for w in words])"
   ]
  },
  {
   "cell_type": "markdown",
   "id": "instant-words",
   "metadata": {},
   "source": [
    "입력으로 품사를 알릴 때 정확한 lemma를 출력함"
   ]
  },
  {
   "cell_type": "code",
   "execution_count": 2,
   "id": "rental-crossing",
   "metadata": {},
   "outputs": [
    {
     "data": {
      "text/plain": [
       "'die'"
      ]
     },
     "execution_count": 2,
     "metadata": {},
     "output_type": "execute_result"
    }
   ],
   "source": [
    "n.lemmatize('dies', 'v')"
   ]
  },
  {
   "cell_type": "code",
   "execution_count": 3,
   "id": "nervous-testament",
   "metadata": {},
   "outputs": [
    {
     "data": {
      "text/plain": [
       "'watch'"
      ]
     },
     "execution_count": 3,
     "metadata": {},
     "output_type": "execute_result"
    }
   ],
   "source": [
    "n.lemmatize('watched', 'v')"
   ]
  },
  {
   "cell_type": "code",
   "execution_count": 4,
   "id": "applied-regulation",
   "metadata": {},
   "outputs": [
    {
     "data": {
      "text/plain": [
       "'have'"
      ]
     },
     "execution_count": 4,
     "metadata": {},
     "output_type": "execute_result"
    }
   ],
   "source": [
    "n.lemmatize('has', 'v')"
   ]
  },
  {
   "cell_type": "markdown",
   "id": "binary-legislature",
   "metadata": {},
   "source": [
    "# 2. 어간 추출(Stemming)\n",
    "형태학적 분석을 단순화, 정해진 규칙만 보고 의미를 자르는 어림짐작의 작업   \n",
    "Stemming은 품사 정보가 보존되지 않음, 그 결과가 사전에 존재하지 않는 단어일 경우가 많음"
   ]
  },
  {
   "cell_type": "code",
   "execution_count": 5,
   "id": "visible-vampire",
   "metadata": {},
   "outputs": [
    {
     "name": "stdout",
     "output_type": "stream",
     "text": [
      "['This', 'was', 'not', 'the', 'map', 'we', 'found', 'in', 'Billy', 'Bone', \"'s\", 'chest', ',', 'but', 'an', 'accurate', 'copy', ',', 'complete', 'in', 'all', 'things', '--', 'names', 'and', 'heights', 'and', 'soundings', '--', 'with', 'the', 'single', 'exception', 'of', 'the', 'red', 'crosses', 'and', 'the', 'written', 'notes', '.']\n"
     ]
    }
   ],
   "source": [
    "# 어간 추출 알고리즘 중 Porter 알고리즘 사용\n",
    "from nltk.stem import PorterStemmer\n",
    "from nltk.tokenize import word_tokenize\n",
    "s = PorterStemmer()\n",
    "text = \"This was not the map we found in Billy Bone's chest, but an accurate copy, complete in all things--names and heights and soundings--with the single exception of the red crosses and the written notes.\"\n",
    "words = word_tokenize(text)\n",
    "print(words)"
   ]
  },
  {
   "cell_type": "markdown",
   "id": "growing-passage",
   "metadata": {},
   "source": [
    "단순 규칙에 기반해 이루어져 사전에 없는 단어들도 포함"
   ]
  },
  {
   "cell_type": "code",
   "execution_count": 6,
   "id": "dependent-slovakia",
   "metadata": {},
   "outputs": [
    {
     "name": "stdout",
     "output_type": "stream",
     "text": [
      "['thi', 'wa', 'not', 'the', 'map', 'we', 'found', 'in', 'billi', 'bone', \"'s\", 'chest', ',', 'but', 'an', 'accur', 'copi', ',', 'complet', 'in', 'all', 'thing', '--', 'name', 'and', 'height', 'and', 'sound', '--', 'with', 'the', 'singl', 'except', 'of', 'the', 'red', 'cross', 'and', 'the', 'written', 'note', '.']\n"
     ]
    }
   ],
   "source": [
    "print([s.stem(w) for w in words])"
   ]
  },
  {
   "cell_type": "code",
   "execution_count": 7,
   "id": "filled-bachelor",
   "metadata": {},
   "outputs": [
    {
     "name": "stdout",
     "output_type": "stream",
     "text": [
      "['formal', 'allow', 'electric']\n"
     ]
    }
   ],
   "source": [
    "words = ['formalize', 'allowance', 'electricical']\n",
    "print([s.stem(w) for w in words])"
   ]
  },
  {
   "cell_type": "markdown",
   "id": "functional-metropolitan",
   "metadata": {},
   "source": [
    "Porter Stemmer와 Lancaster Stemmer 알고리즘 비교"
   ]
  },
  {
   "cell_type": "code",
   "execution_count": 8,
   "id": "optional-daisy",
   "metadata": {},
   "outputs": [
    {
     "name": "stdout",
     "output_type": "stream",
     "text": [
      "['polici', 'do', 'organ', 'have', 'go', 'love', 'live', 'fli', 'die', 'watch', 'ha', 'start']\n"
     ]
    }
   ],
   "source": [
    "# Porter Stemmer\n",
    "from nltk.stem import PorterStemmer\n",
    "s = PorterStemmer()\n",
    "words = ['policy', 'doing', 'organization', 'have', 'going', 'love', 'lives', 'fly', 'dies', 'watched', 'has', 'starting']\n",
    "print([s.stem(w) for w in words])"
   ]
  },
  {
   "cell_type": "code",
   "execution_count": 9,
   "id": "enhanced-interface",
   "metadata": {},
   "outputs": [
    {
     "name": "stdout",
     "output_type": "stream",
     "text": [
      "['policy', 'doing', 'org', 'hav', 'going', 'lov', 'liv', 'fly', 'die', 'watch', 'has', 'start']\n"
     ]
    }
   ],
   "source": [
    "# Lancaster Stemmer\n",
    "from nltk.stem import LancasterStemmer\n",
    "l = LancasterStemmer()\n",
    "words = ['policy', 'doing', 'organization', 'have', 'going', 'love', 'lives', 'fly', 'dies', 'watched', 'has', 'starting']\n",
    "print([l.stem(w) for w in words])"
   ]
  },
  {
   "cell_type": "markdown",
   "id": "fossil-warner",
   "metadata": {},
   "source": [
    "알려진 알고리즘을 사용할 때는 corpus에 stemmer를 적용해보고 어떤 것이 적합할지 판단 후 사용   \n",
    "이런 규칙 기반 알고리즘은 종종 제대로 된 일반화를 수행하지 못할 가능성 존재 "
   ]
  },
  {
   "cell_type": "markdown",
   "id": "aggregate-joyce",
   "metadata": {},
   "source": [
    "# 3. 한국어에서의 어간 추출\n",
    "언|품사\n",
    ":-----|:---------\n",
    "체언|명사, 대명사, 수사\n",
    "수식언|관형사, 부사\n",
    "관계언|조사\n",
    "독립언|감탄사\n",
    "**용언(어간과 어미의 결합으로 구성됨)**|**동사, 형용사**   "
   ]
  },
  {
   "cell_type": "markdown",
   "id": "sorted-tuesday",
   "metadata": {},
   "source": [
    "> **1) 활용(conjugation)**   \n",
    "> 용언의 어간이 어미를 가지는 일  \n",
    "> 어간(stem): 원칙적으로 모양이 변하지 않음, 때론 어간의 모양도 바뀜   \n",
    "> 어미(ending): 활용하며 변함, 문법적 기능을 수행"
   ]
  },
  {
   "cell_type": "markdown",
   "id": "married-leonard",
   "metadata": {},
   "source": [
    "> **2) 규칙 활용**   \n",
    "> 어간이 어미를 취할 때 어간의 형태가 바뀌지 않음"
   ]
  },
  {
   "cell_type": "markdown",
   "id": "dominican-remove",
   "metadata": {},
   "source": [
    "> **3) 불규칙 활용**   \n",
    "> 어간이 어미를 취할 때 어간의 모습이 바뀌거나 어미가 특수할 경우   \n",
    "> 어간의 모습이 바뀌므로 단순 분리만으로 어간 추출이 되지 않고 좀 더 복잡한 규칙 필요"
   ]
  }
 ],
 "metadata": {
  "kernelspec": {
   "display_name": "Python 3",
   "language": "python",
   "name": "python3"
  },
  "language_info": {
   "codemirror_mode": {
    "name": "ipython",
    "version": 3
   },
   "file_extension": ".py",
   "mimetype": "text/x-python",
   "name": "python",
   "nbconvert_exporter": "python",
   "pygments_lexer": "ipython3",
   "version": "3.8.5"
  }
 },
 "nbformat": 4,
 "nbformat_minor": 5
}
