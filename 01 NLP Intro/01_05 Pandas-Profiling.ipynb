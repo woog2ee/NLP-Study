{
 "cells": [
  {
   "cell_type": "markdown",
   "id": "seasonal-shepherd",
   "metadata": {},
   "source": [
    "# 1. 실습 파일 불러오기"
   ]
  },
  {
   "cell_type": "code",
   "execution_count": 1,
   "id": "lonely-romance",
   "metadata": {},
   "outputs": [
    {
     "data": {
      "text/html": [
       "<div>\n",
       "<style scoped>\n",
       "    .dataframe tbody tr th:only-of-type {\n",
       "        vertical-align: middle;\n",
       "    }\n",
       "\n",
       "    .dataframe tbody tr th {\n",
       "        vertical-align: top;\n",
       "    }\n",
       "\n",
       "    .dataframe thead th {\n",
       "        text-align: right;\n",
       "    }\n",
       "</style>\n",
       "<table border=\"1\" class=\"dataframe\">\n",
       "  <thead>\n",
       "    <tr style=\"text-align: right;\">\n",
       "      <th></th>\n",
       "      <th>v1</th>\n",
       "      <th>v2</th>\n",
       "      <th>Unnamed: 2</th>\n",
       "      <th>Unnamed: 3</th>\n",
       "      <th>Unnamed: 4</th>\n",
       "    </tr>\n",
       "  </thead>\n",
       "  <tbody>\n",
       "    <tr>\n",
       "      <th>0</th>\n",
       "      <td>ham</td>\n",
       "      <td>Go until jurong point, crazy.. Available only ...</td>\n",
       "      <td>NaN</td>\n",
       "      <td>NaN</td>\n",
       "      <td>NaN</td>\n",
       "    </tr>\n",
       "    <tr>\n",
       "      <th>1</th>\n",
       "      <td>ham</td>\n",
       "      <td>Ok lar... Joking wif u oni...</td>\n",
       "      <td>NaN</td>\n",
       "      <td>NaN</td>\n",
       "      <td>NaN</td>\n",
       "    </tr>\n",
       "    <tr>\n",
       "      <th>2</th>\n",
       "      <td>spam</td>\n",
       "      <td>Free entry in 2 a wkly comp to win FA Cup fina...</td>\n",
       "      <td>NaN</td>\n",
       "      <td>NaN</td>\n",
       "      <td>NaN</td>\n",
       "    </tr>\n",
       "    <tr>\n",
       "      <th>3</th>\n",
       "      <td>ham</td>\n",
       "      <td>U dun say so early hor... U c already then say...</td>\n",
       "      <td>NaN</td>\n",
       "      <td>NaN</td>\n",
       "      <td>NaN</td>\n",
       "    </tr>\n",
       "    <tr>\n",
       "      <th>4</th>\n",
       "      <td>ham</td>\n",
       "      <td>Nah I don't think he goes to usf, he lives aro...</td>\n",
       "      <td>NaN</td>\n",
       "      <td>NaN</td>\n",
       "      <td>NaN</td>\n",
       "    </tr>\n",
       "  </tbody>\n",
       "</table>\n",
       "</div>"
      ],
      "text/plain": [
       "     v1                                                 v2 Unnamed: 2  \\\n",
       "0   ham  Go until jurong point, crazy.. Available only ...        NaN   \n",
       "1   ham                      Ok lar... Joking wif u oni...        NaN   \n",
       "2  spam  Free entry in 2 a wkly comp to win FA Cup fina...        NaN   \n",
       "3   ham  U dun say so early hor... U c already then say...        NaN   \n",
       "4   ham  Nah I don't think he goes to usf, he lives aro...        NaN   \n",
       "\n",
       "  Unnamed: 3 Unnamed: 4  \n",
       "0        NaN        NaN  \n",
       "1        NaN        NaN  \n",
       "2        NaN        NaN  \n",
       "3        NaN        NaN  \n",
       "4        NaN        NaN  "
      ]
     },
     "execution_count": 1,
     "metadata": {},
     "output_type": "execute_result"
    }
   ],
   "source": [
    "import pandas as pd\n",
    "import pandas_profiling \n",
    "\n",
    "data = pd.read_csv('./spam.csv', encoding='latin1')\n",
    "data[:5]"
   ]
  },
  {
   "cell_type": "markdown",
   "id": "judicial-sheriff",
   "metadata": {},
   "source": [
    "# 2. 리포트 생성하기"
   ]
  },
  {
   "cell_type": "code",
   "execution_count": 2,
   "id": "rural-breath",
   "metadata": {},
   "outputs": [],
   "source": [
    "pr = data.profile_report() # 프로파일링 결과 리포트를 저장"
   ]
  },
  {
   "cell_type": "code",
   "execution_count": 3,
   "id": "hydraulic-lexington",
   "metadata": {},
   "outputs": [],
   "source": [
    "# pr.to_file('./pr_report.html')"
   ]
  },
  {
   "cell_type": "markdown",
   "id": "charitable-necessity",
   "metadata": {},
   "source": [
    "# 3. 리포트 살펴보기\n",
    "좋은 머신러닝 결과를 얻기 위한 EDA에 Pandas-Profiling 사용   \n",
    "**EDA(Exploratory Data Analysis, 탐색적 데이터 분석)**: 데이터 분포와 결측값 유무 등을 파악   \n",
    "변수 데이터 타입과 독립/종속 변수 관계를 점검해 데이터에 내재하는 구조적 관계를 알아가는 과정 \n",
    "> **1) Overview**   \n",
    "> 데이터 크기, 변수 개수, 결측값 비율, 데이터의 종류 확인 가능   \n",
    "> ![Overview](https://wikidocs.net/images/page/47193/overview.PNG \"Overview\")"
   ]
  },
  {
   "cell_type": "markdown",
   "id": "taken-fashion",
   "metadata": {},
   "source": [
    "> **2) Variables**   \n",
    "> 결측값과 distinct count(unique values) 확인 가능\n",
    "> ![Variables](https://wikidocs.net/images/page/47193/variables.png \"Variables\")"
   ]
  },
  {
   "cell_type": "markdown",
   "id": "complex-tampa",
   "metadata": {},
   "source": [
    "> **3) Toggle details**   \n",
    "> 데이터 빈도값과 구성 확인 가능   \n",
    "> 이외에도 수치형 데이터 correlation, 결측값 heatmap, 수지도(dendrogram) 등 기능 지원 \n",
    "> ![Toggle details1](https://wikidocs.net/images/page/47193/toggle_details.png \"Toggle details1\")\n",
    "> ![Toggle details2](https://wikidocs.net/images/page/47193/toggle_details2.png \"Toggle details2\")"
   ]
  },
  {
   "cell_type": "code",
   "execution_count": 4,
   "id": "supposed-screw",
   "metadata": {},
   "outputs": [],
   "source": [
    "# pr"
   ]
  }
 ],
 "metadata": {
  "kernelspec": {
   "display_name": "Python 3",
   "language": "python",
   "name": "python3"
  },
  "language_info": {
   "codemirror_mode": {
    "name": "ipython",
    "version": 3
   },
   "file_extension": ".py",
   "mimetype": "text/x-python",
   "name": "python",
   "nbconvert_exporter": "python",
   "pygments_lexer": "ipython3",
   "version": "3.8.8"
  }
 },
 "nbformat": 4,
 "nbformat_minor": 5
}
