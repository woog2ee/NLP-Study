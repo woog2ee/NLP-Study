{
 "cells": [
  {
   "cell_type": "markdown",
   "id": "hazardous-istanbul",
   "metadata": {},
   "source": [
    "# 1. NLTK\n",
    "자연어 처리를 위한 파이썬 패키지   \n",
    "추가 패키지와 corpus를 받고자 NLTK Data 설치 필요"
   ]
  },
  {
   "cell_type": "markdown",
   "id": "remarkable-correlation",
   "metadata": {},
   "source": [
    "# 2. KoNLPy\n",
    "한국어 자연어 처리를 위한 형태소 분석기 패키지   \n",
    "Java로 구성되어 있어 JDK와 Jpype 설치 필요"
   ]
  }
 ],
 "metadata": {
  "kernelspec": {
   "display_name": "Python 3",
   "language": "python",
   "name": "python3"
  },
  "language_info": {
   "codemirror_mode": {
    "name": "ipython",
    "version": 3
   },
   "file_extension": ".py",
   "mimetype": "text/x-python",
   "name": "python",
   "nbconvert_exporter": "python",
   "pygments_lexer": "ipython3",
   "version": "3.8.8"
  }
 },
 "nbformat": 4,
 "nbformat_minor": 5
}
