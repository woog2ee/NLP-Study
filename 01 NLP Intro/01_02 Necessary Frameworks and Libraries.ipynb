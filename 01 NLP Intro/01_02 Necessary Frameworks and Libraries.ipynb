{
 "cells": [
  {
   "cell_type": "markdown",
   "id": "automatic-departure",
   "metadata": {},
   "source": [
    "# 1. Tensorflow\n",
    "머신러닝과 딥러닝을 직관적이고 손쉽게 하도록 설계됨, 주로 딥러닝에 사용"
   ]
  },
  {
   "cell_type": "markdown",
   "id": "seeing-tuition",
   "metadata": {},
   "source": [
    "# 2. Keras\n",
    "Tensorflow의 추상화된 API를 제공하며, 백엔드로 Tensorflow를 사용   \n",
    "순수 Keras와 Tensorflow에서의 Keras는 많은 면에서 같음"
   ]
  },
  {
   "cell_type": "markdown",
   "id": "resistant-letter",
   "metadata": {},
   "source": [
    "# 3. Gensim\n",
    "머신러닝으로 토픽 모델링과 자연어 처리를 수행하게 도움"
   ]
  },
  {
   "cell_type": "markdown",
   "id": "reverse-legislature",
   "metadata": {},
   "source": [
    "# 4. Scikit-Learn\n",
    "파이썬 머신러닝 라이브러리로 여러 모듈과 머신러닝 자체 데이터셋 제공"
   ]
  },
  {
   "cell_type": "markdown",
   "id": "vulnerable-israel",
   "metadata": {},
   "source": [
    "# 5. Jupyter Notebook\n",
    "웹에서 코드를 작성하고 실행하는 오픈소스 웹 어플리케이션"
   ]
  }
 ],
 "metadata": {
  "kernelspec": {
   "display_name": "Python 3",
   "language": "python",
   "name": "python3"
  },
  "language_info": {
   "codemirror_mode": {
    "name": "ipython",
    "version": 3
   },
   "file_extension": ".py",
   "mimetype": "text/x-python",
   "name": "python",
   "nbconvert_exporter": "python",
   "pygments_lexer": "ipython3",
   "version": "3.8.8"
  }
 },
 "nbformat": 4,
 "nbformat_minor": 5
}
