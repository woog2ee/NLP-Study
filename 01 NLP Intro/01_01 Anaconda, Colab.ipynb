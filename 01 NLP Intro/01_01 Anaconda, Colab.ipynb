{
 "cells": [
  {
   "cell_type": "markdown",
   "id": "known-criterion",
   "metadata": {},
   "source": [
    "# 1. Anaconda\n",
    "머신러닝 실습 패키지를 모아놓은 파이썬 배포판   \n",
    "Numpy, Pandas, Jupyter Notebook, IPython, Scikit-Learn, Matplotlib, Seaborn, NLTK 등이 포함됨"
   ]
  },
  {
   "cell_type": "markdown",
   "id": "organic-anderson",
   "metadata": {},
   "source": [
    "# 2. Colab\n",
    "Tensorflow는 기본적으로 64비트 플랫폼만을 지원하는데, 32비트 환경에서 실습 환경이 필요할 경우 Colab 사용"
   ]
  }
 ],
 "metadata": {
  "kernelspec": {
   "display_name": "Python 3",
   "language": "python",
   "name": "python3"
  },
  "language_info": {
   "codemirror_mode": {
    "name": "ipython",
    "version": 3
   },
   "file_extension": ".py",
   "mimetype": "text/x-python",
   "name": "python",
   "nbconvert_exporter": "python",
   "pygments_lexer": "ipython3",
   "version": "3.8.8"
  }
 },
 "nbformat": 4,
 "nbformat_minor": 5
}
