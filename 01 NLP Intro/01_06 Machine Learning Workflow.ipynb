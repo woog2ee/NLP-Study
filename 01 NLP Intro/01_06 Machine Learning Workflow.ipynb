{
 "cells": [
  {
   "cell_type": "markdown",
   "id": "aerial-synthetic",
   "metadata": {},
   "source": [
    "# 1. Machine Learning Workflow"
   ]
  },
  {
   "cell_type": "markdown",
   "id": "complex-tension",
   "metadata": {},
   "source": [
    "> **1) Acquisition**   \n",
    "> 머신러닝을 하고자 학습할 데이터 필요   \n",
    "> 연구 목적으로 특정 도메인으로부터 수집된 자연어 텍스트 데이터를 corpus라 함   "
   ]
  },
  {
   "cell_type": "markdown",
   "id": "abstract-gregory",
   "metadata": {},
   "source": [
    "> **2) Inspection and Exploration**   \n",
    "> EDA, 탐색적 데이터 분석 단계   \n",
    "> 데이터 구조와 노이즈 데이터를 어떻게 정제할지 파악   "
   ]
  },
  {
   "cell_type": "markdown",
   "id": "prerequisite-abortion",
   "metadata": {},
   "source": [
    "> **3) Preprocessing and Cleaning**   \n",
    "> 자연어 처리에서의 토큰화, 정제, 정규화, 불용어 제거    "
   ]
  },
  {
   "cell_type": "markdown",
   "id": "remarkable-islam",
   "metadata": {},
   "source": [
    "> **4) Modeling and Training**   \n",
    "> 전처리된 데이터를 머신러닝 알고리즘으로 모델링한 기계에 training   \n",
    "> 과적합 방지를 위해 훈련/검증/테스트 데이터로 나눔   "
   ]
  },
  {
   "cell_type": "markdown",
   "id": "unlikely-schema",
   "metadata": {},
   "source": [
    "> **5) Evaluation**   \n",
    "> 테스트 데이터로 모델 최종 성능 평가   \n",
    "> 모델 성능 수치화 및 개선"
   ]
  },
  {
   "cell_type": "markdown",
   "id": "structured-laugh",
   "metadata": {},
   "source": [
    "> **6) Deployment**   \n",
    "> 완성된 모델의 피드백으로 기존 모델을 변경할 경우 이전 단계로 돌아감"
   ]
  }
 ],
 "metadata": {
  "kernelspec": {
   "display_name": "Python 3",
   "language": "python",
   "name": "python3"
  },
  "language_info": {
   "codemirror_mode": {
    "name": "ipython",
    "version": 3
   },
   "file_extension": ".py",
   "mimetype": "text/x-python",
   "name": "python",
   "nbconvert_exporter": "python",
   "pygments_lexer": "ipython3",
   "version": "3.8.8"
  }
 },
 "nbformat": 4,
 "nbformat_minor": 5
}
