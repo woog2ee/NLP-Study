{
 "cells": [
  {
   "cell_type": "markdown",
   "id": "velvet-bankruptcy",
   "metadata": {},
   "source": [
    "# 1. 임의 입력 생성"
   ]
  },
  {
   "cell_type": "code",
   "execution_count": 1,
   "id": "outdoor-mapping",
   "metadata": {},
   "outputs": [
    {
     "name": "stdout",
     "output_type": "stream",
     "text": [
      "(4, 5)\n"
     ]
    }
   ],
   "source": [
    "import numpy as np\n",
    "import tensorflow as tf\n",
    "from tensorflow.keras.layers import SimpleRNN, LSTM, Bidirectional\n",
    "\n",
    "# 2D 텐서\n",
    "train_X = [ [0.1,4.2,1.5,1.1,2.8],\n",
    "            [1.0,3.1,2.5,0.7,1.1],\n",
    "            [0.3,2.1,1.5,2.1,0.1],\n",
    "            [2.2,1.4,0.5,0.9,1.1] ]\n",
    "print(np.shape(train_X))"
   ]
  },
  {
   "cell_type": "code",
   "execution_count": 2,
   "id": "infectious-ethiopia",
   "metadata": {},
   "outputs": [
    {
     "name": "stdout",
     "output_type": "stream",
     "text": [
      "(1, 4, 5)\n"
     ]
    }
   ],
   "source": [
    "# 3D 텐서\n",
    "train_X = [[ [0.1,4.2,1.5,1.1,2.8],\n",
    "             [1.0,3.1,2.5,0.7,1.1],\n",
    "             [0.3,2.1,1.5,2.1,0.1],\n",
    "             [2.2,1.4,0.5,0.9,1.1] ]]\n",
    "train_X = np.array(train_X, dtype=np.float32)\n",
    "print(train_X.shape)"
   ]
  },
  {
   "cell_type": "markdown",
   "id": "italic-prospect",
   "metadata": {},
   "source": [
    "# 2. SimpleRNN"
   ]
  },
  {
   "cell_type": "code",
   "execution_count": 3,
   "id": "subject-allocation",
   "metadata": {},
   "outputs": [
    {
     "name": "stdout",
     "output_type": "stream",
     "text": [
      "hidden state: [[-0.68955094  0.54317063 -0.11713348]], shape: (1, 3)\n"
     ]
    }
   ],
   "source": [
    "# return_sequences=False: 마지막 시점 은닉 상태만 반환\n",
    "rnn = SimpleRNN(3, return_sequences=False)\n",
    "hidden_state = rnn(train_X)\n",
    "\n",
    "print('hidden state: {}, shape: {}'.format(hidden_state, hidden_state.shape))"
   ]
  },
  {
   "cell_type": "code",
   "execution_count": 4,
   "id": "comparative-russell",
   "metadata": {},
   "outputs": [
    {
     "name": "stdout",
     "output_type": "stream",
     "text": [
      "hidden states: [[[ 0.9965923   0.98502755 -0.9999048 ]\n",
      "  [ 0.71638286  0.9953881  -0.9999903 ]\n",
      "  [-0.71342885  0.95783854 -0.99996275]\n",
      "  [ 0.8853167   0.9457677  -0.9971411 ]]], shape: (1, 4, 3)\n"
     ]
    }
   ],
   "source": [
    "# return_sequences=True: 모든 시점 은닉 상태 반환\n",
    "rnn = SimpleRNN(3, return_sequences=True)\n",
    "hidden_states = rnn(train_X)\n",
    "\n",
    "print('hidden states: {}, shape: {}'.format(hidden_states, hidden_states.shape))"
   ]
  },
  {
   "cell_type": "code",
   "execution_count": 5,
   "id": "public-spirit",
   "metadata": {},
   "outputs": [
    {
     "name": "stdout",
     "output_type": "stream",
     "text": [
      "hidden state: [[ 0.86037284 -0.25944093 -0.33476368]], shape: (1, 3)\n",
      "last hidden state: [[ 0.86037284 -0.25944093 -0.33476368]], shape: (1, 3)\n"
     ]
    }
   ],
   "source": [
    "# return_state=True: 마지막 시점 은닉 상태 반환\n",
    "rnn = SimpleRNN(3, return_sequences=False, return_state=True)\n",
    "hidden_state, last_state = rnn(train_X)\n",
    "\n",
    "print('hidden state: {}, shape: {}'.format(hidden_state, hidden_state.shape))\n",
    "print('last hidden state: {}, shape: {}'.format(last_state, last_state.shape))"
   ]
  },
  {
   "cell_type": "code",
   "execution_count": 6,
   "id": "considered-programmer",
   "metadata": {},
   "outputs": [
    {
     "name": "stdout",
     "output_type": "stream",
     "text": [
      "hidden states: [[[-0.9999546  -0.9996182   0.9947555 ]\n",
      "  [-0.99988747 -0.99994993  0.9325656 ]\n",
      "  [-0.9998167  -0.9788065   0.06146588]\n",
      "  [-0.98799706 -0.9894257   0.61460704]]], shape: (1, 4, 3)\n",
      "last hidden state: [[-0.98799706 -0.9894257   0.61460704]], shape: (1, 3)\n"
     ]
    }
   ],
   "source": [
    "rnn = SimpleRNN(3, return_sequences=True, return_state=True)\n",
    "hidden_states, last_state = rnn(train_X)\n",
    "\n",
    "print('hidden states: {}, shape: {}'.format(hidden_states, hidden_states.shape))\n",
    "print('last hidden state: {}, shape: {}'.format(last_state, last_state.shape))"
   ]
  },
  {
   "cell_type": "markdown",
   "id": "dried-means",
   "metadata": {},
   "source": [
    "# 3. LSTM "
   ]
  },
  {
   "cell_type": "code",
   "execution_count": 7,
   "id": "differential-property",
   "metadata": {},
   "outputs": [
    {
     "name": "stdout",
     "output_type": "stream",
     "text": [
      "hidden state: [[ 0.4043716  -0.05455049 -0.14046316]], shape: (1, 3)\n",
      "last hidden state: [[ 0.4043716  -0.05455049 -0.14046316]], shape: (1, 3)\n",
      "last cell state: [[ 0.757271   -0.07010116 -1.6553054 ]], shape: (1, 3)\n"
     ]
    }
   ],
   "source": [
    "# return_state=True: 마지막 은닉 상태와 셀 상태 반환\n",
    "lstm = LSTM(3, return_sequences=False, return_state=True)\n",
    "hidden_state, last_state, last_cell_state = lstm(train_X)\n",
    "\n",
    "print('hidden state: {}, shape: {}'.format(hidden_state, hidden_state.shape))\n",
    "print('last hidden state: {}, shape: {}'.format(last_state, last_state.shape))\n",
    "print('last cell state: {}, shape: {}'.format(last_cell_state, last_cell_state.shape))"
   ]
  },
  {
   "cell_type": "code",
   "execution_count": 8,
   "id": "magnetic-pierce",
   "metadata": {},
   "outputs": [
    {
     "name": "stdout",
     "output_type": "stream",
     "text": [
      "hidden states: [[[-0.0310893  -0.48796135  0.59102476]\n",
      "  [-0.05234299 -0.68633175  0.77240866]\n",
      "  [-0.029691   -0.64991766  0.8034858 ]\n",
      "  [-0.02367756 -0.82675636  0.85507   ]]], shape: (1, 4, 3)\n",
      "last hidden state: [[-0.02367756 -0.82675636  0.85507   ]], shape: (1, 3)\n",
      "last cell state: [[-0.0545646 -1.9746764  2.041984 ]], shape: (1, 3)\n"
     ]
    }
   ],
   "source": [
    "lstm = LSTM(3, return_sequences=True, return_state=True)\n",
    "hidden_states, last_state, last_cell_state = lstm(train_X)\n",
    "\n",
    "print('hidden states: {}, shape: {}'.format(hidden_states, hidden_states.shape))\n",
    "print('last hidden state: {}, shape: {}'.format(last_state, last_state.shape))\n",
    "print('last cell state: {}, shape: {}'.format(last_cell_state, last_cell_state.shape))"
   ]
  },
  {
   "cell_type": "markdown",
   "id": "hired-operation",
   "metadata": {},
   "source": [
    "# 4. Bidirectional LSTM "
   ]
  },
  {
   "cell_type": "code",
   "execution_count": 9,
   "id": "classified-thong",
   "metadata": {},
   "outputs": [],
   "source": [
    "k_init = tf.keras.initializers.Constant(value=0.1)\n",
    "b_init = tf.keras.initializers.Constant(value=0)\n",
    "r_init = tf.keras.initializers.Constant(value=0.1)"
   ]
  },
  {
   "cell_type": "code",
   "execution_count": 10,
   "id": "particular-isaac",
   "metadata": {},
   "outputs": [
    {
     "name": "stdout",
     "output_type": "stream",
     "text": [
      "hidden states: [[[0.35906473 0.35906473 0.35906473 0.7038734  0.7038734  0.7038734 ]\n",
      "  [0.55111325 0.55111325 0.55111325 0.58863586 0.58863586 0.58863586]\n",
      "  [0.59115744 0.59115744 0.59115744 0.3951699  0.3951699  0.3951699 ]\n",
      "  [0.6303138  0.6303138  0.6303138  0.21942244 0.21942244 0.21942244]]], shape: (1, 4, 6)\n",
      "forward state: [[0.6303138 0.6303138 0.6303138]], shape: (1, 3)\n",
      "backward state: [[0.7038734 0.7038734 0.7038734]], shape: (1, 3)\n"
     ]
    }
   ],
   "source": [
    "# return_sequences=True: n번째 시점 정방향, 역방향 은닉 상태가 연결되어 반환\n",
    "bilstm = Bidirectional(LSTM(3, return_sequences=True, return_state=True,\n",
    "                            kernel_initializer=k_init, bias_initializer=b_init, recurrent_initializer=r_init))\n",
    "hidden_states, forward_h, forward_c, backward_h, backward_c = bilstm(train_X)\n",
    "\n",
    "print('hidden states: {}, shape: {}'.format(hidden_states, hidden_states.shape))\n",
    "print('forward state: {}, shape: {}'.format(forward_h, forward_h.shape))\n",
    "print('backward state: {}, shape: {}'.format(backward_h, backward_h.shape))"
   ]
  },
  {
   "cell_type": "code",
   "execution_count": 11,
   "id": "according-europe",
   "metadata": {},
   "outputs": [
    {
     "name": "stdout",
     "output_type": "stream",
     "text": [
      "hidden states: [[0.6303138 0.6303138 0.6303138 0.7038734 0.7038734 0.7038734]], shape: (1, 6)\n",
      "forward state: [[0.6303138 0.6303138 0.6303138]], shape: (1, 3)\n",
      "backward state: [[0.7038734 0.7038734 0.7038734]], shape: (1, 3)\n"
     ]
    }
   ],
   "source": [
    "# return_state=True: 마지막 시점 정방향 은닉/셀 상태와 역방향 은닉/셀 상태 반환\n",
    "bilstm = Bidirectional(LSTM(3, return_sequences=False, return_state=True,\n",
    "                            kernel_initializer=k_init, bias_initializer=b_init, recurrent_initializer=r_init))\n",
    "hidden_states, forward_h, forward_c, backward_h, backward_c = bilstm(train_X)\n",
    "\n",
    "print('hidden states: {}, shape: {}'.format(hidden_states, hidden_states.shape))\n",
    "print('forward state: {}, shape: {}'.format(forward_h, forward_h.shape))\n",
    "print('backward state: {}, shape: {}'.format(backward_h, backward_h.shape))"
   ]
  }
 ],
 "metadata": {
  "kernelspec": {
   "display_name": "Python 3",
   "language": "python",
   "name": "python3"
  },
  "language_info": {
   "codemirror_mode": {
    "name": "ipython",
    "version": 3
   },
   "file_extension": ".py",
   "mimetype": "text/x-python",
   "name": "python",
   "nbconvert_exporter": "python",
   "pygments_lexer": "ipython3",
   "version": "3.8.8"
  }
 },
 "nbformat": 4,
 "nbformat_minor": 5
}
