{
 "cells": [
  {
   "cell_type": "markdown",
   "id": "simple-above",
   "metadata": {},
   "source": [
    "# 1. RNN Language Model\n",
    "레이블을 입력으로 사용하는 **교사 강요(Teacher forcing)**로 예측\n",
    "![RNNLM1](https://wikidocs.net/images/page/46496/rnnlm2_final_final.PNG \"RNNLM1\")\n",
    "\n",
    "4개 층으로 구성\n",
    "![RNNLM2](https://wikidocs.net/images/page/46496/rnnlm3_final.PNG \"RNNLM2\")\n",
    "\n",
    "예측값과 실제값 오차로부터 역전파가 이루어지며 학습됨   \n",
    "$$e_{t} = lookup(x_{t})$$\n",
    "$$h_{t} = tanh(W_{x}e_{t} + W_{h}h_{t-1} + b)$$\n",
    "$$\\hat{y_{t}} = softmax(W_{y}h_{t} + b)$$\n",
    "![RNNLM3](https://wikidocs.net/images/page/46496/rnnlm4_final.PNG \"RNNLM3\")"
   ]
  }
 ],
 "metadata": {
  "kernelspec": {
   "display_name": "Python 3",
   "language": "python",
   "name": "python3"
  },
  "language_info": {
   "codemirror_mode": {
    "name": "ipython",
    "version": 3
   },
   "file_extension": ".py",
   "mimetype": "text/x-python",
   "name": "python",
   "nbconvert_exporter": "python",
   "pygments_lexer": "ipython3",
   "version": "3.8.8"
  }
 },
 "nbformat": 4,
 "nbformat_minor": 5
}
