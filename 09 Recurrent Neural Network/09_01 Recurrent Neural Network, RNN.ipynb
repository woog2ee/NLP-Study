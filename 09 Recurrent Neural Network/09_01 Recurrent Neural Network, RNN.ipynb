{
 "cells": [
  {
   "cell_type": "markdown",
   "id": "northern-listening",
   "metadata": {},
   "source": [
    "# 1. Recurrent Neural Network\n",
    "시퀀스 단위 입출력으로 가장 단순한 형태인 Vanilla RNN    \n",
    "은닉층 활성화 함수로 나온 값을 다시 은닉층 입력으로 보냄\n",
    "![RNN1](https://wikidocs.net/images/page/22886/rnn_image2_ver3.PNG \"RNN1\")\n",
    "\n",
    "은닉층 연산\n",
    "$$h_{t} = tanh(W_{x}x_{t} + W_{h}h_{t-1} + b)$$\n",
    "![RNN2](https://wikidocs.net/images/page/22886/rnn_images4-5.PNG \"RNN2\")"
   ]
  },
  {
   "cell_type": "markdown",
   "id": "decent-equality",
   "metadata": {},
   "source": [
    "# 2. Keras RNN"
   ]
  },
  {
   "cell_type": "code",
   "execution_count": 1,
   "id": "composed-camping",
   "metadata": {},
   "outputs": [
    {
     "name": "stdout",
     "output_type": "stream",
     "text": [
      "Model: \"sequential\"\n",
      "_________________________________________________________________\n",
      "Layer (type)                 Output Shape              Param #   \n",
      "=================================================================\n",
      "simple_rnn (SimpleRNN)       (None, 3)                 42        \n",
      "=================================================================\n",
      "Total params: 42\n",
      "Trainable params: 42\n",
      "Non-trainable params: 0\n",
      "_________________________________________________________________\n"
     ]
    }
   ],
   "source": [
    "from keras.models import Sequential\n",
    "from keras.layers import SimpleRNN\n",
    "\n",
    "model = Sequential()\n",
    "# model. add(SimpleRNN(hidden_size, input_shape=(timesteps, input_dim)))\n",
    "model.add(SimpleRNN(3, input_shape=(2,10)))\n",
    "\n",
    "model.summary()"
   ]
  },
  {
   "cell_type": "code",
   "execution_count": 2,
   "id": "textile-savannah",
   "metadata": {},
   "outputs": [
    {
     "name": "stdout",
     "output_type": "stream",
     "text": [
      "Model: \"sequential_1\"\n",
      "_________________________________________________________________\n",
      "Layer (type)                 Output Shape              Param #   \n",
      "=================================================================\n",
      "simple_rnn_1 (SimpleRNN)     (8, 3)                    42        \n",
      "=================================================================\n",
      "Total params: 42\n",
      "Trainable params: 42\n",
      "Non-trainable params: 0\n",
      "_________________________________________________________________\n"
     ]
    }
   ],
   "source": [
    "model = Sequential()\n",
    "model.add(SimpleRNN(3, batch_input_shape=(8,2,10)))\n",
    "\n",
    "model.summary()"
   ]
  },
  {
   "cell_type": "code",
   "execution_count": 3,
   "id": "varied-spoke",
   "metadata": {},
   "outputs": [
    {
     "name": "stdout",
     "output_type": "stream",
     "text": [
      "Model: \"sequential_2\"\n",
      "_________________________________________________________________\n",
      "Layer (type)                 Output Shape              Param #   \n",
      "=================================================================\n",
      "simple_rnn_2 (SimpleRNN)     (8, 2, 3)                 42        \n",
      "=================================================================\n",
      "Total params: 42\n",
      "Trainable params: 42\n",
      "Non-trainable params: 0\n",
      "_________________________________________________________________\n"
     ]
    }
   ],
   "source": [
    "model = Sequential()\n",
    "model.add(SimpleRNN(3, batch_input_shape=(8,2,10), return_sequences=True))\n",
    "\n",
    "model.summary()"
   ]
  },
  {
   "cell_type": "markdown",
   "id": "hispanic-brother",
   "metadata": {},
   "source": [
    "# 3. 파이썬 RNN"
   ]
  },
  {
   "cell_type": "code",
   "execution_count": 4,
   "id": "pediatric-buffalo",
   "metadata": {},
   "outputs": [
    {
     "name": "stdout",
     "output_type": "stream",
     "text": [
      "[0. 0. 0. 0. 0. 0. 0. 0.]\n"
     ]
    }
   ],
   "source": [
    "import numpy as np\n",
    "\n",
    "timesteps = 10 \n",
    "input_dim = 4 \n",
    "hidden_size = 8 \n",
    "\n",
    "inputs = np.random.random((timesteps, input_dim))\n",
    "\n",
    "hidden_state_t = np.zeros((hidden_size,))\n",
    "print(hidden_state_t)"
   ]
  },
  {
   "cell_type": "code",
   "execution_count": 5,
   "id": "alone-portal",
   "metadata": {},
   "outputs": [
    {
     "name": "stdout",
     "output_type": "stream",
     "text": [
      "(8, 4)\n",
      "(8, 8)\n",
      "(8,)\n"
     ]
    }
   ],
   "source": [
    "Wx = np.random.random((hidden_size, input_dim))\n",
    "Wh = np.random.random((hidden_size, hidden_size))\n",
    "b = np.random.random((hidden_size,))\n",
    "\n",
    "print(np.shape(Wx))\n",
    "print(np.shape(Wh))\n",
    "print(np.shape(b))"
   ]
  },
  {
   "cell_type": "code",
   "execution_count": 6,
   "id": "still-emphasis",
   "metadata": {},
   "outputs": [
    {
     "name": "stdout",
     "output_type": "stream",
     "text": [
      "(1, 8)\n",
      "(2, 8)\n",
      "(3, 8)\n",
      "(4, 8)\n",
      "(5, 8)\n",
      "(6, 8)\n",
      "(7, 8)\n",
      "(8, 8)\n",
      "(9, 8)\n",
      "(10, 8)\n",
      "[[0.95958561 0.96638521 0.90732506 0.94713773 0.92461485 0.824695\n",
      "  0.90078601 0.90438455]\n",
      " [0.99999506 0.99995857 0.9999972  0.99995578 0.99999295 0.99921342\n",
      "  0.9990282  0.9999731 ]\n",
      " [0.99999443 0.99995558 0.99999757 0.99995635 0.99998835 0.99899861\n",
      "  0.99904664 0.99997776]\n",
      " [0.99999862 0.99995536 0.99999752 0.9999883  0.99999368 0.9989872\n",
      "  0.99827276 0.99999193]\n",
      " [0.9999996  0.99999479 0.99999966 0.99999536 0.99999919 0.99981086\n",
      "  0.99955695 0.99999756]\n",
      " [0.99999906 0.99997133 0.99999902 0.99999321 0.99999457 0.99884885\n",
      "  0.99875778 0.99999587]\n",
      " [0.99999575 0.99991337 0.99999651 0.99996428 0.99999084 0.99881915\n",
      "  0.99863937 0.99997806]\n",
      " [0.99998945 0.9998915  0.99999612 0.99993783 0.99996574 0.99732879\n",
      "  0.99854191 0.99996761]\n",
      " [0.99999889 0.99998584 0.99999883 0.99998863 0.99999718 0.99960932\n",
      "  0.99917793 0.9999935 ]\n",
      " [0.99999778 0.99995417 0.99999877 0.99998205 0.99999503 0.99904761\n",
      "  0.9991236  0.99999005]]\n"
     ]
    }
   ],
   "source": [
    "total_hidden_states = []\n",
    "\n",
    "for input_t in inputs:\n",
    "    output_t = np.tanh(np.dot(Wx,input_t) + np.dot(Wh,hidden_state_t) + b)\n",
    "    total_hidden_states.append(list(output_t))\n",
    "    print(np.shape(total_hidden_states))\n",
    "    \n",
    "    hidden_state_t = output_t\n",
    "    \n",
    "total_hidden_states = np.stack(total_hidden_states, axis=0)\n",
    "print(total_hidden_states)"
   ]
  },
  {
   "cell_type": "markdown",
   "id": "dramatic-copyright",
   "metadata": {},
   "source": [
    "# 4. Deep RNN\n",
    "은닉층 다수 생성\n",
    "![RNN5](https://wikidocs.net/images/page/22886/rnn_image4.5_finalPNG.PNG \"RNN5\")"
   ]
  },
  {
   "cell_type": "code",
   "execution_count": 7,
   "id": "thick-difficulty",
   "metadata": {},
   "outputs": [],
   "source": [
    "model = Sequential()\n",
    "model.add(SimpleRNN(hidden_size, return_sequences=True))\n",
    "model.add(SimpleRNN(hidden_size, return_sequences=True))"
   ]
  },
  {
   "cell_type": "markdown",
   "id": "aquatic-differential",
   "metadata": {},
   "source": [
    "# 5. Bidirectional RNN\n",
    "예측시 이전 시점뿐만 아니라 이후 시점으로도 예측\n",
    "![Bidirectional RNN](https://wikidocs.net/images/page/22886/rnn_image5_ver2.PNG \"Bidirectional RNN\")"
   ]
  },
  {
   "cell_type": "code",
   "execution_count": 8,
   "id": "grave-citation",
   "metadata": {},
   "outputs": [],
   "source": [
    "from tensorflow.keras.models import Sequential\n",
    "from tensorflow.keras.layers import SimpleRNN, Bidirectional\n",
    "\n",
    "model = Sequential()\n",
    "model.add(Bidirectional(SimpleRNN(hidden_size, return_sequences=True), input_shape=(timesteps, input_dim)))"
   ]
  },
  {
   "cell_type": "code",
   "execution_count": 9,
   "id": "recent-international",
   "metadata": {},
   "outputs": [],
   "source": [
    "# Deep Bidirectional RNN\n",
    "model = Sequential()\n",
    "model.add(Bidirectional(SimpleRNN(hidden_size, return_sequences=True), input_shape=(timesteps,input_dim)))\n",
    "model.add(Bidirectional(SimpleRNN(hidden_size, return_sequences=True)))\n",
    "model.add(Bidirectional(SimpleRNN(hidden_size, return_sequences=True)))\n",
    "model.add(Bidirectional(SimpleRNN(hidden_size, return_sequences=True)))"
   ]
  }
 ],
 "metadata": {
  "kernelspec": {
   "display_name": "Python 3",
   "language": "python",
   "name": "python3"
  },
  "language_info": {
   "codemirror_mode": {
    "name": "ipython",
    "version": 3
   },
   "file_extension": ".py",
   "mimetype": "text/x-python",
   "name": "python",
   "nbconvert_exporter": "python",
   "pygments_lexer": "ipython3",
   "version": "3.8.8"
  }
 },
 "nbformat": 4,
 "nbformat_minor": 5
}
