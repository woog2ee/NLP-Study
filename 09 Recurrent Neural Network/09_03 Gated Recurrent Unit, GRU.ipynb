{
 "cells": [
  {
   "cell_type": "markdown",
   "id": "coordinate-tuesday",
   "metadata": {},
   "source": [
    "# 1. Gated Recurrent Unit   \n",
    "장기 의존성 문제를 해결하며 은닉 상태 업데이트 계산을 줄임   \n",
    "LSTM은 출력/망각/입력 게이트, GRU는 업데이트/리셋 게이트   \n",
    "![GRU](https://wikidocs.net/images/page/22889/GRU.PNG \"GRU\")"
   ]
  },
  {
   "cell_type": "markdown",
   "id": "greatest-variable",
   "metadata": {},
   "source": [
    "# 2. Keras GRU"
   ]
  },
  {
   "cell_type": "code",
   "execution_count": 1,
   "id": "utility-harassment",
   "metadata": {},
   "outputs": [],
   "source": [
    "# model.add(GRU(hidden_size, input_shape=(timesteps, input_dim)))"
   ]
  }
 ],
 "metadata": {
  "kernelspec": {
   "display_name": "Python 3",
   "language": "python",
   "name": "python3"
  },
  "language_info": {
   "codemirror_mode": {
    "name": "ipython",
    "version": 3
   },
   "file_extension": ".py",
   "mimetype": "text/x-python",
   "name": "python",
   "nbconvert_exporter": "python",
   "pygments_lexer": "ipython3",
   "version": "3.8.8"
  }
 },
 "nbformat": 4,
 "nbformat_minor": 5
}
