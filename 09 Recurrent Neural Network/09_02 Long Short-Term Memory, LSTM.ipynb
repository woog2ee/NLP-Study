{
 "cells": [
  {
   "cell_type": "markdown",
   "id": "occupational-permission",
   "metadata": {},
   "source": [
    "# 1. Vanilla RNN 한계   \n",
    "긴 시점에서 정보 전달이 안되는 **장기 의존성 문제**"
   ]
  },
  {
   "cell_type": "markdown",
   "id": "checked-picking",
   "metadata": {},
   "source": [
    "# 2. Long Short-Term Memory\n",
    "은닉층에 입력/망각/출력 게이트 추가   \n",
    "![LSTM](https://wikidocs.net/images/page/22888/vaniila_rnn_and_different_lstm_ver2.PNG \"LSTM\")"
   ]
  },
  {
   "cell_type": "markdown",
   "id": "southwest-description",
   "metadata": {},
   "source": [
    "> **1) 입력 게이트**   \n",
    "> 현재 정보 기억\n",
    "> $$i_{t} = \\sigma(W_{xi}x_{t} + W_{hi}h_{t-1} + b_{i})$$\n",
    "> $$g_{t} = tanh(W_{xg}x_{t} + W_{hg}h_{t-1} + b_{g})$$\n",
    "> ![input gate](https://wikidocs.net/images/page/22888/inputgate.PNG \"input gate\")"
   ]
  },
  {
   "cell_type": "markdown",
   "id": "thermal-syntax",
   "metadata": {},
   "source": [
    "> **2) 망각 게이트**   \n",
    "> 1일수록 온전히 기억, 0일수록 기억 많이 삭제\n",
    "> $$f_{t} = \\sigma(W_{xf}x_{t} + W_{hf}h_{t-1} + b_{f})$$\n",
    "> ![forget gate](https://wikidocs.net/images/page/22888/forgetgate.PNG \"forget gate\")"
   ]
  },
  {
   "cell_type": "markdown",
   "id": "laden-print",
   "metadata": {},
   "source": [
    "> **3) 셀 상태**   \n",
    "> 셀 상태는 망각 게이트를 적용한 이전 시점과 현재 시점의 합으로 장기 상태\n",
    "> $$C_{t} = f_{t} \\cdot C_{t-1} + i_{t} \\cdot g_{t}$$\n",
    "> ![cell status](https://wikidocs.net/images/page/22888/cellstate2.PNG \"cell status\")"
   ]
  },
  {
   "cell_type": "markdown",
   "id": "healthy-cooper",
   "metadata": {},
   "source": [
    "> **4) 출력 게이트와 은닉 상태**   \n",
    "> 은닉 상태는 출력 게이트 값과 tanh를 지난 장기 상태 값의 곱으로 단기 상태\n",
    "> $$o_{t} = \\sigma(W_{xo}x_{t} + W_{ho}h_{t-1} + b_{o})$$\n",
    "> $$h_{t} = o_{t} \\cdot tanh(C_{t})$$\n",
    "> ![output gate](https://wikidocs.net/images/page/22888/outputgateandhiddenstate.PNG \"output gate\")"
   ]
  }
 ],
 "metadata": {
  "kernelspec": {
   "display_name": "Python 3",
   "language": "python",
   "name": "python3"
  },
  "language_info": {
   "codemirror_mode": {
    "name": "ipython",
    "version": 3
   },
   "file_extension": ".py",
   "mimetype": "text/x-python",
   "name": "python",
   "nbconvert_exporter": "python",
   "pygments_lexer": "ipython3",
   "version": "3.8.8"
  }
 },
 "nbformat": 4,
 "nbformat_minor": 5
}
