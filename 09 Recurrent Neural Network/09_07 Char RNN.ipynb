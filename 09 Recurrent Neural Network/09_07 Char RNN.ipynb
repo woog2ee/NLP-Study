{
 "cells": [
  {
   "cell_type": "markdown",
   "id": "beneficial-subject",
   "metadata": {},
   "source": [
    "# 1. Char RNNLM\n",
    "입출력을 글자 단위로 구현하며 RNNLM과는 달리 임베딩층 미사용\n",
    "![Char RNN](https://wikidocs.net/images/page/48649/char_rnn1.PNG \"Char RNN\")\n",
    "> **1) 데이터 전처리**"
   ]
  },
  {
   "cell_type": "code",
   "execution_count": 1,
   "id": "interracial-charm",
   "metadata": {},
   "outputs": [],
   "source": [
    "import numpy as np\n",
    "import urllib.request\n",
    "from tensorflow.keras.utils import to_categorical"
   ]
  },
  {
   "cell_type": "code",
   "execution_count": 2,
   "id": "played-stanford",
   "metadata": {},
   "outputs": [
    {
     "data": {
      "text/plain": [
       "['the project gutenberg ebook of alices adventures in wonderland, by lewis carroll',\n",
       " 'this ebook is for the use of anyone anywhere in the united states and',\n",
       " 'most other parts of the world at no cost and with almost no restrictions',\n",
       " 'whatsoever. you may copy it, give it away or re-use it under the terms',\n",
       " 'of the project gutenberg license included with this ebook or online at']"
      ]
     },
     "execution_count": 2,
     "metadata": {},
     "output_type": "execute_result"
    }
   ],
   "source": [
    "urllib.request.urlretrieve(\"http://www.gutenberg.org/files/11/11-0.txt\", filename=\"11-0.txt\")\n",
    "f = open('11-0.txt', 'rb')\n",
    "lines = []\n",
    "\n",
    "for line in f:\n",
    "    line = line.strip() # \\r, \\n 제거\n",
    "    line = line.lower()\n",
    "    line = line.decode('ascii', 'ignore') # \\xe2\\x80\\x99 등 바이트 열 제거\n",
    "    if len(line) > 0:\n",
    "        lines.append(line)    \n",
    "f.close()\n",
    "\n",
    "lines[:5]"
   ]
  },
  {
   "cell_type": "code",
   "execution_count": 3,
   "id": "impressive-architecture",
   "metadata": {},
   "outputs": [
    {
     "name": "stdout",
     "output_type": "stream",
     "text": [
      "문자열 길이 또는 총 글자 개수: 159484\n",
      "the project gutenberg ebook of alices adventures in wonderland, by lewis carroll this ebook is for the use of anyone anywhere in the united states and most other parts of the world at no cost and with\n"
     ]
    }
   ],
   "source": [
    "# 문자열 전체 통합\n",
    "text = ' '.join(lines)\n",
    "print('문자열 길이 또는 총 글자 개수: %d' % len(text))\n",
    "\n",
    "print(text[:200])"
   ]
  },
  {
   "cell_type": "code",
   "execution_count": 4,
   "id": "waiting-advertising",
   "metadata": {},
   "outputs": [
    {
     "name": "stdout",
     "output_type": "stream",
     "text": [
      "글자 집합 크기: 56\n"
     ]
    }
   ],
   "source": [
    "# 글자 집합 생성\n",
    "char_vocab = sorted(list(set(text)))\n",
    "vocab_size = len(char_vocab)\n",
    "print('글자 집합 크기: {}'.format(vocab_size))"
   ]
  },
  {
   "cell_type": "code",
   "execution_count": 5,
   "id": "united-photograph",
   "metadata": {},
   "outputs": [
    {
     "name": "stdout",
     "output_type": "stream",
     "text": [
      "{' ': 0, '!': 1, '\"': 2, '#': 3, '$': 4, '%': 5, \"'\": 6, '(': 7, ')': 8, '*': 9, ',': 10, '-': 11, '.': 12, '/': 13, '0': 14, '1': 15, '2': 16, '3': 17, '4': 18, '5': 19, '6': 20, '7': 21, '8': 22, '9': 23, ':': 24, ';': 25, '?': 26, '[': 27, ']': 28, '_': 29, 'a': 30, 'b': 31, 'c': 32, 'd': 33, 'e': 34, 'f': 35, 'g': 36, 'h': 37, 'i': 38, 'j': 39, 'k': 40, 'l': 41, 'm': 42, 'n': 43, 'o': 44, 'p': 45, 'q': 46, 'r': 47, 's': 48, 't': 49, 'u': 50, 'v': 51, 'w': 52, 'x': 53, 'y': 54, 'z': 55}\n"
     ]
    }
   ],
   "source": [
    "# 글자에 정수 인덱스 부여\n",
    "char_to_index = dict((c,i) for i, c in enumerate(char_vocab))\n",
    "print(char_to_index)"
   ]
  },
  {
   "cell_type": "code",
   "execution_count": 6,
   "id": "eligible-administration",
   "metadata": {},
   "outputs": [],
   "source": [
    "# 인덱스로부터 글자 반환\n",
    "index_to_char = {}\n",
    "for key, value in char_to_index.items():\n",
    "    index_to_char[value] = key"
   ]
  },
  {
   "cell_type": "code",
   "execution_count": 7,
   "id": "delayed-dragon",
   "metadata": {},
   "outputs": [
    {
     "name": "stdout",
     "output_type": "stream",
     "text": [
      "문장 샘플 수: 2658\n",
      "[49, 37, 34, 0, 45, 47, 44, 39, 34, 32, 49, 0, 36, 50, 49, 34, 43, 31, 34, 47, 36, 0, 34, 31, 44, 44, 40, 0, 44, 35, 0, 30, 41, 38, 32, 34, 48, 0, 30, 33, 51, 34, 43, 49, 50, 47, 34, 48, 0, 38, 43, 0, 52, 44, 43, 33, 34, 47, 41, 30]\n",
      "[37, 34, 0, 45, 47, 44, 39, 34, 32, 49, 0, 36, 50, 49, 34, 43, 31, 34, 47, 36, 0, 34, 31, 44, 44, 40, 0, 44, 35, 0, 30, 41, 38, 32, 34, 48, 0, 30, 33, 51, 34, 43, 49, 50, 47, 34, 48, 0, 38, 43, 0, 52, 44, 43, 33, 34, 47, 41, 30, 43]\n"
     ]
    }
   ],
   "source": [
    "# 문자열로부터 문장 샘플 분리\n",
    "seq_length = 60\n",
    "n_samples = int(np.floor((len(text)-1) / seq_length))\n",
    "print('문장 샘플 수: {}'.format(n_samples))\n",
    "\n",
    "train_X = []\n",
    "train_y = []\n",
    "\n",
    "for i in range(n_samples):\n",
    "    X_sample = text[i * seq_length: (i + 1) * seq_length]\n",
    "    X_encoded = [char_to_index[c] for c in X_sample]\n",
    "    train_X.append(X_encoded)\n",
    "    \n",
    "    y_sample = text[i * seq_length + 1: (i + 1) * seq_length + 1]\n",
    "    y_encoded = [char_to_index[c] for c in y_sample]\n",
    "    train_y.append(y_encoded)\n",
    "    \n",
    "print(train_X[0])\n",
    "print(train_y[0]) # train_X[0]에서 오른쪽으로 한 칸 쉬프트된 문장"
   ]
  },
  {
   "cell_type": "code",
   "execution_count": 8,
   "id": "electronic-blogger",
   "metadata": {},
   "outputs": [
    {
     "name": "stdout",
     "output_type": "stream",
     "text": [
      "train_X의 크기: (2658, 60, 56)\n",
      "train_y의 크기: (2658, 60, 56)\n"
     ]
    }
   ],
   "source": [
    "# 훈련 데이터 원-핫 인코딩\n",
    "train_X = to_categorical(train_X)\n",
    "train_y = to_categorical(train_y)\n",
    "\n",
    "print('train_X의 크기: {}'.format(train_X.shape))\n",
    "print('train_y의 크기: {}'.format(train_y.shape))"
   ]
  },
  {
   "cell_type": "markdown",
   "id": "gentle-experience",
   "metadata": {},
   "source": [
    "> **2) 모델 설계**"
   ]
  },
  {
   "cell_type": "code",
   "execution_count": 9,
   "id": "finnish-domestic",
   "metadata": {},
   "outputs": [],
   "source": [
    "from tensorflow.keras.models import Sequential\n",
    "from tensorflow.keras.layers import Dense, LSTM, TimeDistributed"
   ]
  },
  {
   "cell_type": "code",
   "execution_count": 10,
   "id": "unauthorized-lecture",
   "metadata": {},
   "outputs": [
    {
     "name": "stdout",
     "output_type": "stream",
     "text": [
      "Epoch 1/80\n",
      "84/84 - 36s - loss: 3.0727 - accuracy: 0.1816\n",
      "Epoch 2/80\n",
      "84/84 - 36s - loss: 2.7336 - accuracy: 0.2460\n",
      "Epoch 3/80\n",
      "84/84 - 32s - loss: 2.3995 - accuracy: 0.3267\n",
      "Epoch 4/80\n",
      "84/84 - 32s - loss: 2.2587 - accuracy: 0.3593\n",
      "Epoch 5/80\n",
      "84/84 - 33s - loss: 2.1589 - accuracy: 0.3827\n",
      "Epoch 6/80\n",
      "84/84 - 32s - loss: 2.0778 - accuracy: 0.4046\n",
      "Epoch 7/80\n",
      "84/84 - 33s - loss: 2.0117 - accuracy: 0.4206\n",
      "Epoch 8/80\n",
      "84/84 - 32s - loss: 1.9518 - accuracy: 0.4359\n",
      "Epoch 9/80\n",
      "84/84 - 32s - loss: 1.9004 - accuracy: 0.4485\n",
      "Epoch 10/80\n",
      "84/84 - 32s - loss: 1.8562 - accuracy: 0.4607\n",
      "Epoch 11/80\n",
      "84/84 - 32s - loss: 1.8131 - accuracy: 0.4742\n",
      "Epoch 12/80\n",
      "84/84 - 32s - loss: 1.7728 - accuracy: 0.4851\n",
      "Epoch 13/80\n",
      "84/84 - 32s - loss: 1.7390 - accuracy: 0.4939\n",
      "Epoch 14/80\n",
      "84/84 - 31s - loss: 1.6998 - accuracy: 0.5043\n",
      "Epoch 15/80\n",
      "84/84 - 31s - loss: 1.6667 - accuracy: 0.5117\n",
      "Epoch 16/80\n",
      "84/84 - 31s - loss: 1.6327 - accuracy: 0.5198\n",
      "Epoch 17/80\n",
      "84/84 - 32s - loss: 1.6044 - accuracy: 0.5284\n",
      "Epoch 18/80\n",
      "84/84 - 32s - loss: 1.5713 - accuracy: 0.5369\n",
      "Epoch 19/80\n",
      "84/84 - 32s - loss: 1.5421 - accuracy: 0.5441\n",
      "Epoch 20/80\n",
      "84/84 - 30s - loss: 1.5175 - accuracy: 0.5506\n",
      "Epoch 21/80\n",
      "84/84 - 31s - loss: 1.4895 - accuracy: 0.5579\n",
      "Epoch 22/80\n",
      "84/84 - 32s - loss: 1.4605 - accuracy: 0.5664\n",
      "Epoch 23/80\n",
      "84/84 - 32s - loss: 1.4330 - accuracy: 0.5748\n",
      "Epoch 24/80\n",
      "84/84 - 32s - loss: 1.4084 - accuracy: 0.5812\n",
      "Epoch 25/80\n",
      "84/84 - 32s - loss: 1.3824 - accuracy: 0.5895\n",
      "Epoch 26/80\n",
      "84/84 - 32s - loss: 1.3563 - accuracy: 0.5950\n",
      "Epoch 27/80\n",
      "84/84 - 33s - loss: 1.3329 - accuracy: 0.6020\n",
      "Epoch 28/80\n",
      "84/84 - 33s - loss: 1.3076 - accuracy: 0.6101\n",
      "Epoch 29/80\n",
      "84/84 - 33s - loss: 1.2823 - accuracy: 0.6173\n",
      "Epoch 30/80\n",
      "84/84 - 32s - loss: 1.2603 - accuracy: 0.6233\n",
      "Epoch 31/80\n",
      "84/84 - 32s - loss: 1.2315 - accuracy: 0.6310\n",
      "Epoch 32/80\n",
      "84/84 - 32s - loss: 1.2082 - accuracy: 0.6373\n",
      "Epoch 33/80\n",
      "84/84 - 32s - loss: 1.1808 - accuracy: 0.6457\n",
      "Epoch 34/80\n",
      "84/84 - 33s - loss: 1.1560 - accuracy: 0.6533\n",
      "Epoch 35/80\n",
      "84/84 - 32s - loss: 1.1332 - accuracy: 0.6604\n",
      "Epoch 36/80\n",
      "84/84 - 32s - loss: 1.1126 - accuracy: 0.6659\n",
      "Epoch 37/80\n",
      "84/84 - 32s - loss: 1.0815 - accuracy: 0.6758\n",
      "Epoch 38/80\n",
      "84/84 - 32s - loss: 1.0529 - accuracy: 0.6849\n",
      "Epoch 39/80\n",
      "84/84 - 32s - loss: 1.0331 - accuracy: 0.6891\n",
      "Epoch 40/80\n",
      "84/84 - 32s - loss: 1.0035 - accuracy: 0.7000\n",
      "Epoch 41/80\n",
      "84/84 - 32s - loss: 0.9824 - accuracy: 0.7057\n",
      "Epoch 42/80\n",
      "84/84 - 32s - loss: 0.9539 - accuracy: 0.7140\n",
      "Epoch 43/80\n",
      "84/84 - 32s - loss: 0.9282 - accuracy: 0.7224\n",
      "Epoch 44/80\n",
      "84/84 - 32s - loss: 0.9036 - accuracy: 0.7296\n",
      "Epoch 45/80\n",
      "84/84 - 32s - loss: 0.8786 - accuracy: 0.7370\n",
      "Epoch 46/80\n",
      "84/84 - 32s - loss: 0.8506 - accuracy: 0.7460\n",
      "Epoch 47/80\n",
      "84/84 - 33s - loss: 0.8260 - accuracy: 0.7537\n",
      "Epoch 48/80\n",
      "84/84 - 32s - loss: 0.7960 - accuracy: 0.7643\n",
      "Epoch 49/80\n",
      "84/84 - 32s - loss: 0.7767 - accuracy: 0.7688\n",
      "Epoch 50/80\n",
      "84/84 - 32s - loss: 0.7522 - accuracy: 0.7781\n",
      "Epoch 51/80\n",
      "84/84 - 32s - loss: 0.7308 - accuracy: 0.7840\n",
      "Epoch 52/80\n",
      "84/84 - 32s - loss: 0.7046 - accuracy: 0.7935\n",
      "Epoch 53/80\n",
      "84/84 - 33s - loss: 0.6846 - accuracy: 0.7988\n",
      "Epoch 54/80\n",
      "84/84 - 33s - loss: 0.6595 - accuracy: 0.8074\n",
      "Epoch 55/80\n",
      "84/84 - 32s - loss: 0.6379 - accuracy: 0.8139\n",
      "Epoch 56/80\n",
      "84/84 - 33s - loss: 0.6139 - accuracy: 0.8221\n",
      "Epoch 57/80\n",
      "84/84 - 32s - loss: 0.5895 - accuracy: 0.8306\n",
      "Epoch 58/80\n",
      "84/84 - 32s - loss: 0.5652 - accuracy: 0.8389\n",
      "Epoch 59/80\n",
      "84/84 - 32s - loss: 0.5500 - accuracy: 0.8428\n",
      "Epoch 60/80\n",
      "84/84 - 32s - loss: 0.5395 - accuracy: 0.8447\n",
      "Epoch 61/80\n",
      "84/84 - 32s - loss: 0.5165 - accuracy: 0.8533\n",
      "Epoch 62/80\n",
      "84/84 - 32s - loss: 0.5014 - accuracy: 0.8588\n",
      "Epoch 63/80\n",
      "84/84 - 32s - loss: 0.4791 - accuracy: 0.8655\n",
      "Epoch 64/80\n",
      "84/84 - 33s - loss: 0.4496 - accuracy: 0.8768\n",
      "Epoch 65/80\n",
      "84/84 - 32s - loss: 0.4328 - accuracy: 0.8815\n",
      "Epoch 66/80\n",
      "84/84 - 32s - loss: 0.4186 - accuracy: 0.8863\n",
      "Epoch 67/80\n",
      "84/84 - 32s - loss: 0.4164 - accuracy: 0.8849\n",
      "Epoch 68/80\n",
      "84/84 - 32s - loss: 0.4180 - accuracy: 0.8831\n",
      "Epoch 69/80\n",
      "84/84 - 32s - loss: 0.3814 - accuracy: 0.8977\n",
      "Epoch 70/80\n",
      "84/84 - 33s - loss: 0.3617 - accuracy: 0.9039\n",
      "Epoch 71/80\n",
      "84/84 - 33s - loss: 0.3395 - accuracy: 0.9122\n",
      "Epoch 72/80\n",
      "84/84 - 32s - loss: 0.3485 - accuracy: 0.9065\n",
      "Epoch 73/80\n",
      "84/84 - 32s - loss: 0.3335 - accuracy: 0.9120\n",
      "Epoch 74/80\n",
      "84/84 - 32s - loss: 0.3125 - accuracy: 0.9201\n",
      "Epoch 75/80\n",
      "84/84 - 32s - loss: 0.2906 - accuracy: 0.9277\n",
      "Epoch 76/80\n",
      "84/84 - 32s - loss: 0.2809 - accuracy: 0.9307\n",
      "Epoch 77/80\n",
      "84/84 - 32s - loss: 0.2663 - accuracy: 0.9350\n",
      "Epoch 78/80\n",
      "84/84 - 32s - loss: 0.2637 - accuracy: 0.9350\n",
      "Epoch 79/80\n",
      "84/84 - 32s - loss: 0.2658 - accuracy: 0.9330\n",
      "Epoch 80/80\n",
      "84/84 - 32s - loss: 0.2774 - accuracy: 0.9269\n"
     ]
    },
    {
     "data": {
      "text/plain": [
       "<tensorflow.python.keras.callbacks.History at 0x163d2d44910>"
      ]
     },
     "execution_count": 10,
     "metadata": {},
     "output_type": "execute_result"
    }
   ],
   "source": [
    "model = Sequential()\n",
    "model.add(LSTM(256, input_shape=(None, train_X.shape[2]), return_sequences=True))\n",
    "model.add(LSTM(256, return_sequences=True))\n",
    "model.add(TimeDistributed(Dense(vocab_size, activation='softmax')))\n",
    "\n",
    "model.compile(loss='categorical_crossentropy', optimizer='adam', metrics=['accuracy'])\n",
    "model.fit(train_X, train_y, epochs=80, verbose=2)"
   ]
  },
  {
   "cell_type": "code",
   "execution_count": 11,
   "id": "handed-medication",
   "metadata": {},
   "outputs": [],
   "source": [
    "def sentence_generation(model, length):\n",
    "    ix = [np.random.randint(vocab_size)]\n",
    "    y_char = [index_to_char[ix[-1]]]\n",
    "    print(ix[-1], '번 글자', y_char[-1], '로 예측 시작!')\n",
    "    \n",
    "    X = np.zeros((1, length, vocab_size))\n",
    "    \n",
    "    for i in range(length):\n",
    "        X[0][i][ix[-1]] = 1\n",
    "        print(index_to_char[ix[-1]], end=\"\")\n",
    "        ix = np.argmax(model.predict(X[:, :i+1, :])[0], 1)\n",
    "        y_char.append(index_to_char[ix[-1]])\n",
    "        \n",
    "    return ('').join(y_char)"
   ]
  },
  {
   "cell_type": "code",
   "execution_count": 12,
   "id": "played-blink",
   "metadata": {},
   "outputs": [
    {
     "name": "stdout",
     "output_type": "stream",
     "text": [
      "12 번 글자 . 로 예측 시작!\n",
      ". alice was that? there was a large please! as she could, beang to crump, said the mock turtle. and "
     ]
    },
    {
     "data": {
      "text/plain": [
       "'. alice was that? there was a large please! as she could, beang to crump, said the mock turtle. and h'"
      ]
     },
     "execution_count": 12,
     "metadata": {},
     "output_type": "execute_result"
    }
   ],
   "source": [
    "sentence_generation(model, 100)"
   ]
  },
  {
   "cell_type": "markdown",
   "id": "wrong-newman",
   "metadata": {},
   "source": [
    "# 2. Char RNN 텍스트 생성\n",
    "> **1) 데이터 전처리**"
   ]
  },
  {
   "cell_type": "code",
   "execution_count": 13,
   "id": "passive-soundtrack",
   "metadata": {},
   "outputs": [],
   "source": [
    "import numpy as np\n",
    "from tensorflow.keras.utils import to_categorical"
   ]
  },
  {
   "cell_type": "code",
   "execution_count": 14,
   "id": "allied-passport",
   "metadata": {},
   "outputs": [],
   "source": [
    "text = '''\n",
    "I get on with life as a programmer,\n",
    "I like to comtemplate beer.\n",
    "But when I start to daydream,\n",
    "My mind turns straight to wine.\n",
    "\n",
    "Do I love wine more than beer?\n",
    "\n",
    "I like to use words about beer.\n",
    "But when I stop my talking,\n",
    "My mind turns straight to wine.\n",
    "\n",
    "I hate bugs and errors.\n",
    "But I just think back to wine,\n",
    "And I'm happy once again.\n",
    "\n",
    "I like to hang out with programming and deep learning.\n",
    "But when left alone,\n",
    "My mind turns straight to wine.\n",
    "'''"
   ]
  },
  {
   "cell_type": "code",
   "execution_count": 15,
   "id": "republican-promise",
   "metadata": {},
   "outputs": [
    {
     "name": "stdout",
     "output_type": "stream",
     "text": [
      "I get on with life as a programmer, I like to comtemplate beer. But when I start to daydream, My mind turns straight to wine. Do I love wine more than beer? I like to use words about beer. But when I stop my talking, My mind turns straight to wine. I hate bugs and errors. But I just think back to wine, And I'm happy once again. I like to hang out with programming and deep learning. But when left alone, My mind turns straight to wine.\n"
     ]
    }
   ],
   "source": [
    "# 문자열 전체 통합\n",
    "tokens = text.split()\n",
    "text = ' '.join(tokens)\n",
    "print(text)"
   ]
  },
  {
   "cell_type": "code",
   "execution_count": 16,
   "id": "proof-valuable",
   "metadata": {},
   "outputs": [
    {
     "name": "stdout",
     "output_type": "stream",
     "text": [
      "[' ', \"'\", ',', '.', '?', 'A', 'B', 'D', 'I', 'M', 'a', 'b', 'c', 'd', 'e', 'f', 'g', 'h', 'i', 'j', 'k', 'l', 'm', 'n', 'o', 'p', 'r', 's', 't', 'u', 'v', 'w', 'y']\n",
      "글자 집합 크기: 33\n"
     ]
    }
   ],
   "source": [
    "# 글자 집합 생성\n",
    "char_vocab = sorted(list(set(text)))\n",
    "print(char_vocab)\n",
    "\n",
    "vocab_size = len(char_vocab)\n",
    "print('글자 집합 크기: {}'.format(vocab_size))"
   ]
  },
  {
   "cell_type": "code",
   "execution_count": 17,
   "id": "significant-default",
   "metadata": {},
   "outputs": [
    {
     "name": "stdout",
     "output_type": "stream",
     "text": [
      "{' ': 0, \"'\": 1, ',': 2, '.': 3, '?': 4, 'A': 5, 'B': 6, 'D': 7, 'I': 8, 'M': 9, 'a': 10, 'b': 11, 'c': 12, 'd': 13, 'e': 14, 'f': 15, 'g': 16, 'h': 17, 'i': 18, 'j': 19, 'k': 20, 'l': 21, 'm': 22, 'n': 23, 'o': 24, 'p': 25, 'r': 26, 's': 27, 't': 28, 'u': 29, 'v': 30, 'w': 31, 'y': 32}\n"
     ]
    }
   ],
   "source": [
    "# 글자에 정수 인덱스 부여\n",
    "char_to_index = dict((c,i) for i, c in enumerate(char_vocab))\n",
    "print(char_to_index)"
   ]
  },
  {
   "cell_type": "code",
   "execution_count": 18,
   "id": "cultural-variable",
   "metadata": {},
   "outputs": [
    {
     "name": "stdout",
     "output_type": "stream",
     "text": [
      "총 훈련 샘플 수: 426\n"
     ]
    },
    {
     "data": {
      "text/plain": [
       "['I get on wi',\n",
       " ' get on wit',\n",
       " 'get on with',\n",
       " 'et on with ',\n",
       " 't on with l',\n",
       " ' on with li',\n",
       " 'on with lif',\n",
       " 'n with life',\n",
       " ' with life ',\n",
       " 'with life a']"
      ]
     },
     "execution_count": 18,
     "metadata": {},
     "output_type": "execute_result"
    }
   ],
   "source": [
    "# 모든 샘플 길이 동일화\n",
    "length = 11\n",
    "sequences = []\n",
    "for i in range(length, len(text)):\n",
    "    seq = text[i-length:i]\n",
    "    sequences.append(seq)\n",
    "print('총 훈련 샘플 수: %d' % len(sequences))\n",
    "\n",
    "sequences[:10]"
   ]
  },
  {
   "cell_type": "code",
   "execution_count": 19,
   "id": "failing-contributor",
   "metadata": {},
   "outputs": [
    {
     "name": "stdout",
     "output_type": "stream",
     "text": [
      "[8, 0, 16, 14, 28, 0, 24, 23, 0, 31, 18]\n",
      "[0, 16, 14, 28, 0, 24, 23, 0, 31, 18, 28]\n",
      "[16, 14, 28, 0, 24, 23, 0, 31, 18, 28, 17]\n",
      "[14, 28, 0, 24, 23, 0, 31, 18, 28, 17, 0]\n",
      "[28, 0, 24, 23, 0, 31, 18, 28, 17, 0, 21]\n"
     ]
    }
   ],
   "source": [
    "# 전체 데이터에 정수 인코딩 \n",
    "X = []\n",
    "for line in sequences:\n",
    "    temp_X = [char_to_index[char] for char in line]\n",
    "    X.append(temp_X)\n",
    "    \n",
    "for line in X[:5]:\n",
    "    print(line)"
   ]
  },
  {
   "cell_type": "code",
   "execution_count": 20,
   "id": "biological-alabama",
   "metadata": {},
   "outputs": [
    {
     "name": "stdout",
     "output_type": "stream",
     "text": [
      "[ 8  0 16 14 28  0 24 23  0 31]\n",
      "[ 0 16 14 28  0 24 23  0 31 18]\n",
      "[16 14 28  0 24 23  0 31 18 28]\n",
      "[14 28  0 24 23  0 31 18 28 17]\n",
      "[28  0 24 23  0 31 18 28 17  0]\n",
      "[18 28 17  0 21]\n"
     ]
    }
   ],
   "source": [
    "# 마지막 글자의 레이블 분리\n",
    "sequences = np.array(X)\n",
    "X = sequences[:,:-1]\n",
    "y = sequences[:,-1]\n",
    "\n",
    "for line in X[:5]:\n",
    "    print(line)\n",
    "print(y[:5])"
   ]
  },
  {
   "cell_type": "code",
   "execution_count": 21,
   "id": "african-methodology",
   "metadata": {},
   "outputs": [
    {
     "name": "stdout",
     "output_type": "stream",
     "text": [
      "(426, 10, 33)\n"
     ]
    }
   ],
   "source": [
    "# X와 y 원-핫 인코딩\n",
    "sequences = [to_categorical(x, num_classes=vocab_size) for x in X]\n",
    "X = np.array(sequences)\n",
    "y = to_categorical(y, num_classes=vocab_size)\n",
    "\n",
    "print(X.shape)"
   ]
  },
  {
   "cell_type": "markdown",
   "id": "fresh-valentine",
   "metadata": {},
   "source": [
    "> **2) 모델 설계**"
   ]
  },
  {
   "cell_type": "code",
   "execution_count": 22,
   "id": "loving-pharmacology",
   "metadata": {},
   "outputs": [],
   "source": [
    "from tensorflow.keras.models import Sequential\n",
    "from tensorflow.keras.layers import Dense, LSTM\n",
    "from tensorflow.keras.preprocessing.sequence import pad_sequences"
   ]
  },
  {
   "cell_type": "code",
   "execution_count": 23,
   "id": "paperback-nepal",
   "metadata": {},
   "outputs": [
    {
     "name": "stdout",
     "output_type": "stream",
     "text": [
      "Epoch 1/100\n",
      "14/14 - 3s - loss: 3.4687 - accuracy: 0.0892\n",
      "Epoch 2/100\n",
      "14/14 - 0s - loss: 3.3225 - accuracy: 0.2042\n",
      "Epoch 3/100\n",
      "14/14 - 0s - loss: 3.0565 - accuracy: 0.1972\n",
      "Epoch 4/100\n",
      "14/14 - 0s - loss: 2.9859 - accuracy: 0.1972\n",
      "Epoch 5/100\n",
      "14/14 - 0s - loss: 2.9584 - accuracy: 0.1972\n",
      "Epoch 6/100\n",
      "14/14 - 0s - loss: 2.9285 - accuracy: 0.1972\n",
      "Epoch 7/100\n",
      "14/14 - 0s - loss: 2.9122 - accuracy: 0.1972\n",
      "Epoch 8/100\n",
      "14/14 - 0s - loss: 2.8936 - accuracy: 0.1972\n",
      "Epoch 9/100\n",
      "14/14 - 0s - loss: 2.8694 - accuracy: 0.1972\n",
      "Epoch 10/100\n",
      "14/14 - 0s - loss: 2.8424 - accuracy: 0.1972\n",
      "Epoch 11/100\n",
      "14/14 - 0s - loss: 2.8037 - accuracy: 0.1972\n",
      "Epoch 12/100\n",
      "14/14 - 0s - loss: 2.7628 - accuracy: 0.2019\n",
      "Epoch 13/100\n",
      "14/14 - 0s - loss: 2.7119 - accuracy: 0.2113\n",
      "Epoch 14/100\n",
      "14/14 - 0s - loss: 2.6620 - accuracy: 0.2488\n",
      "Epoch 15/100\n",
      "14/14 - 0s - loss: 2.5938 - accuracy: 0.2394\n",
      "Epoch 16/100\n",
      "14/14 - 0s - loss: 2.5392 - accuracy: 0.2653\n",
      "Epoch 17/100\n",
      "14/14 - 0s - loss: 2.4880 - accuracy: 0.2958\n",
      "Epoch 18/100\n",
      "14/14 - 0s - loss: 2.4357 - accuracy: 0.2958\n",
      "Epoch 19/100\n",
      "14/14 - 0s - loss: 2.3902 - accuracy: 0.3192\n",
      "Epoch 20/100\n",
      "14/14 - 0s - loss: 2.3262 - accuracy: 0.3075\n",
      "Epoch 21/100\n",
      "14/14 - 0s - loss: 2.2745 - accuracy: 0.3380\n",
      "Epoch 22/100\n",
      "14/14 - 0s - loss: 2.2233 - accuracy: 0.3498\n",
      "Epoch 23/100\n",
      "14/14 - 0s - loss: 2.1918 - accuracy: 0.3568\n",
      "Epoch 24/100\n",
      "14/14 - 0s - loss: 2.1187 - accuracy: 0.4038\n",
      "Epoch 25/100\n",
      "14/14 - 0s - loss: 2.1031 - accuracy: 0.3826\n",
      "Epoch 26/100\n",
      "14/14 - 0s - loss: 2.0548 - accuracy: 0.4155\n",
      "Epoch 27/100\n",
      "14/14 - 0s - loss: 2.0107 - accuracy: 0.4014\n",
      "Epoch 28/100\n",
      "14/14 - 0s - loss: 1.9507 - accuracy: 0.4460\n",
      "Epoch 29/100\n",
      "14/14 - 0s - loss: 1.8792 - accuracy: 0.4484\n",
      "Epoch 30/100\n",
      "14/14 - 0s - loss: 1.8356 - accuracy: 0.4883\n",
      "Epoch 31/100\n",
      "14/14 - 0s - loss: 1.7953 - accuracy: 0.4906\n",
      "Epoch 32/100\n",
      "14/14 - 0s - loss: 1.7487 - accuracy: 0.5399\n",
      "Epoch 33/100\n",
      "14/14 - 0s - loss: 1.6859 - accuracy: 0.5423\n",
      "Epoch 34/100\n",
      "14/14 - 0s - loss: 1.6484 - accuracy: 0.5282\n",
      "Epoch 35/100\n",
      "14/14 - 0s - loss: 1.6005 - accuracy: 0.5516\n",
      "Epoch 36/100\n",
      "14/14 - 0s - loss: 1.5640 - accuracy: 0.5798\n",
      "Epoch 37/100\n",
      "14/14 - 0s - loss: 1.4955 - accuracy: 0.6080\n",
      "Epoch 38/100\n",
      "14/14 - 0s - loss: 1.4526 - accuracy: 0.6197\n",
      "Epoch 39/100\n",
      "14/14 - 0s - loss: 1.4124 - accuracy: 0.6244\n",
      "Epoch 40/100\n",
      "14/14 - 0s - loss: 1.3934 - accuracy: 0.6502\n",
      "Epoch 41/100\n",
      "14/14 - 0s - loss: 1.3528 - accuracy: 0.6362\n",
      "Epoch 42/100\n",
      "14/14 - 0s - loss: 1.2880 - accuracy: 0.6831\n",
      "Epoch 43/100\n",
      "14/14 - 0s - loss: 1.2348 - accuracy: 0.7042\n",
      "Epoch 44/100\n",
      "14/14 - 0s - loss: 1.2000 - accuracy: 0.7019\n",
      "Epoch 45/100\n",
      "14/14 - 0s - loss: 1.1485 - accuracy: 0.7347\n",
      "Epoch 46/100\n",
      "14/14 - 0s - loss: 1.1226 - accuracy: 0.7371\n",
      "Epoch 47/100\n",
      "14/14 - 0s - loss: 1.0926 - accuracy: 0.7512\n",
      "Epoch 48/100\n",
      "14/14 - 0s - loss: 1.0722 - accuracy: 0.7488\n",
      "Epoch 49/100\n",
      "14/14 - 0s - loss: 0.9926 - accuracy: 0.7793\n",
      "Epoch 50/100\n",
      "14/14 - 0s - loss: 0.9686 - accuracy: 0.7770\n",
      "Epoch 51/100\n",
      "14/14 - 0s - loss: 0.9188 - accuracy: 0.7887\n",
      "Epoch 52/100\n",
      "14/14 - 0s - loss: 0.8867 - accuracy: 0.8005\n",
      "Epoch 53/100\n",
      "14/14 - 0s - loss: 0.8826 - accuracy: 0.7958\n",
      "Epoch 54/100\n",
      "14/14 - 0s - loss: 0.8303 - accuracy: 0.8146\n",
      "Epoch 55/100\n",
      "14/14 - 0s - loss: 0.7940 - accuracy: 0.8357\n",
      "Epoch 56/100\n",
      "14/14 - 0s - loss: 0.7554 - accuracy: 0.8498\n",
      "Epoch 57/100\n",
      "14/14 - 0s - loss: 0.7335 - accuracy: 0.8474\n",
      "Epoch 58/100\n",
      "14/14 - 0s - loss: 0.6973 - accuracy: 0.8638\n",
      "Epoch 59/100\n",
      "14/14 - 0s - loss: 0.6691 - accuracy: 0.8897\n",
      "Epoch 60/100\n",
      "14/14 - 0s - loss: 0.6394 - accuracy: 0.8873\n",
      "Epoch 61/100\n",
      "14/14 - 0s - loss: 0.6271 - accuracy: 0.8967\n",
      "Epoch 62/100\n",
      "14/14 - 0s - loss: 0.6048 - accuracy: 0.9014\n",
      "Epoch 63/100\n",
      "14/14 - 0s - loss: 0.5787 - accuracy: 0.9085\n",
      "Epoch 64/100\n",
      "14/14 - 0s - loss: 0.5503 - accuracy: 0.9108\n",
      "Epoch 65/100\n",
      "14/14 - 0s - loss: 0.5492 - accuracy: 0.9085\n",
      "Epoch 66/100\n",
      "14/14 - 0s - loss: 0.5167 - accuracy: 0.9249\n",
      "Epoch 67/100\n",
      "14/14 - 0s - loss: 0.4907 - accuracy: 0.9343\n",
      "Epoch 68/100\n",
      "14/14 - 0s - loss: 0.4835 - accuracy: 0.9178\n",
      "Epoch 69/100\n",
      "14/14 - 0s - loss: 0.4573 - accuracy: 0.9249\n",
      "Epoch 70/100\n",
      "14/14 - 0s - loss: 0.4471 - accuracy: 0.9296\n",
      "Epoch 71/100\n",
      "14/14 - 0s - loss: 0.4168 - accuracy: 0.9413\n",
      "Epoch 72/100\n",
      "14/14 - 0s - loss: 0.4074 - accuracy: 0.9507\n",
      "Epoch 73/100\n",
      "14/14 - 0s - loss: 0.3819 - accuracy: 0.9460\n",
      "Epoch 74/100\n",
      "14/14 - 0s - loss: 0.3704 - accuracy: 0.9577\n",
      "Epoch 75/100\n",
      "14/14 - 0s - loss: 0.3549 - accuracy: 0.9554\n",
      "Epoch 76/100\n",
      "14/14 - 0s - loss: 0.3374 - accuracy: 0.9577\n",
      "Epoch 77/100\n",
      "14/14 - 0s - loss: 0.3315 - accuracy: 0.9624\n",
      "Epoch 78/100\n",
      "14/14 - 0s - loss: 0.3085 - accuracy: 0.9718\n",
      "Epoch 79/100\n",
      "14/14 - 0s - loss: 0.3254 - accuracy: 0.9671\n",
      "Epoch 80/100\n",
      "14/14 - 0s - loss: 0.3021 - accuracy: 0.9671\n",
      "Epoch 81/100\n",
      "14/14 - 0s - loss: 0.2835 - accuracy: 0.9718\n",
      "Epoch 82/100\n",
      "14/14 - 0s - loss: 0.2745 - accuracy: 0.9742\n",
      "Epoch 83/100\n",
      "14/14 - 0s - loss: 0.2656 - accuracy: 0.9789\n",
      "Epoch 84/100\n",
      "14/14 - 0s - loss: 0.2489 - accuracy: 0.9789\n",
      "Epoch 85/100\n",
      "14/14 - 0s - loss: 0.2427 - accuracy: 0.9765\n",
      "Epoch 86/100\n",
      "14/14 - 0s - loss: 0.2318 - accuracy: 0.9765\n",
      "Epoch 87/100\n",
      "14/14 - 0s - loss: 0.2237 - accuracy: 0.9812\n",
      "Epoch 88/100\n",
      "14/14 - 0s - loss: 0.2174 - accuracy: 0.9765\n",
      "Epoch 89/100\n",
      "14/14 - 0s - loss: 0.2074 - accuracy: 0.9765\n",
      "Epoch 90/100\n",
      "14/14 - 0s - loss: 0.2015 - accuracy: 0.9812\n",
      "Epoch 91/100\n",
      "14/14 - 0s - loss: 0.1970 - accuracy: 0.9812\n",
      "Epoch 92/100\n",
      "14/14 - 0s - loss: 0.1953 - accuracy: 0.9765\n",
      "Epoch 93/100\n",
      "14/14 - 0s - loss: 0.2022 - accuracy: 0.9718\n",
      "Epoch 94/100\n",
      "14/14 - 0s - loss: 0.1858 - accuracy: 0.9765\n",
      "Epoch 95/100\n",
      "14/14 - 0s - loss: 0.1761 - accuracy: 0.9812\n",
      "Epoch 96/100\n",
      "14/14 - 0s - loss: 0.1806 - accuracy: 0.9718\n",
      "Epoch 97/100\n",
      "14/14 - 0s - loss: 0.1638 - accuracy: 0.9789\n",
      "Epoch 98/100\n",
      "14/14 - 0s - loss: 0.1606 - accuracy: 0.9812\n",
      "Epoch 99/100\n",
      "14/14 - 0s - loss: 0.1556 - accuracy: 0.9812\n",
      "Epoch 100/100\n",
      "14/14 - 0s - loss: 0.1539 - accuracy: 0.9836\n"
     ]
    },
    {
     "data": {
      "text/plain": [
       "<tensorflow.python.keras.callbacks.History at 0x163deb56070>"
      ]
     },
     "execution_count": 23,
     "metadata": {},
     "output_type": "execute_result"
    }
   ],
   "source": [
    "model = Sequential()\n",
    "model.add(LSTM(80, input_shape=(X.shape[1], X.shape[2])))\n",
    "model.add(Dense(vocab_size, activation='softmax'))\n",
    "\n",
    "model.compile(loss='categorical_crossentropy', optimizer='adam', metrics=['accuracy'])\n",
    "model.fit(X, y, epochs=100, verbose=2)"
   ]
  },
  {
   "cell_type": "code",
   "execution_count": 24,
   "id": "earlier-template",
   "metadata": {},
   "outputs": [],
   "source": [
    "def sentence_generation(model, char_to_index, seq_length, seed_text, n):\n",
    "    init_text = seed_text\n",
    "    sentence = ''\n",
    "    \n",
    "    for _ in range(n):\n",
    "        encoded = [char_to_index[char] for char in seed_text]\n",
    "        encoded = pad_sequences([encoded], maxlen=seq_length, padding='pre')\n",
    "        encoded = to_categorical(encoded, num_classes=len(char_to_index))\n",
    "        result = model.predict_classes(encoded, verbose=0)\n",
    "        \n",
    "        for char, index in char_to_index.items():\n",
    "            if index == result:\n",
    "                break\n",
    "        seed_text = seed_text + char\n",
    "        sentence = sentence + char\n",
    "        \n",
    "    sentence = init_text + sentence\n",
    "    return sentence"
   ]
  },
  {
   "cell_type": "code",
   "execution_count": 25,
   "id": "pleased-government",
   "metadata": {},
   "outputs": [
    {
     "name": "stderr",
     "output_type": "stream",
     "text": [
      "C:\\Users\\USER\\anaconda3\\lib\\site-packages\\tensorflow\\python\\keras\\engine\\sequential.py:450: UserWarning: `model.predict_classes()` is deprecated and will be removed after 2021-01-01. Please use instead:* `np.argmax(model.predict(x), axis=-1)`,   if your model does multi-class classification   (e.g. if it uses a `softmax` last-layer activation).* `(model.predict(x) > 0.5).astype(\"int32\")`,   if your model does binary classification   (e.g. if it uses a `sigmoid` last-layer activation).\n",
      "  warnings.warn('`model.predict_classes()` is deprecated and '\n"
     ]
    },
    {
     "name": "stdout",
     "output_type": "stream",
     "text": [
      "I get on with life as a programmer, I like to comtemplate beer. But when I start to daydre\n"
     ]
    }
   ],
   "source": [
    "print(sentence_generation(model, char_to_index, 10, 'I get on w', 80))"
   ]
  }
 ],
 "metadata": {
  "kernelspec": {
   "display_name": "Python 3",
   "language": "python",
   "name": "python3"
  },
  "language_info": {
   "codemirror_mode": {
    "name": "ipython",
    "version": 3
   },
   "file_extension": ".py",
   "mimetype": "text/x-python",
   "name": "python",
   "nbconvert_exporter": "python",
   "pygments_lexer": "ipython3",
   "version": "3.8.8"
  }
 },
 "nbformat": 4,
 "nbformat_minor": 5
}
