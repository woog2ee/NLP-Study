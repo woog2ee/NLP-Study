{
 "cells": [
  {
   "cell_type": "markdown",
   "id": "working-destruction",
   "metadata": {},
   "source": [
    "# 1. 벡터와 행렬\n",
    "벡터는 크기와 방향을 가지며, 1차원 배열 혹은 리스트로 표현   \n",
    "행렬은 행과 열로 된 2차원 형상을 가지며, 2차원 배열로 표현   "
   ]
  },
  {
   "cell_type": "markdown",
   "id": "individual-graphic",
   "metadata": {},
   "source": [
    "# 2. 텐서(Tensor)\n",
    "텐서는 3차원 이상의 배열로 표현되며, 입출력이 복잡해질 때 요구됨"
   ]
  },
  {
   "cell_type": "code",
   "execution_count": 1,
   "id": "convenient-manchester",
   "metadata": {},
   "outputs": [],
   "source": [
    "import numpy as np"
   ]
  },
  {
   "cell_type": "markdown",
   "id": "forbidden-combination",
   "metadata": {},
   "source": [
    "> **1) 0차원 텐서**   \n",
    "> 스칼라값은 0차원 텐서"
   ]
  },
  {
   "cell_type": "code",
   "execution_count": 2,
   "id": "transparent-origin",
   "metadata": {},
   "outputs": [
    {
     "name": "stdout",
     "output_type": "stream",
     "text": [
      "0\n",
      "()\n"
     ]
    }
   ],
   "source": [
    "d = np.array(5)\n",
    "print(d.ndim)\n",
    "print(d.shape)"
   ]
  },
  {
   "cell_type": "markdown",
   "id": "connected-worse",
   "metadata": {},
   "source": [
    "> **2) 1차원 텐서**   \n",
    "> 벡터는 1차원 텐서  \n",
    "> 벡터와 텐서의 차원은 다른 개념, 예제는 4차원 벡터이지만 1차원 텐서"
   ]
  },
  {
   "cell_type": "code",
   "execution_count": 3,
   "id": "helpful-oracle",
   "metadata": {},
   "outputs": [
    {
     "name": "stdout",
     "output_type": "stream",
     "text": [
      "1\n",
      "(4,)\n"
     ]
    }
   ],
   "source": [
    "d = np.array([1,2,3,4])\n",
    "print(d.ndim)\n",
    "print(d.shape)"
   ]
  },
  {
   "cell_type": "markdown",
   "id": "resident-dictionary",
   "metadata": {},
   "source": [
    "> **3) 2차원 텐서**   \n",
    "> 행렬은 2차원 텐서"
   ]
  },
  {
   "cell_type": "code",
   "execution_count": 4,
   "id": "restricted-malpractice",
   "metadata": {},
   "outputs": [
    {
     "name": "stdout",
     "output_type": "stream",
     "text": [
      "2\n",
      "(3, 4)\n"
     ]
    }
   ],
   "source": [
    "d = np.array([[1,2,3,4],[5,6,7,8],[9,10,11,12]])\n",
    "print(d.ndim)\n",
    "print(d.shape)"
   ]
  },
  {
   "cell_type": "markdown",
   "id": "confirmed-powder",
   "metadata": {},
   "source": [
    "> **4) 3차원 텐서**   \n",
    "> data science 분야 한정으로 3차원 이상 배열을 텐서라 칭함   \n",
    "> text sequence를 표현하고자 사용   \n",
    "> 이 경우 텐서는 (samples/batch_size, timesteps, word_dim)으로 구성됨\n",
    "\n",
    "> 문서1: I like NLP    \n",
    "> 문서2: I like DL   \n",
    "> 문서3: DL is AI\n",
    "\n",
    "> 단어|One-Hot vector\n",
    "> :--|:--\n",
    "> I|[1 0 0 0 0 0]\n",
    "> like|[0 1 0 0 0 0]\n",
    "> NLP|[0 0 1 0 0 0]\n",
    "> DL|[0 0 0 1 0 0]\n",
    "> is|[0 0 0 0 1 0]\n",
    "> AI|[0 0 0 0 0 1]\n",
    "\n",
    "> 인공 신경망 모델의 입력으로 사용하고자 각 단어를 벡터화\n",
    "\n",
    "> [[[1, 0, 0, 0, 0, 0], [0, 1, 0, 0, 0, 0], [0, 0, 1, 0, 0, 0]],   \n",
    ">  [[1, 0, 0, 0, 0, 0], [0, 1, 0, 0, 0, 0], [0, 0, 0, 1, 0, 0]],   \n",
    ">  [[0, 0, 0, 1, 0, 0], [0, 0, 0, 0, 1, 0], [0, 0, 0, 0, 0, 1]]]   \n",
    "> 이는 (3, 3, 6) 크기 3차원 텐서"
   ]
  },
  {
   "cell_type": "code",
   "execution_count": 5,
   "id": "gothic-addiction",
   "metadata": {},
   "outputs": [
    {
     "name": "stdout",
     "output_type": "stream",
     "text": [
      "3\n",
      "(2, 3, 5)\n"
     ]
    }
   ],
   "source": [
    "d = np.array([\n",
    "              [[1,2,3,4,5], [6,7,8,9,10], [10,11,12,13,14]],\n",
    "              [[15,16,17,18,19], [19,20,21,22,23], [23,24,25,26,27]]\n",
    "            ])\n",
    "print(d.ndim)\n",
    "print(d.shape)"
   ]
  },
  {
   "cell_type": "markdown",
   "id": "attached-tampa",
   "metadata": {},
   "source": [
    "> **5) 그 이상의 텐서**   \n",
    "> n차원 텐서를 배열로 합치면 n+1차원 텐서\n",
    "> ![more tensors](https://wikidocs.net/images/page/37001/tensor.png \"more tensors\")"
   ]
  },
  {
   "cell_type": "markdown",
   "id": "modern-douglas",
   "metadata": {},
   "source": [
    "> **6) 케라스에서의 텐서**   \n",
    "> 입력 크기 인자 input_shape는 (input_length, input_dim)으로 정의   \n",
    "> 배치 크기를 지정한다면 (batch_size, input_length, input_dim)으로 새 변수 생성"
   ]
  },
  {
   "cell_type": "markdown",
   "id": "large-savings",
   "metadata": {},
   "source": [
    "# 3. 벡터와 행렬의 연산\n",
    "> **1) 벡터와 행렬의 덧셈과 뺄셈**"
   ]
  },
  {
   "cell_type": "code",
   "execution_count": 6,
   "id": "dirty-uruguay",
   "metadata": {},
   "outputs": [
    {
     "name": "stdout",
     "output_type": "stream",
     "text": [
      "[9 6 8]\n",
      "[7 2 2]\n"
     ]
    }
   ],
   "source": [
    "a = np.array([8,4,5])\n",
    "b = np.array([1,2,3])\n",
    "print(a+b)\n",
    "print(a-b)"
   ]
  },
  {
   "cell_type": "code",
   "execution_count": 7,
   "id": "given-cliff",
   "metadata": {},
   "outputs": [
    {
     "name": "stdout",
     "output_type": "stream",
     "text": [
      "[[15 26 37 48]\n",
      " [51 62 73 84]]\n",
      "[[ 5 14 23 32]\n",
      " [49 58 67 76]]\n"
     ]
    }
   ],
   "source": [
    "a = np.array([ [10,20,30,40], [50,60,70,80] ])\n",
    "b = np.array([ [5,6,7,8], [1,2,3,4] ])\n",
    "print(a+b)\n",
    "print(a-b)"
   ]
  },
  {
   "cell_type": "markdown",
   "id": "vocational-bryan",
   "metadata": {},
   "source": [
    "> **2) 벡터의 내적과 행렬의 곱셈**"
   ]
  },
  {
   "cell_type": "code",
   "execution_count": 8,
   "id": "pressing-reservation",
   "metadata": {},
   "outputs": [
    {
     "name": "stdout",
     "output_type": "stream",
     "text": [
      "32\n"
     ]
    }
   ],
   "source": [
    "a = np.array([1,2,3])\n",
    "b = np.array([4,5,6])\n",
    "print(np.dot(a,b))"
   ]
  },
  {
   "cell_type": "code",
   "execution_count": 9,
   "id": "joint-iraqi",
   "metadata": {},
   "outputs": [
    {
     "name": "stdout",
     "output_type": "stream",
     "text": [
      "[[23 31]\n",
      " [34 46]]\n"
     ]
    }
   ],
   "source": [
    "a = np.array([ [1,3], [2,4] ])\n",
    "b = np.array([ [5,7], [6,8] ])\n",
    "print(np.matmul(a,b))"
   ]
  },
  {
   "cell_type": "markdown",
   "id": "reflected-compensation",
   "metadata": {},
   "source": [
    "# 3. 다중 선형 회귀 행렬 연산으로 이해하기\n",
    "독립 변수가 n개인 다중 선형 회귀 수식   \n",
    "$$y = w_{1}x_{1} + w_{2}x_{2} + ... + w_{n}x_{n} + b$$   \n",
    "\n",
    "이는 가중치 벡터와 입력 벡터의 내적   \n",
    "데이터가 많을 때는 내적이 아닌 행렬곱으로 표현 가능   \n",
    "$$y = \\begin{bmatrix} x_{1}\\\\x_{2}\\\\...\\\\x_{n}\\\\ \\end{bmatrix}\\begin{bmatrix} w_{1} w_{2} ... w_{n}\\\\ \\end{bmatrix} + b$$"
   ]
  },
  {
   "cell_type": "markdown",
   "id": "played-glory",
   "metadata": {},
   "source": [
    "# 4. 샘플(Sample)과 특성(Feature)\n",
    "sample: 데이터의 실제 값들   \n",
    "feature: 종속변수 예측에 사용되는 독립변수"
   ]
  },
  {
   "cell_type": "markdown",
   "id": "greek-surgeon",
   "metadata": {},
   "source": [
    "# 5. 가중치와 편향 행렬 크기 결정\n",
    "**미니배치 학습**은 전체 데이터를 m개씩 묶어 작은 그룹으로 분할해 여러 번 처리함\n",
    "$$Y_{m \\times j} = X_{m \\times n} \\times W_{n \\times j} + B_{m \\times j}$$"
   ]
  }
 ],
 "metadata": {
  "kernelspec": {
   "display_name": "Python 3",
   "language": "python",
   "name": "python3"
  },
  "language_info": {
   "codemirror_mode": {
    "name": "ipython",
    "version": 3
   },
   "file_extension": ".py",
   "mimetype": "text/x-python",
   "name": "python",
   "nbconvert_exporter": "python",
   "pygments_lexer": "ipython3",
   "version": "3.8.5"
  }
 },
 "nbformat": 4,
 "nbformat_minor": 5
}
