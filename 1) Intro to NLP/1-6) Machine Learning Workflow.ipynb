{
 "cells": [
  {
   "cell_type": "markdown",
   "id": "aerial-synthetic",
   "metadata": {},
   "source": [
    "# 1. Machine Learning Workflow"
   ]
  },
  {
   "cell_type": "markdown",
   "id": "complex-tension",
   "metadata": {},
   "source": [
    "> **1) 수집(Acquisition)**   \n",
    "> 머신러닝을 하기 위해 기계에 학습할 데이터 필요   \n",
    "> 자연어 데이터를 corpus(연구 목적에 의해 특정 도메인으로부터 수집된 텍스트 집합)라고 부름   \n",
    "> corpus의 파일 형식은 txt, csv, xml 등 다양"
   ]
  },
  {
   "cell_type": "markdown",
   "id": "abstract-gregory",
   "metadata": {},
   "source": [
    "> **2) 점검 및 탐색(Inspection and Exploration)**   \n",
    "> EDA(Exploratory Data Analysis), 탐색적 데이터 분석 단계   \n",
    "> 데이터의 구조, 노이즈 데이터를 어떻게 정제할지 파악   \n",
    "> 독립/종속 변수, 변수 유형, 변수 데이터 타입 등을 점검해 데이터의 특징과 내재하는 구조적 관계를 알아내는 과정 "
   ]
  },
  {
   "cell_type": "markdown",
   "id": "prerequisite-abortion",
   "metadata": {},
   "source": [
    "> **3) 전처리 및 정제(Preprocessing and Cleaning)**\\\n",
    "> 자연어 처리의 경우 토큰화, 정제, 정규화, 불용어 제거 등\\\n",
    "> 까다로운 경우 전처리 과정에서 머신러닝 사용"
   ]
  },
  {
   "cell_type": "markdown",
   "id": "remarkable-islam",
   "metadata": {},
   "source": [
    "> **4) 모델링 및 훈련(Modeling and Training)**   \n",
    "> 적절한 머신러닝 알고리즘을 선택해 모델링 후 전처리가 완료된 데이터를 기계에 training   \n",
    "> 훈련이 잘 되었다면 기계 번역, 음성 인식, 텍스트 분류 등 자연어 처리 작업 수행 가능 \n",
    "\n",
    "> 과적합을 방지하고자 훈련/검증/테스트용 데이터로 나눔   \n",
    "> - 검증: 기계가 훈련용 데이터로 얼마나 제대로 학습되었는지 판단\n",
    "> - 테스트: 모델의 최종 성능을 평가, 모델 성능 수치화 및 개선"
   ]
  },
  {
   "cell_type": "markdown",
   "id": "unlikely-schema",
   "metadata": {},
   "source": [
    "> **5) 평가(Evaluation)**   \n",
    "> 기계가 학습이 다 되었다면 테스트 데이터로 성능 평가 "
   ]
  },
  {
   "cell_type": "markdown",
   "id": "structured-laugh",
   "metadata": {},
   "source": [
    "> **6) 배포(Deployment)**   \n",
    "> 완성된 모델의 피드백에 대해 모델을 변경할 상황의 경우 전 단계로 돌아갈 수 있음"
   ]
  }
 ],
 "metadata": {
  "kernelspec": {
   "display_name": "Python 3",
   "language": "python",
   "name": "python3"
  },
  "language_info": {
   "codemirror_mode": {
    "name": "ipython",
    "version": 3
   },
   "file_extension": ".py",
   "mimetype": "text/x-python",
   "name": "python",
   "nbconvert_exporter": "python",
   "pygments_lexer": "ipython3",
   "version": "3.8.5"
  }
 },
 "nbformat": 4,
 "nbformat_minor": 5
}
