{
 "cells": [
  {
   "cell_type": "markdown",
   "id": "excessive-wright",
   "metadata": {},
   "source": [
    "# 1. Sparse Representation\n",
    "벡터와 행렬 값이 대부분 0   \n",
    "단어 개수에 따라 벡터 차원이 한없이 커짐"
   ]
  },
  {
   "cell_type": "markdown",
   "id": "reported-success",
   "metadata": {},
   "source": [
    "# 2. Dense Representation\n",
    "차원이 줄어들며 모든 값이 실수로 바뀜   \n",
    "단어 개수로 벡터 차원을 정하지 않음   \n",
    "사용자 설정 값으로 벡터 차원을 맞춤"
   ]
  },
  {
   "cell_type": "markdown",
   "id": "removed-comment",
   "metadata": {},
   "source": [
    "# 3. Word Embedding\n",
    "밀집 벡터 및 임베딩 벡터 표현법   \n",
    "\n",
    "<null>|원-핫 벡터|임베딩 벡터\n",
    ":--|:--|:--\n",
    "차원|고차원|저차원\n",
    "다른 표현|희소 벡터|밀집 벡터\n",
    "표현 방법|수동|훈련 데이터로부터 학습\n",
    "값의 타입|1과 0|실수"
   ]
  }
 ],
 "metadata": {
  "kernelspec": {
   "display_name": "Python 3",
   "language": "python",
   "name": "python3"
  },
  "language_info": {
   "codemirror_mode": {
    "name": "ipython",
    "version": 3
   },
   "file_extension": ".py",
   "mimetype": "text/x-python",
   "name": "python",
   "nbconvert_exporter": "python",
   "pygments_lexer": "ipython3",
   "version": "3.8.8"
  }
 },
 "nbformat": 4,
 "nbformat_minor": 5
}
