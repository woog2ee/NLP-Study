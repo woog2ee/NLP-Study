{
 "cells": [
  {
   "cell_type": "markdown",
   "id": "burning-relation",
   "metadata": {},
   "source": [
    "# 1. Language Model\n",
    "이전 단어로부터 다음 단어 예측   \n",
    "확률을 할당해 자연스러운 단어 시퀀스를 찾음     \n",
    "**통계**와 **인공 신경망**을 이용한 방법"
   ]
  },
  {
   "cell_type": "markdown",
   "id": "handy-explosion",
   "metadata": {},
   "source": [
    "# 2. 단어 시퀀스 확률 할당\n",
    "> **1) Machine Translation**   \n",
    "> P(나는 버스를 탔다) > P(나는 버스를 태운다)   "
   ]
  },
  {
   "cell_type": "markdown",
   "id": "irish-science",
   "metadata": {},
   "source": [
    "> **2) Spell Correction**   \n",
    "> 선생님이 교실로 부리나케 P(달려갔다) > P(잘려갔다)   "
   ]
  },
  {
   "cell_type": "markdown",
   "id": "canadian-theater",
   "metadata": {},
   "source": [
    "> **3) Speech Recognition**   \n",
    "> P(나는 메롱을 먹는다) < P(나는 메론을 먹는다)   "
   ]
  },
  {
   "cell_type": "markdown",
   "id": "complimentary-square",
   "metadata": {},
   "source": [
    "# 3. 이전 단어로부터 다음 단어 예측\n",
    "> **1) 단어 시퀀스 확률**   \n",
    "> 단어 n개가 등장하는 단어 시퀀스 W 확률   \n",
    "> $$P(W) = P(w_{1}, w_{2}, w_{3}, ..., w_{n})$$   "
   ]
  },
  {
   "cell_type": "markdown",
   "id": "distant-stick",
   "metadata": {},
   "source": [
    "> **2) 다음 단어 등장 확률**   \n",
    "> n-1개의 단어가 나열될 때 다음 n번째 단어 확률   \n",
    "> $$P(w_{n}|w_{1}, ..., w_{n-1})$$   \n",
    "\n",
    "> 단어 시퀀스 확률을 다음 단어 등장 확률로 계산   \n",
    "> $$P(W) = P(w_{1}, w_{2}, w_{3}, ..., w_{n}) = \\prod_{i=1}^{n}P(w_{n}|w_{1}, ..., w_{n-1})$$   "
   ]
  },
  {
   "cell_type": "markdown",
   "id": "floating-manner",
   "metadata": {},
   "source": [
    "# 4. 언어 모델의 직관\n",
    "이전 단어로 다음 단어 확률을 예측해 가장 높은 확률의 단어 선택"
   ]
  },
  {
   "cell_type": "markdown",
   "id": "whole-abraham",
   "metadata": {},
   "source": [
    "# 5. 검색 엔진 언어 모델\n",
    "검색창 입력시 다음 단어의 예측 과정에서 언어 모델 사용"
   ]
  }
 ],
 "metadata": {
  "kernelspec": {
   "display_name": "Python 3",
   "language": "python",
   "name": "python3"
  },
  "language_info": {
   "codemirror_mode": {
    "name": "ipython",
    "version": 3
   },
   "file_extension": ".py",
   "mimetype": "text/x-python",
   "name": "python",
   "nbconvert_exporter": "python",
   "pygments_lexer": "ipython3",
   "version": "3.8.8"
  }
 },
 "nbformat": 4,
 "nbformat_minor": 5
}
