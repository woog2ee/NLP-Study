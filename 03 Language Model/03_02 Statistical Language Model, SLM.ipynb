{
 "cells": [
  {
   "cell_type": "markdown",
   "id": "quantitative-pursuit",
   "metadata": {},
   "source": [
    "# 1. 조건부 확률\n",
    "일반화를 위해 chain rule 적용\n",
    "$$P(B|A) = P(A,B)/P(A), P(A,B) = P(A)P(B|A)$$   \n",
    "$$P(A,B,C,D) = P(A)P(B|A)P(C|A,B)P(D|A,B,C)$$      \n",
    "$$P(x_{1}, x_{2}, x_{3}, ..., x_{n}) = P(x_{1})P(x_{2}|x_{1})P(x_{3}|x_{1},x_{2})...P(x_{n}|x_{1},...,x_{n-1})$$"
   ]
  },
  {
   "cell_type": "markdown",
   "id": "rational-reporter",
   "metadata": {},
   "source": [
    "# 2. 문장 확률\n",
    "문장 확률을 구하고자 각 단어 예측 확률을 곱함   \n",
    "$$P(w_{1}, w_{2}, w_{3}, ..., w_{n}) = \\prod_{n=1}^{n}P(w_{n}|w_{1},...,w_{n-1})$$   "
   ]
  },
  {
   "cell_type": "markdown",
   "id": "cellular-hypothetical",
   "metadata": {},
   "source": [
    "# 3. 카운트 기반 접근\n",
    "이전 단어로 다음 단어 예측 확률을 구할 때 카운트에 기반"
   ]
  },
  {
   "cell_type": "markdown",
   "id": "potential-reserve",
   "metadata": {},
   "source": [
    "# 4. 카운트 기반 접근 한계   \n",
    "데이터에 해당 단어 시퀀스가 없다면 카운트 기반 접근이 불가   \n",
    "**Sparsity problem**은 이로 인해 언어 모델링이 부정확한 문제   \n",
    "이후 언어 모델 트렌드는 **인공 신경망** 언어 모델로 넘어감"
   ]
  }
 ],
 "metadata": {
  "kernelspec": {
   "display_name": "Python 3",
   "language": "python",
   "name": "python3"
  },
  "language_info": {
   "codemirror_mode": {
    "name": "ipython",
    "version": 3
   },
   "file_extension": ".py",
   "mimetype": "text/x-python",
   "name": "python",
   "nbconvert_exporter": "python",
   "pygments_lexer": "ipython3",
   "version": "3.8.8"
  }
 },
 "nbformat": 4,
 "nbformat_minor": 5
}
