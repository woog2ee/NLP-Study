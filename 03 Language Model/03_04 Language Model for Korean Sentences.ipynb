{
 "cells": [
  {
   "cell_type": "markdown",
   "id": "apparent-possible",
   "metadata": {},
   "source": [
    "# 1. 한국어의 어순\n",
    "단어 순서를 바꿔도 의미가 통함   \n",
    "확률 기반 언어 모델이 다음 단어를 예측하기 어려움   \n",
    "1. 나는 운동을 합니다 체육관에서.   \n",
    "2. 나는 체육관에서 운동을 합니다.   \n",
    "3. 체육관에서 운동을 합니다.   \n",
    "4. 나는 운동을 체육관에서 합니다."
   ]
  },
  {
   "cell_type": "markdown",
   "id": "romance-administrator",
   "metadata": {},
   "source": [
    "# 2. 한국어는 교착어\n",
    "종류가 많은 접사와 조사를 분리   \n",
    "어절 토큰화한 문장에서 발생 단어가 더 늘어남"
   ]
  },
  {
   "cell_type": "markdown",
   "id": "major-glucose",
   "metadata": {},
   "source": [
    "# 3. 한국어의 띄어쓰기\n",
    "띄어쓰기를 지키지 않아도 의미가 전달됨   \n",
    "띄어쓰기 규칙이 까다로워 안 지켜진 경우가 많음"
   ]
  }
 ],
 "metadata": {
  "kernelspec": {
   "display_name": "Python 3",
   "language": "python",
   "name": "python3"
  },
  "language_info": {
   "codemirror_mode": {
    "name": "ipython",
    "version": 3
   },
   "file_extension": ".py",
   "mimetype": "text/x-python",
   "name": "python",
   "nbconvert_exporter": "python",
   "pygments_lexer": "ipython3",
   "version": "3.8.8"
  }
 },
 "nbformat": 4,
 "nbformat_minor": 5
}
