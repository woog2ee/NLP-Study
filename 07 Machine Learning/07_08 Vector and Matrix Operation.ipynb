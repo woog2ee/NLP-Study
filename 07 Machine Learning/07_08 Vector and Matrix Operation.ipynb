{
 "cells": [
  {
   "cell_type": "markdown",
   "id": "working-destruction",
   "metadata": {},
   "source": [
    "# 1. Vector and Matrix\n",
    "Vector는 크기와 방향을 가지며, 1차원 배열로 표현   \n",
    "Matrix는 행과 열을 가지며, 2차원 배열로 표현   "
   ]
  },
  {
   "cell_type": "markdown",
   "id": "individual-graphic",
   "metadata": {},
   "source": [
    "# 2. Tensor\n",
    "Tensor는 복잡한 입출력에 요구되며, 3차원 이상 배열로 표현"
   ]
  },
  {
   "cell_type": "code",
   "execution_count": 1,
   "id": "convenient-manchester",
   "metadata": {},
   "outputs": [],
   "source": [
    "import numpy as np"
   ]
  },
  {
   "cell_type": "markdown",
   "id": "forbidden-combination",
   "metadata": {},
   "source": [
    "> **1) 0D Tensor**, Scalar"
   ]
  },
  {
   "cell_type": "code",
   "execution_count": 2,
   "id": "transparent-origin",
   "metadata": {},
   "outputs": [
    {
     "name": "stdout",
     "output_type": "stream",
     "text": [
      "0\n",
      "()\n"
     ]
    }
   ],
   "source": [
    "d = np.array(5)\n",
    "print(d.ndim)\n",
    "print(d.shape)"
   ]
  },
  {
   "cell_type": "markdown",
   "id": "connected-worse",
   "metadata": {},
   "source": [
    "> **2) 1D Tensor**, Vector  "
   ]
  },
  {
   "cell_type": "code",
   "execution_count": 3,
   "id": "helpful-oracle",
   "metadata": {},
   "outputs": [
    {
     "name": "stdout",
     "output_type": "stream",
     "text": [
      "1\n",
      "(4,)\n"
     ]
    }
   ],
   "source": [
    "d = np.array([1,2,3,4])\n",
    "print(d.ndim)\n",
    "print(d.shape)"
   ]
  },
  {
   "cell_type": "markdown",
   "id": "resident-dictionary",
   "metadata": {},
   "source": [
    "> **3) 2D Tensor**, Matrix"
   ]
  },
  {
   "cell_type": "code",
   "execution_count": 4,
   "id": "restricted-malpractice",
   "metadata": {},
   "outputs": [
    {
     "name": "stdout",
     "output_type": "stream",
     "text": [
      "2\n",
      "(3, 4)\n"
     ]
    }
   ],
   "source": [
    "d = np.array([[1,2,3,4],[5,6,7,8],[9,10,11,12]])\n",
    "print(d.ndim)\n",
    "print(d.shape)"
   ]
  },
  {
   "cell_type": "markdown",
   "id": "confirmed-powder",
   "metadata": {},
   "source": [
    "> **4) 3D Tensor**   \n",
    "> Data Science 분야에서 3차원 이상 배열은 Tensor   \n",
    "> Text sequence를 나타낼 경우 (samples/batch_size, timesteps, word_dim)으로 구성\n",
    "\n",
    "> <null>|문장\n",
    "> :--|:--\n",
    "> 문서1|I like NLP    \n",
    "> 문서2|I like DL   \n",
    "> 문서3|DL is AI\n",
    "\n",
    "> 단어|One-Hot vector\n",
    "> :--|:--\n",
    "> I|[1 0 0 0 0 0]\n",
    "> like|[0 1 0 0 0 0]\n",
    "> NLP|[0 0 1 0 0 0]\n",
    "> DL|[0 0 0 1 0 0]\n",
    "> is|[0 0 0 0 1 0]\n",
    "> AI|[0 0 0 0 0 1]\n",
    "\n",
    "> 인공 신경망 입력으로 사용하고자 문장 벡터화   \n",
    "> 이는 (3, 3, 6) 크기 3D Tensor\n",
    "    \n",
    "> <null>|문장 벡터화   \n",
    "> :--|:--\n",
    "> 문서1|[[1, 0, 0, 0, 0, 0], [0, 1, 0, 0, 0, 0], [0, 0, 1, 0, 0, 0]]  \n",
    "> 문서2|[[1, 0, 0, 0, 0, 0], [0, 1, 0, 0, 0, 0], [0, 0, 0, 1, 0, 0]]   \n",
    "> 문서3|[[0, 0, 0, 1, 0, 0], [0, 0, 0, 0, 1, 0], [0, 0, 0, 0, 0, 1]]   "
   ]
  },
  {
   "cell_type": "code",
   "execution_count": 5,
   "id": "gothic-addiction",
   "metadata": {},
   "outputs": [
    {
     "name": "stdout",
     "output_type": "stream",
     "text": [
      "3\n",
      "(2, 3, 5)\n"
     ]
    }
   ],
   "source": [
    "d = np.array([\n",
    "              [[1,2,3,4,5], [6,7,8,9,10], [10,11,12,13,14]],\n",
    "              [[15,16,17,18,19], [19,20,21,22,23], [23,24,25,26,27]]\n",
    "            ])\n",
    "print(d.ndim)\n",
    "print(d.shape)"
   ]
  },
  {
   "cell_type": "markdown",
   "id": "attached-tampa",
   "metadata": {},
   "source": [
    "> **5) More Tensors**   \n",
    "> n차원 Tensor를 합치면 n+1차원 Tensor\n",
    "> ![More Tensors](https://wikidocs.net/images/page/37001/tensor.png \"More Tensors\")"
   ]
  },
  {
   "cell_type": "markdown",
   "id": "large-savings",
   "metadata": {},
   "source": [
    "# 3. Vector and Matrix Operation\n",
    "> **1) Addition and Subtraction**"
   ]
  },
  {
   "cell_type": "code",
   "execution_count": 6,
   "id": "dirty-uruguay",
   "metadata": {},
   "outputs": [
    {
     "name": "stdout",
     "output_type": "stream",
     "text": [
      "[9 6 8]\n",
      "[7 2 2]\n"
     ]
    }
   ],
   "source": [
    "a = np.array([8,4,5])\n",
    "b = np.array([1,2,3])\n",
    "print(a+b)\n",
    "print(a-b)"
   ]
  },
  {
   "cell_type": "code",
   "execution_count": 7,
   "id": "given-cliff",
   "metadata": {},
   "outputs": [
    {
     "name": "stdout",
     "output_type": "stream",
     "text": [
      "[[15 26 37 48]\n",
      " [51 62 73 84]]\n",
      "[[ 5 14 23 32]\n",
      " [49 58 67 76]]\n"
     ]
    }
   ],
   "source": [
    "a = np.array([ [10,20,30,40], [50,60,70,80] ])\n",
    "b = np.array([ [5,6,7,8], [1,2,3,4] ])\n",
    "print(a+b)\n",
    "print(a-b)"
   ]
  },
  {
   "cell_type": "markdown",
   "id": "vocational-bryan",
   "metadata": {},
   "source": [
    "> **2) Dot Product and Multiplication**"
   ]
  },
  {
   "cell_type": "code",
   "execution_count": 8,
   "id": "pressing-reservation",
   "metadata": {},
   "outputs": [
    {
     "name": "stdout",
     "output_type": "stream",
     "text": [
      "32\n"
     ]
    }
   ],
   "source": [
    "a = np.array([1,2,3])\n",
    "b = np.array([4,5,6])\n",
    "print(np.dot(a,b))"
   ]
  },
  {
   "cell_type": "code",
   "execution_count": 9,
   "id": "joint-iraqi",
   "metadata": {},
   "outputs": [
    {
     "name": "stdout",
     "output_type": "stream",
     "text": [
      "[[23 31]\n",
      " [34 46]]\n"
     ]
    }
   ],
   "source": [
    "a = np.array([ [1,3], [2,4] ])\n",
    "b = np.array([ [5,7], [6,8] ])\n",
    "print(np.matmul(a,b))"
   ]
  },
  {
   "cell_type": "markdown",
   "id": "reflected-compensation",
   "metadata": {},
   "source": [
    "# 4. Multiple Linear Regression with Matrix\n",
    "Multiple Linear Regression   \n",
    "$$y = w_{1}x_{1} + w_{2}x_{2} + ... + w_{n}x_{n} + b$$   \n",
    "\n",
    "가중치와 입력 벡터의 내적으로 행렬곱 표현   \n",
    "$$y = \\begin{bmatrix} x_{1}\\\\x_{2}\\\\...\\\\x_{n}\\\\ \\end{bmatrix}\\begin{bmatrix} w_{1} w_{2} ... w_{n}\\\\ \\end{bmatrix} + b$$"
   ]
  },
  {
   "cell_type": "markdown",
   "id": "greek-surgeon",
   "metadata": {},
   "source": [
    "# 5. Matrix Size Decision\n",
    "**Minibatch 학습**은 전체 데이터를 m개씩 묶어 작은 그룹으로 분할해 여러 번 처리\n",
    "$$Y_{m \\times j} = X_{m \\times n} \\times W_{n \\times j} + B_{m \\times j}$$"
   ]
  }
 ],
 "metadata": {
  "kernelspec": {
   "display_name": "Python 3",
   "language": "python",
   "name": "python3"
  },
  "language_info": {
   "codemirror_mode": {
    "name": "ipython",
    "version": 3
   },
   "file_extension": ".py",
   "mimetype": "text/x-python",
   "name": "python",
   "nbconvert_exporter": "python",
   "pygments_lexer": "ipython3",
   "version": "3.8.8"
  }
 },
 "nbformat": 4,
 "nbformat_minor": 5
}
