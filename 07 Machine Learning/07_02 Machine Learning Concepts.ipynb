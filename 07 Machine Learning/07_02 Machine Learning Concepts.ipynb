{
 "cells": [
  {
   "cell_type": "markdown",
   "id": "driving-master",
   "metadata": {},
   "source": [
    "# 1. Evaluation\n",
    "검증용 데이터는 과적합 판단, 하이퍼파라미터 조정 등의 모델 성능 조정 용도      \n",
    "![Evaluation](https://wikidocs.net/images/page/24987/%EB%8D%B0%EC%9D%B4%ED%84%B0.PNG \"Evaluation\")"
   ]
  },
  {
   "cell_type": "markdown",
   "id": "trying-mistress",
   "metadata": {},
   "source": [
    "# 2. Classification and Regression\n",
    "> **1) Binary Classification**   \n",
    "> 입력에 대해 둘 중 하나의 답을 정함"
   ]
  },
  {
   "cell_type": "markdown",
   "id": "inclusive-carrier",
   "metadata": {},
   "source": [
    "> **2) Multi-class Classification**   \n",
    "> 입력에 대해 두 개 이상 선택지에서 답을 정함"
   ]
  },
  {
   "cell_type": "markdown",
   "id": "attached-battlefield",
   "metadata": {},
   "source": [
    "> **3) Regression**   \n",
    "> 입력에 대해 연속된 결과값을 정함"
   ]
  },
  {
   "cell_type": "markdown",
   "id": "competent-locking",
   "metadata": {},
   "source": [
    "# 3. Supervised Learning and Unsupervised Learning\n",
    "> **1) Supervised Learning**   \n",
    "> 레이블을 가지고 실제값과 예측값 차이를 줄이는 학습"
   ]
  },
  {
   "cell_type": "markdown",
   "id": "heard-bowling",
   "metadata": {},
   "source": [
    "> **2) Unsupervised Learning**   \n",
    "> 레이블 없이 학습"
   ]
  },
  {
   "cell_type": "markdown",
   "id": "three-karen",
   "metadata": {},
   "source": [
    "# 4. Sample and Feature\n",
    "머신러닝은 여러 독립변수로 하나의 종속변수 예측   \n",
    "![Sample and Feature](https://wikidocs.net/images/page/35821/n_x_m.PNG \"Sample and Feature\")"
   ]
  },
  {
   "cell_type": "markdown",
   "id": "southeast-jurisdiction",
   "metadata": {},
   "source": [
    "# 5. Confusion Matrix\n",
    "실제값과 예측값의 세부 내용을 포함\n",
    "\n",
    "<null>|예측: 참|예측: 거짓\n",
    ":--|:--|:--\n",
    "실제: 참|TP(True Positive)|FN(False Negative)\n",
    "실제: 거짓|FP(False Positive)|TN(True Negative)\n",
    "    \n",
    "> **1) Precision**   \n",
    "> $$Precision = \\frac{TP}{TP + FP}$$"
   ]
  },
  {
   "cell_type": "markdown",
   "id": "running-advertiser",
   "metadata": {},
   "source": [
    "> **2) Recall**   \n",
    "> $$Recall = \\frac{TP}{TP + FN}$$"
   ]
  },
  {
   "cell_type": "markdown",
   "id": "related-denial",
   "metadata": {},
   "source": [
    "# 6. Overfitting and Underfitting \n",
    "과소적합은 훈련 데이터를 덜 학습한 경우   \n",
    "과적합은 훈련 데이터를 과하게 학습한 경우   \n",
    "![Overfitting](https://wikidocs.net/images/page/32012/%EC%8A%A4%ED%8C%B8_%EB%A9%94%EC%9D%BC_%EC%98%A4%EC%B0%A8.png \"Overfitting\")"
   ]
  }
 ],
 "metadata": {
  "kernelspec": {
   "display_name": "Python 3",
   "language": "python",
   "name": "python3"
  },
  "language_info": {
   "codemirror_mode": {
    "name": "ipython",
    "version": 3
   },
   "file_extension": ".py",
   "mimetype": "text/x-python",
   "name": "python",
   "nbconvert_exporter": "python",
   "pygments_lexer": "ipython3",
   "version": "3.8.8"
  }
 },
 "nbformat": 4,
 "nbformat_minor": 5
}
