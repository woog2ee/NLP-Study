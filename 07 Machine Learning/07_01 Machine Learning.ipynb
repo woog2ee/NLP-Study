{
 "cells": [
  {
   "cell_type": "markdown",
   "id": "different-vatican",
   "metadata": {},
   "source": [
    "# 1. Machine Learning\n",
    "강아지와 고양이 사진 판별시 공통된 특징을 찾기 힘들며 애초에 명확한 알고리즘이 없음   \n",
    "이미지 인식 분야에서 shape와 edge로 알고리즘화를 시도했으나 특징 찾기에 한계"
   ]
  },
  {
   "cell_type": "markdown",
   "id": "second-milan",
   "metadata": {},
   "source": [
    "# 2. 기존 프로그래밍의 해결책\n",
    "머신러닝은 데이터로부터 결과보다 **규칙성**을 찾는 **적합** 과정   \n",
    "발견한 규칙성을 기준으로 새로운 데이터의 정답을 찾음  \n",
    "![Machine Learning](https://wikidocs.net/images/page/21679/%EC%A0%84%ED%86%B5_vs_%EB%A8%B8%EC%8B%A0%EB%9F%AC%EB%8B%9D.png \"Machine Learning\")"
   ]
  }
 ],
 "metadata": {
  "kernelspec": {
   "display_name": "Python 3",
   "language": "python",
   "name": "python3"
  },
  "language_info": {
   "codemirror_mode": {
    "name": "ipython",
    "version": 3
   },
   "file_extension": ".py",
   "mimetype": "text/x-python",
   "name": "python",
   "nbconvert_exporter": "python",
   "pygments_lexer": "ipython3",
   "version": "3.8.8"
  }
 },
 "nbformat": 4,
 "nbformat_minor": 5
}
