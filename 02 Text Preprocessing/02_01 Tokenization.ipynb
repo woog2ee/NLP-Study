{
 "cells": [
  {
   "cell_type": "markdown",
   "id": "minor-parallel",
   "metadata": {},
   "source": [
    "# 1. Word Tokenization\n",
    "Word는 단어구와 의미를 가진 문자열로도 간주   \n",
    "Punctuation을 지우고 whitespace를 기준으로 잘라냄   \n",
    "구두점 제거시 의미를 잃는 경우, 한국어 띄어쓰기로 단어 토큰 구분이 어려운 경우 존재"
   ]
  },
  {
   "cell_type": "markdown",
   "id": "editorial-parish",
   "metadata": {},
   "source": [
    "# 2. 토큰화 중 선택의 순간\n",
    "토큰화 기준은 데이터 사용 용도에 영향이 없는 기준으로 선택"
   ]
  },
  {
   "cell_type": "code",
   "execution_count": 1,
   "id": "destroyed-gross",
   "metadata": {},
   "outputs": [
    {
     "name": "stdout",
     "output_type": "stream",
     "text": [
      "['Do', \"n't\", 'be', 'fooled', 'by', 'the', 'dark', 'sounding', 'name', ',', 'Mr.', 'Jone', \"'s\", 'Orphange', 'is', 'as', 'cheery', 'as', 'cheery', 'goes', 'for', 'a', 'pastry', 'shop', '.']\n"
     ]
    }
   ],
   "source": [
    "# NLTK 어퍼스트로피 처리\n",
    "from nltk.tokenize import word_tokenize\n",
    "print(word_tokenize(\"Don't be fooled by the dark sounding name, Mr. Jone's Orphange is as cheery as cheery goes for a pastry shop.\"))"
   ]
  },
  {
   "cell_type": "code",
   "execution_count": 2,
   "id": "blessed-cornell",
   "metadata": {},
   "outputs": [
    {
     "name": "stdout",
     "output_type": "stream",
     "text": [
      "['Don', \"'\", 't', 'be', 'fooled', 'by', 'the', 'dark', 'sounding', 'name', ',', 'Mr', '.', 'Jone', \"'\", 's', 'Orphange', 'is', 'as', 'cheery', 'as', 'cheery', 'goes', 'for', 'a', 'pastry', 'shop', '.']\n"
     ]
    }
   ],
   "source": [
    "# WordPunctTokenizer 어퍼스트로피 처리\n",
    "from nltk.tokenize import WordPunctTokenizer\n",
    "print(WordPunctTokenizer().tokenize(\"Don't be fooled by the dark sounding name, Mr. Jone's Orphange is as cheery as cheery goes for a pastry shop.\"))"
   ]
  },
  {
   "cell_type": "code",
   "execution_count": 3,
   "id": "major-survivor",
   "metadata": {},
   "outputs": [
    {
     "name": "stdout",
     "output_type": "stream",
     "text": [
      "[\"don't\", 'be', 'fooled', 'by', 'the', 'dark', 'sounding', 'name', 'mr', \"jone's\", 'orphange', 'is', 'as', 'cheery', 'as', 'cheery', 'goes', 'for', 'a', 'pastry', 'shop']\n"
     ]
    }
   ],
   "source": [
    "# keras 어퍼스토로피 처리\n",
    "from tensorflow.keras.preprocessing.text import text_to_word_sequence\n",
    "print(text_to_word_sequence(\"Don't be fooled by the dark sounding name, Mr. Jone's Orphange is as cheery as cheery goes for a pastry shop.\"))\n",
    "# don't나 jone's의 같은 어퍼스트로피 보존 "
   ]
  },
  {
   "cell_type": "markdown",
   "id": "registered-postcard",
   "metadata": {},
   "source": [
    "# 3. 토큰화에서의 고려 사항\n",
    "토큰화는 단순히 corpus에서 punctuation을 제외하고 whitespace로 잘라내는 작업만은 아님   \n",
    "> **1) Punctuation과 특수 문자를 단순 제외해선 안 됨**   \n",
    "> $과 /의 경우, 숫자 사이 콤마의 경우   \n",
    "> 단어 내 마침표가 포함되거나 구두점을 가진 경우   "
   ]
  },
  {
   "cell_type": "markdown",
   "id": "vertical-superior",
   "metadata": {},
   "source": [
    "> **2) 줄임말과 단어 내 띄어쓰기의 경우**   \n",
    "> 어퍼스트로피로 clitic이 생긴 경우"
   ]
  },
  {
   "cell_type": "markdown",
   "id": "multiple-oracle",
   "metadata": {},
   "source": [
    "> **3) 표준 토큰화 예제(Penn Treebank Tokenization)**\n",
    "> 1. 하이픈으로 구성된 단어는 하나로 유지\n",
    "> 2. doesn't같이 어퍼스토로피로 접힌 단어는 분리"
   ]
  },
  {
   "cell_type": "code",
   "execution_count": 4,
   "id": "interpreted-cinema",
   "metadata": {},
   "outputs": [
    {
     "name": "stdout",
     "output_type": "stream",
     "text": [
      "['Starting', 'a', 'home-based', 'restaurant', 'may', 'be', 'an', 'ideal', ',', 'it', 'does', \"n't\", 'have', 'a', 'food', 'chain', 'or', 'restaurant', 'of', 'their', 'own', '.']\n"
     ]
    }
   ],
   "source": [
    "from nltk.tokenize import TreebankWordTokenizer\n",
    "tokenizer = TreebankWordTokenizer()\n",
    "\n",
    "text = \"Starting a home-based restaurant may be an ideal, it doesn't have a food chain or restaurant of their own.\"\n",
    "print(tokenizer.tokenize(text))"
   ]
  },
  {
   "cell_type": "markdown",
   "id": "metric-chemistry",
   "metadata": {},
   "source": [
    "# 4. Sentence Tokenization(Sentence Segmentation)\n",
    "!나 ?는 boundary 역할이지만 마침표는 문장 끝이 아니어도 등장 가능   "
   ]
  },
  {
   "cell_type": "code",
   "execution_count": 5,
   "id": "advance-fishing",
   "metadata": {},
   "outputs": [
    {
     "name": "stdout",
     "output_type": "stream",
     "text": [
      "['His barber kept his word.', 'But keeping such a huge secret to himself was driving him crazy.', 'Finally, the barber went up a mountain and almost to the edge of a cliff.', 'He dug a hole in the midst of some reeds.', 'He looked about, to make sure no one was near.']\n"
     ]
    }
   ],
   "source": [
    "from nltk.tokenize import sent_tokenize\n",
    "text = \"His barber kept his word. But keeping such a huge secret to himself was driving him crazy. Finally, the barber went up a mountain and almost to the edge of a cliff. He dug a hole in the midst of some reeds. He looked about, to make sure no one was near.\"\n",
    "print(sent_tokenize(text))"
   ]
  },
  {
   "cell_type": "code",
   "execution_count": 6,
   "id": "nuclear-prince",
   "metadata": {},
   "outputs": [
    {
     "name": "stdout",
     "output_type": "stream",
     "text": [
      "['I am actively looking for ph.D. students.', 'and you are a ph.D student.']\n"
     ]
    }
   ],
   "source": [
    "# NLTK는 단순히 마침표를 구분자로 하여 문장을 구분하지 않음\n",
    "from nltk.tokenize import sent_tokenize\n",
    "text = \"I am actively looking for ph.D. students. and you are a ph.D student.\"\n",
    "print(sent_tokenize(text))"
   ]
  },
  {
   "cell_type": "code",
   "execution_count": 7,
   "id": "broad-watson",
   "metadata": {},
   "outputs": [
    {
     "name": "stdout",
     "output_type": "stream",
     "text": [
      "['딥 러닝 자연어 처리가 재미있기는 합니다.', '그런데 문제는 영어보다 한국어로 할 때 너무 어려워요.', '농담 아니에요.', '이제 해보면 알 걸요?']\n"
     ]
    }
   ],
   "source": [
    "# 한국어 문장 토큰화 도구 KSS(Korean Sentence Splitter)\n",
    "import kss\n",
    "\n",
    "text = '딥 러닝 자연어 처리가 재미있기는 합니다. 그런데 문제는 영어보다 한국어로 할 때 너무 어려워요. 농담 아니에요. 이제 해보면 알 걸요?'\n",
    "print(kss.split_sentences(text))"
   ]
  },
  {
   "cell_type": "markdown",
   "id": "spatial-price",
   "metadata": {},
   "source": [
    "# 5. Binary Classifier\n",
    "마침표 입력에 따라 두 개 클래스로 분류   \n",
    "약어 사전을 이용해 마침표가 어떤 클래스인지 결정 \n",
    "1. 마침표(.)가 문장의 boundary인 경우\n",
    "2. 마침표(.)가 단어의 abbreviation인 경우   "
   ]
  },
  {
   "cell_type": "markdown",
   "id": "planned-vanilla",
   "metadata": {},
   "source": [
    "# 6. 한국어 토큰화의 어려움\n",
    "영어는 예외 처리만 하면 whitespace를 기준으로 토큰화해도 잘 작동   \n",
    "한국어는 조사와 어미를 붙이는 **교착어**라서 띄어쓰기만으로 토큰화를 하기 부족   \n",
    "그렇기에 띄어쓰기 단위로의 어절 토큰화는 한국어 NLP에서 지양됨\n",
    "> **1) 한국어는 교착어**    \n",
    "> 한 단어에 조사가 많아 **morpheme 토큰화**를 수행   \n",
    "> 1. 자립 형태소: 자립해 사용하며 그 자체로 단어   \n",
    "> 예) 체언(명사, 대명사, 수사), 수식언(관형사, 부사), 감탄사 \n",
    "> 2. 의존 형태소: 다른 형태소와 결합하는 형태소   \n",
    "> 예) 접사, 어미, 조사, 어간"
   ]
  },
  {
   "cell_type": "markdown",
   "id": "polyphonic-covering",
   "metadata": {},
   "source": [
    "> **2) 한국어 띄어쓰기는 잘 지켜지지 않음**      \n",
    "한국어는 띄어쓰기를 안지켜도 글 이해 가능   \n",
    "모아쓰기 방식(한국어)과 풀어쓰기 방식(영어)의 특성 차이"
   ]
  },
  {
   "cell_type": "markdown",
   "id": "bridal-edition",
   "metadata": {},
   "source": [
    "# 7. Part-of-Speech(POS) Tagging\n",
    "단어 표기는 같더라도 품사에 따라 의미가 달라짐   \n",
    "의미를 파악하고자 해당 단어가 어떤 품사로 쓰였는지 판단"
   ]
  },
  {
   "cell_type": "markdown",
   "id": "acceptable-boundary",
   "metadata": {},
   "source": [
    "# 8. NLTK와 KoNLPy를 이용한 토큰화 실습"
   ]
  },
  {
   "cell_type": "code",
   "execution_count": 8,
   "id": "christian-delhi",
   "metadata": {},
   "outputs": [
    {
     "name": "stdout",
     "output_type": "stream",
     "text": [
      "['I', 'am', 'actively', 'looking', 'for', 'ph.D.', 'students', '.', 'and', 'you', 'are', 'a', 'ph.D.', 'student', '.']\n"
     ]
    }
   ],
   "source": [
    "# Penn Treebank POS Tags로 영어 실습\n",
    "from nltk.tokenize import word_tokenize\n",
    "text = \"I am actively looking for ph.D. students. and you are a ph.D. student.\"\n",
    "print(word_tokenize(text))"
   ]
  },
  {
   "cell_type": "code",
   "execution_count": 9,
   "id": "northern-sauce",
   "metadata": {},
   "outputs": [
    {
     "data": {
      "text/plain": [
       "[('I', 'PRP'),\n",
       " ('am', 'VBP'),\n",
       " ('actively', 'RB'),\n",
       " ('looking', 'VBG'),\n",
       " ('for', 'IN'),\n",
       " ('ph.D.', 'JJ'),\n",
       " ('students', 'NNS'),\n",
       " ('.', '.'),\n",
       " ('and', 'CC'),\n",
       " ('you', 'PRP'),\n",
       " ('are', 'VBP'),\n",
       " ('a', 'DT'),\n",
       " ('ph.D.', 'JJ'),\n",
       " ('student', 'NN'),\n",
       " ('.', '.')]"
      ]
     },
     "execution_count": 9,
     "metadata": {},
     "output_type": "execute_result"
    }
   ],
   "source": [
    "from nltk.tag import pos_tag\n",
    "x = word_tokenize(text)\n",
    "pos_tag(x)"
   ]
  },
  {
   "cell_type": "code",
   "execution_count": 10,
   "id": "distinct-weapon",
   "metadata": {},
   "outputs": [
    {
     "name": "stdout",
     "output_type": "stream",
     "text": [
      "['열심히', '코딩', '한', '당신', ',', '연휴', '에는', '여행', '을', '가봐요']\n"
     ]
    }
   ],
   "source": [
    "# KoNLPy의 Okt로 한국어 실습\n",
    "from konlpy.tag import Okt\n",
    "okt = Okt()\n",
    "print(okt.morphs(\"열심히 코딩한 당신, 연휴에는 여행을 가봐요\")) # 형태소 추출"
   ]
  },
  {
   "cell_type": "code",
   "execution_count": 11,
   "id": "hairy-despite",
   "metadata": {},
   "outputs": [
    {
     "name": "stdout",
     "output_type": "stream",
     "text": [
      "[('열심히', 'Adverb'), ('코딩', 'Noun'), ('한', 'Josa'), ('당신', 'Noun'), (',', 'Punctuation'), ('연휴', 'Noun'), ('에는', 'Josa'), ('여행', 'Noun'), ('을', 'Josa'), ('가봐요', 'Verb')]\n"
     ]
    }
   ],
   "source": [
    "print(okt.pos(\"열심히 코딩한 당신, 연휴에는 여행을 가봐요\")) # 품사 태깅"
   ]
  },
  {
   "cell_type": "code",
   "execution_count": 12,
   "id": "early-civilization",
   "metadata": {},
   "outputs": [
    {
     "name": "stdout",
     "output_type": "stream",
     "text": [
      "['코딩', '당신', '연휴', '여행']\n"
     ]
    }
   ],
   "source": [
    "print(okt.nouns(\"열심히 코딩한 당신, 연휴에는 여행을 가봐요\")) # 명사 추출"
   ]
  },
  {
   "cell_type": "code",
   "execution_count": 13,
   "id": "quantitative-heath",
   "metadata": {},
   "outputs": [
    {
     "name": "stdout",
     "output_type": "stream",
     "text": [
      "['열심히', '코딩', '하', 'ㄴ', '당신', ',', '연휴', '에', '는', '여행', '을', '가보', '아요']\n"
     ]
    }
   ],
   "source": [
    "# KoNLPy의 Kkma로 한국어 실습\n",
    "from konlpy.tag import Kkma\n",
    "kkma = Kkma()\n",
    "print(kkma.morphs(\"열심히 코딩한 당신, 연휴에는 여행을 가봐요\"))"
   ]
  },
  {
   "cell_type": "code",
   "execution_count": 14,
   "id": "rough-final",
   "metadata": {},
   "outputs": [
    {
     "name": "stdout",
     "output_type": "stream",
     "text": [
      "[('열심히', 'MAG'), ('코딩', 'NNG'), ('하', 'XSV'), ('ㄴ', 'ETD'), ('당신', 'NP'), (',', 'SP'), ('연휴', 'NNG'), ('에', 'JKM'), ('는', 'JX'), ('여행', 'NNG'), ('을', 'JKO'), ('가보', 'VV'), ('아요', 'EFN')]\n"
     ]
    }
   ],
   "source": [
    "print(kkma.pos(\"열심히 코딩한 당신, 연휴에는 여행을 가봐요\"))"
   ]
  },
  {
   "cell_type": "code",
   "execution_count": 15,
   "id": "ordered-yemen",
   "metadata": {},
   "outputs": [
    {
     "name": "stdout",
     "output_type": "stream",
     "text": [
      "['코딩', '당신', '연휴', '여행']\n"
     ]
    }
   ],
   "source": [
    "print(kkma.nouns(\"열심히 코딩한 당신, 연휴에는 여행을 가봐요\"))"
   ]
  }
 ],
 "metadata": {
  "kernelspec": {
   "display_name": "Python 3",
   "language": "python",
   "name": "python3"
  },
  "language_info": {
   "codemirror_mode": {
    "name": "ipython",
    "version": 3
   },
   "file_extension": ".py",
   "mimetype": "text/x-python",
   "name": "python",
   "nbconvert_exporter": "python",
   "pygments_lexer": "ipython3",
   "version": "3.8.8"
  }
 },
 "nbformat": 4,
 "nbformat_minor": 5
}
