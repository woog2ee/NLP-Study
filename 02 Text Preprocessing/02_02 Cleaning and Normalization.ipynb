{
 "cells": [
  {
   "cell_type": "markdown",
   "id": "coupled-anatomy",
   "metadata": {},
   "source": [
    "# 1. 규칙에 기반한 다른 표기의 단어들 통합\n",
    "표현이 다른 단어를 통합해 같은 단어로 만드는 Normalization 진행   \n",
    "Stemming과 Lemmatization으로 통합 방법이 나뉨"
   ]
  },
  {
   "cell_type": "markdown",
   "id": "aging-overhead",
   "metadata": {},
   "source": [
    "# 2. 대, 소문자 통합\n",
    "대문자를 소문자로 변환하나 고유명사같이 대소문자가 구분되는 경우도 존재   \n",
    "예외 사항을 크게 고려하지 않고, 모두 소문자로 바꾸는 것이 종종 더 실용적"
   ]
  },
  {
   "cell_type": "markdown",
   "id": "horizontal-compiler",
   "metadata": {},
   "source": [
    "# 3. Removing Unnecessary Words\n",
    "노이즈 데이터를 제거하는 Cleaning 진행      \n",
    "> **1) Rare words**   \n",
    "> 방대한 데이터에서 적게 등장한 단어는 직관적 분류에 도움이 되지 않음"
   ]
  },
  {
   "cell_type": "markdown",
   "id": "intended-allah",
   "metadata": {},
   "source": [
    "> **2) Words with very short length**   \n",
    "> 길이를 조건으로 텍스트를 삭제해 구두점까지 한번에 제거   \n",
    "> 영어는 **알파벳이 모여** 단어를 완성함, 길이가 짧은 단어 삭제만으로 무의미 단어들 제거 가능   \n",
    "> 한국어는 **함축적**이라 한 글자가 가진 의미가 큼, 위 방법이 크게 유효하지 않음      "
   ]
  },
  {
   "cell_type": "code",
   "execution_count": 1,
   "id": "identified-williams",
   "metadata": {},
   "outputs": [
    {
     "name": "stdout",
     "output_type": "stream",
     "text": [
      " was wondering anyone out there could enlighten this car.\n"
     ]
    }
   ],
   "source": [
    "# 길이가 짧은 단어를 정규 표현식으로 삭제\n",
    "import re\n",
    "text = \"I was wondering if anyone out there could enlighten me on this car.\"\n",
    "shortword = re.compile(r'\\W*\\b\\w{1,2}\\b')\n",
    "print(shortword.sub('', text))"
   ]
  },
  {
   "cell_type": "markdown",
   "id": "acoustic-tribune",
   "metadata": {},
   "source": [
    "# 4. Regular Expression\n",
    "제거할 데이터의 규칙을 적용한 정규 표현식을 통해 텍스트 처리"
   ]
  }
 ],
 "metadata": {
  "kernelspec": {
   "display_name": "Python 3",
   "language": "python",
   "name": "python3"
  },
  "language_info": {
   "codemirror_mode": {
    "name": "ipython",
    "version": 3
   },
   "file_extension": ".py",
   "mimetype": "text/x-python",
   "name": "python",
   "nbconvert_exporter": "python",
   "pygments_lexer": "ipython3",
   "version": "3.8.8"
  }
 },
 "nbformat": 4,
 "nbformat_minor": 5
}
