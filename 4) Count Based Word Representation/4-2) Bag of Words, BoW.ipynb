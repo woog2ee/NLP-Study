{
 "cells": [
  {
   "cell_type": "markdown",
   "id": "fifth-power",
   "metadata": {},
   "source": [
    "# 1. Bag of Words란?\n",
    "단어 순서는 배제하고 출현 빈도(frequency)에 집중한 텍스트 수치화 표현   \n",
    "빈도수를 기준으로 문서 성격을 판단하거나 문서간 유사도를 구할 때 사용   \n",
    "1. 각 단어에 정수 인덱스 부여   \n",
    "2. 인덱스 위치에 단어 등장 횟수를 기록해 벡터화"
   ]
  },
  {
   "cell_type": "code",
   "execution_count": 1,
   "id": "institutional-exhaust",
   "metadata": {},
   "outputs": [
    {
     "data": {
      "text/plain": [
       "['정부', '가', '발표', '하는', '물가상승률', '과', '소비자', '가', '느끼는', '물가상승률', '은', '다르다']"
      ]
     },
     "execution_count": 1,
     "metadata": {},
     "output_type": "execute_result"
    }
   ],
   "source": [
    "from konlpy.tag import Okt\n",
    "import re\n",
    "okt = Okt()\n",
    "\n",
    "token = re.sub(\"(\\.)\", \"\", \"정부가 발표하는 물가상승률과 소비자가 느끼는 물가상승률은 다르다.\")\n",
    "token = okt.morphs(token)\n",
    "token"
   ]
  },
  {
   "cell_type": "code",
   "execution_count": 2,
   "id": "coastal-health",
   "metadata": {},
   "outputs": [],
   "source": [
    "word2index = {}\n",
    "bow = []\n",
    "for voca in token:\n",
    "    if voca not in word2index.keys():\n",
    "    # word2index에 없는 단어를 추가하고 BoW에 1 추가\n",
    "        word2index[voca] = len(word2index)\n",
    "        bow.insert(len(word2index)-1, 1)\n",
    "    else:\n",
    "    # 재등장한 단어 인덱스의 BoW에 1 추가\n",
    "        index = word2index.get(voca)\n",
    "        bow[index] = bow[index] + 1"
   ]
  },
  {
   "cell_type": "code",
   "execution_count": 3,
   "id": "loved-petite",
   "metadata": {},
   "outputs": [
    {
     "name": "stdout",
     "output_type": "stream",
     "text": [
      "{'정부': 0, '가': 1, '발표': 2, '하는': 3, '물가상승률': 4, '과': 5, '소비자': 6, '느끼는': 7, '은': 8, '다르다': 9}\n"
     ]
    },
    {
     "data": {
      "text/plain": [
       "[1, 2, 1, 1, 2, 1, 1, 1, 1, 1]"
      ]
     },
     "execution_count": 3,
     "metadata": {},
     "output_type": "execute_result"
    }
   ],
   "source": [
    "print(word2index)\n",
    "bow"
   ]
  },
  {
   "cell_type": "markdown",
   "id": "blond-drilling",
   "metadata": {},
   "source": [
    "# 2. Bag of Words의 다른 예제들 "
   ]
  },
  {
   "cell_type": "code",
   "execution_count": 4,
   "id": "acknowledged-decline",
   "metadata": {},
   "outputs": [],
   "source": [
    "token = re.sub(\"(\\.)\", \"\", \"소비자는 주로 소비하는 상품을 기준으로 물가상승률을 느낀다.\")\n",
    "token = okt.morphs(token)\n",
    "\n",
    "word2index = {}\n",
    "bow = []\n",
    "for voca in token:\n",
    "    if voca not in word2index.keys():\n",
    "    # word2index에 없는 단어를 추가하고 BoW에 1 추가\n",
    "        word2index[voca] = len(word2index)\n",
    "        bow.insert(len(word2index)-1, 1)\n",
    "    else:\n",
    "    # 재등장한 단어 인덱스의 BoW에 1 추가\n",
    "        index = word2index.get(voca)\n",
    "        bow[index] = bow[index] + 1"
   ]
  },
  {
   "cell_type": "code",
   "execution_count": 5,
   "id": "collaborative-serve",
   "metadata": {},
   "outputs": [
    {
     "name": "stdout",
     "output_type": "stream",
     "text": [
      "{'소비자': 0, '는': 1, '주로': 2, '소비': 3, '하는': 4, '상품': 5, '을': 6, '기준': 7, '으로': 8, '물가상승률': 9, '느낀다': 10}\n"
     ]
    },
    {
     "data": {
      "text/plain": [
       "[1, 1, 1, 1, 1, 1, 2, 1, 1, 1, 1]"
      ]
     },
     "execution_count": 5,
     "metadata": {},
     "output_type": "execute_result"
    }
   ],
   "source": [
    "print(word2index)\n",
    "bow"
   ]
  },
  {
   "cell_type": "code",
   "execution_count": 6,
   "id": "enhanced-september",
   "metadata": {},
   "outputs": [],
   "source": [
    "token = re.sub(\"(\\.)\", \"\", \"정부가 발표하는 물가상승률과 소비자가 느끼는 물가상승률은 다르다. \\\n",
    "소비자는 주로 소비하는 상품을 기준으로 물가상승률을 느낀다.\")\n",
    "token = okt.morphs(token)\n",
    "\n",
    "word2index = {}\n",
    "bow = []\n",
    "for voca in token:\n",
    "    if voca not in word2index.keys():\n",
    "    # word2index에 없는 단어를 추가하고 BoW에 1 추가\n",
    "        word2index[voca] = len(word2index)\n",
    "        bow.insert(len(word2index)-1, 1)\n",
    "    else:\n",
    "    # 재등장한 단어 인덱스의 BoW에 1 추가\n",
    "        index = word2index.get(voca)\n",
    "        bow[index] = bow[index] + 1"
   ]
  },
  {
   "cell_type": "code",
   "execution_count": 7,
   "id": "sophisticated-default",
   "metadata": {},
   "outputs": [
    {
     "name": "stdout",
     "output_type": "stream",
     "text": [
      "{'정부': 0, '가': 1, '발표': 2, '하는': 3, '물가상승률': 4, '과': 5, '소비자': 6, '느끼는': 7, '은': 8, '다르다': 9, '는': 10, '주로': 11, '소비': 12, '상품': 13, '을': 14, '기준': 15, '으로': 16, '느낀다': 17}\n"
     ]
    },
    {
     "data": {
      "text/plain": [
       "[1, 2, 1, 2, 3, 1, 2, 1, 1, 1, 1, 1, 1, 1, 2, 1, 1, 1]"
      ]
     },
     "execution_count": 7,
     "metadata": {},
     "output_type": "execute_result"
    }
   ],
   "source": [
    "print(word2index)\n",
    "bow"
   ]
  },
  {
   "cell_type": "markdown",
   "id": "unique-david",
   "metadata": {},
   "source": [
    "# 3. CountVectorizer 클래스로 BoW 만들기"
   ]
  },
  {
   "cell_type": "code",
   "execution_count": 8,
   "id": "unusual-shelter",
   "metadata": {},
   "outputs": [
    {
     "name": "stdout",
     "output_type": "stream",
     "text": [
      "[[1 1 2 1 2 1]]\n",
      "{'you': 4, 'know': 1, 'want': 3, 'your': 5, 'love': 2, 'because': 0}\n"
     ]
    }
   ],
   "source": [
    "from sklearn.feature_extraction.text import CountVectorizer\n",
    "corpus = [\"you know I want your love. because I love you.\"]\n",
    "vector = CountVectorizer()\n",
    "\n",
    "print(vector.fit_transform(corpus).toarray())\n",
    "print(vector.vocabulary_)\n",
    "# CountVectorizer는 기본으로 길이 2 이상인 문자에서만 토큰 인식\n",
    "# 단지 띄어쓰기만으로 진행한 낮은 수준의 토큰화라, 한국어 적용은 힘듦"
   ]
  },
  {
   "cell_type": "markdown",
   "id": "elder-german",
   "metadata": {},
   "source": [
    "# 4. 불용어를 제거한 BoW 만들기\n",
    "빈도수 기반 수치화로 텍스트 내에서 어떤 단어들이 중요한지 판단 가능   \n",
    "> **1) 사용자가 직접 정의한 불용어 사용**"
   ]
  },
  {
   "cell_type": "code",
   "execution_count": 9,
   "id": "certified-current",
   "metadata": {},
   "outputs": [
    {
     "name": "stdout",
     "output_type": "stream",
     "text": [
      "[[1 1 1 1 1]]\n",
      "{'family': 1, 'important': 2, 'thing': 4, 'it': 3, 'everything': 0}\n"
     ]
    }
   ],
   "source": [
    "from sklearn.feature_extraction.text import CountVectorizer\n",
    "text = [\"Family is not an important thing. It's everything\"]\n",
    "vect = CountVectorizer(stop_words=[\"the\", \"a\", \"an\", \"is\", \"not\"])\n",
    "\n",
    "print(vect.fit_transform(text).toarray())\n",
    "print(vect.vocabulary_)"
   ]
  },
  {
   "cell_type": "markdown",
   "id": "legendary-diana",
   "metadata": {},
   "source": [
    "> **2) CountVectorizer에서 제공하는 자체 불용어 사용**   "
   ]
  },
  {
   "cell_type": "code",
   "execution_count": 10,
   "id": "controversial-cuisine",
   "metadata": {},
   "outputs": [
    {
     "name": "stdout",
     "output_type": "stream",
     "text": [
      "[[1 1 1]]\n",
      "{'family': 0, 'important': 1, 'thing': 2}\n"
     ]
    }
   ],
   "source": [
    "from sklearn.feature_extraction.text import CountVectorizer\n",
    "text = [\"Family is not an important thing. It's everything.\"]\n",
    "vect = CountVectorizer(stop_words=\"english\")\n",
    "\n",
    "print(vect.fit_transform(text).toarray())\n",
    "print(vect.vocabulary_)"
   ]
  },
  {
   "cell_type": "markdown",
   "id": "raising-interface",
   "metadata": {},
   "source": [
    "> **3) NLTK에서 지원하는 불용어 사용**"
   ]
  },
  {
   "cell_type": "code",
   "execution_count": 11,
   "id": "center-history",
   "metadata": {},
   "outputs": [
    {
     "name": "stdout",
     "output_type": "stream",
     "text": [
      "[[1 1 1 1]]\n",
      "{'family': 1, 'important': 2, 'thing': 3, 'everything': 0}\n"
     ]
    }
   ],
   "source": [
    "from sklearn.feature_extraction.text import CountVectorizer\n",
    "from nltk.corpus import stopwords\n",
    "text = [\"Family is not an important thing. It's everything.\"]\n",
    "sw = stopwords.words(\"english\")\n",
    "vect = CountVectorizer(stop_words=sw)\n",
    "\n",
    "print(vect.fit_transform(text).toarray())\n",
    "print(vect.vocabulary_)"
   ]
  }
 ],
 "metadata": {
  "kernelspec": {
   "display_name": "Python 3",
   "language": "python",
   "name": "python3"
  },
  "language_info": {
   "codemirror_mode": {
    "name": "ipython",
    "version": 3
   },
   "file_extension": ".py",
   "mimetype": "text/x-python",
   "name": "python",
   "nbconvert_exporter": "python",
   "pygments_lexer": "ipython3",
   "version": "3.8.5"
  }
 },
 "nbformat": 4,
 "nbformat_minor": 5
}
