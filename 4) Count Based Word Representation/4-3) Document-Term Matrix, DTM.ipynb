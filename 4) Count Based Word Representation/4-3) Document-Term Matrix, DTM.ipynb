{
 "cells": [
  {
   "cell_type": "markdown",
   "id": "amateur-covering",
   "metadata": {},
   "source": [
    "# 1. 문서 단어 행렬(Document-Term Matrix, DTM)의 표기법\n",
    "서로 다른 문서에 등장하는 단어 빈도(BoW)를 행렬 결합한 표현   \n",
    "\n",
    "문서1: 먹고 싶은 사과   \n",
    "문서2: 먹고 싶은 바나나   \n",
    "문서3: 길고 노란 바나나 바나나   \n",
    "문서4: 저는 과일이 좋아요\n",
    "\n",
    "<null>|과일이|길고|노란|먹고|바나나|사과|싶은|저는|좋아요\n",
    ":--|:-:|:-:|:-:|:-:|:-:|:-:|:-:|:-:|:-:\n",
    "문서1|0|0|0|1|0|1|1|0|0\n",
    "문서2|0|0|0|1|1|0|1|0|0\n",
    "문서3|0|1|1|0|2|0|0|0|0\n",
    "문서4|1|0|0|0|0|0|0|1|1"
   ]
  },
  {
   "cell_type": "markdown",
   "id": "capable-dressing",
   "metadata": {},
   "source": [
    "# 2. 문서 단어 행렬(Document-Term Matrix)의 한계\n",
    "> **1) 희소 표현(Sparse representation)**   \n",
    "> 문서 벡터는 대부분 0의 값을 가지며, 원-핫 벡터처럼 corpus 크기로 문서 벡터의 차원이 결정됨  \n",
    "> 해결책으로 전처리를 통해 단어 집합의 크기를 줄임   \n",
    "> 텍스트 전처리: 구두점, 불용어, 빈도수 낮은 단어 제거와 어간/표제어 추출을 통한 단어 정규화"
   ]
  },
  {
   "cell_type": "markdown",
   "id": "incorporated-filter",
   "metadata": {},
   "source": [
    "> **2) 단순 빈도수 기반 접근**   \n",
    "> 불용어 the는 어떤 문서든 자주 등장, 문서마다 the의 빈도수가 높다고 유사한 문서는 아님   \n",
    "> TF-IDF는 이같은 불용어와 중요 단어에 대해 가중치 부여"
   ]
  }
 ],
 "metadata": {
  "kernelspec": {
   "display_name": "Python 3",
   "language": "python",
   "name": "python3"
  },
  "language_info": {
   "codemirror_mode": {
    "name": "ipython",
    "version": 3
   },
   "file_extension": ".py",
   "mimetype": "text/x-python",
   "name": "python",
   "nbconvert_exporter": "python",
   "pygments_lexer": "ipython3",
   "version": "3.8.5"
  }
 },
 "nbformat": 4,
 "nbformat_minor": 5
}
