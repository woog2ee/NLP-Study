{
 "cells": [
  {
   "cell_type": "markdown",
   "id": "sublime-george",
   "metadata": {},
   "source": [
    "# 1. 단어의 표현 방법\n",
    "국소 표현(Local Representation): 단어 자체만 보고 특정값을 매핑해 표현   \n",
    "분산 표현(Distributed Representation): 주변 단어를 참고해 단어 뉘앙스를 표현 가능"
   ]
  },
  {
   "cell_type": "markdown",
   "id": "uniform-lender",
   "metadata": {},
   "source": [
    "# 2. 단어 표현의 카테고리화\n",
    "- Local Representation\n",
    "    - One-hot Vector\n",
    "    - N-gram\n",
    "    - Count Based\n",
    "        - Bag of Words(DTM)\n",
    "    \n",
    "- Continuous Representation\n",
    "    - Prediction Based\n",
    "        - Word2Vec(FastText)\n",
    "    - Count Based\n",
    "        - (Full Document) LSA\n",
    "        - (Windows, also Prediction Based) GloVe   \n",
    "\n",
    "Bag of Words: 빈도수 기반 수치화   \n",
    "DTM: BoW의 확장   \n",
    "TF-IDF: 빈도수 기반 단어 표현에 중요도에 따른 가중치 부여   \n",
    "LSA: 연속 표현으로 단어 뉘앙스를 반영   \n",
    "Word2Vec: 연속 표현으로 예측 기반의 단어 뉘앙스 표현   \n",
    "FastText: Word2Vec의 확장   \n",
    "GloVe: 카운트와 예측 모두 사용"
   ]
  }
 ],
 "metadata": {
  "kernelspec": {
   "display_name": "Python 3",
   "language": "python",
   "name": "python3"
  },
  "language_info": {
   "codemirror_mode": {
    "name": "ipython",
    "version": 3
   },
   "file_extension": ".py",
   "mimetype": "text/x-python",
   "name": "python",
   "nbconvert_exporter": "python",
   "pygments_lexer": "ipython3",
   "version": "3.8.5"
  }
 },
 "nbformat": 4,
 "nbformat_minor": 5
}
